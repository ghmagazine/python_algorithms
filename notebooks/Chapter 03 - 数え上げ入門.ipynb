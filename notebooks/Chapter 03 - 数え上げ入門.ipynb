{
 "cells": [
  {
   "cell_type": "markdown",
   "metadata": {
    "toc": true
   },
   "source": [
    "<h1>Table of Contents<span class=\"tocSkip\"></span></h1>\n",
    "<div class=\"toc\"><ul class=\"toc-item\"><li><span><a href=\"#3-1-総和をひとかじり\" data-toc-modified-id=\"3-1-総和をひとかじり-1\">3-1 総和をひとかじり</a></span><ul class=\"toc-item\"><li><span><a href=\"#ギリシャ語をまた少し\" data-toc-modified-id=\"ギリシャ語をまた少し-1.1\">ギリシャ語をまた少し</a></span></li><li><span><a href=\"#総和を使ってみる\" data-toc-modified-id=\"総和を使ってみる-1.2\">総和を使ってみる</a></span></li></ul></li><li><span><a href=\"#3-2-トーナメントに関する2つの物語\" data-toc-modified-id=\"3-2-トーナメントに関する2つの物語-2\">3-2 トーナメントに関する2つの物語</a></span><ul class=\"toc-item\"><li><span><a href=\"#コラム：なぜ二進数が使えるのか\" data-toc-modified-id=\"コラム：なぜ二進数が使えるのか-2.1\">コラム：なぜ二進数が使えるのか</a></span></li></ul></li><li><span><a href=\"#3−3-部分集合と並べ替えと組み合わせ\" data-toc-modified-id=\"3−3-部分集合と並べ替えと組み合わせ-3\">3−3 部分集合と並べ替えと組み合わせ</a></span><ul class=\"toc-item\"><li><span><a href=\"#コラム：擬似多項式時間\" data-toc-modified-id=\"コラム：擬似多項式時間-3.1\">コラム：擬似多項式時間</a></span></li></ul></li><li><span><a href=\"#3−4-再帰と漸化式\" data-toc-modified-id=\"3−4-再帰と漸化式-4\">3−4 再帰と漸化式</a></span></li></ul></div>"
   ]
  },
  {
   "cell_type": "markdown",
   "metadata": {},
   "source": [
    "# 3-1 総和をひとかじり"
   ]
  },
  {
   "cell_type": "markdown",
   "metadata": {},
   "source": [
    "## ギリシャ語をまた少し\n",
    "Pythonでは、総和の演算を以下のように書くことができます。"
   ]
  },
  {
   "cell_type": "code",
   "execution_count": 1,
   "metadata": {
    "ExecuteTime": {
     "end_time": "2020-11-05T15:54:16.734555Z",
     "start_time": "2020-11-05T15:54:16.724696Z"
    }
   },
   "outputs": [
    {
     "data": {
      "text/plain": [
       "True"
      ]
     },
     "execution_count": 1,
     "metadata": {},
     "output_type": "execute_result"
    }
   ],
   "source": [
    "x = 3\n",
    "S = [1, 2, 3]\n",
    "\n",
    "x * sum(S) == sum(x * y for y in S)"
   ]
  },
  {
   "cell_type": "markdown",
   "metadata": {
    "ExecuteTime": {
     "end_time": "2020-11-01T04:38:27.699294Z",
     "start_time": "2020-11-01T04:38:27.695589Z"
    }
   },
   "source": [
    "一方、数学的表記では、このように書くことができます。"
   ]
  },
  {
   "cell_type": "markdown",
   "metadata": {},
   "source": [
    "$$\n",
    "\\begin{align*}x \\cdot \\sum_{y \\in S} y = \\sum_{y\\in S} xy\\end{align*}\n",
    "$$"
   ]
  },
  {
   "cell_type": "markdown",
   "metadata": {},
   "source": [
    "一般的な表現「$f(i)$の総和を$i=m$から$n$まで計算する」は次のように書かれます。"
   ]
  },
  {
   "cell_type": "markdown",
   "metadata": {
    "ExecuteTime": {
     "end_time": "2020-05-17T22:43:44.909656Z",
     "start_time": "2020-05-17T22:43:44.905500Z"
    }
   },
   "source": [
    "$$\\sum_{i=m}^{n} f(i)$$"
   ]
  },
  {
   "cell_type": "markdown",
   "metadata": {},
   "source": [
    "Pythonではこれを以下のように書きます。"
   ]
  },
  {
   "cell_type": "code",
   "execution_count": 2,
   "metadata": {
    "ExecuteTime": {
     "end_time": "2020-11-05T15:54:17.680639Z",
     "start_time": "2020-11-05T15:54:17.675243Z"
    }
   },
   "outputs": [
    {
     "data": {
      "text/plain": [
       "110"
      ]
     },
     "execution_count": 2,
     "metadata": {},
     "output_type": "execute_result"
    }
   ],
   "source": [
    "def f(x):\n",
    "    return 2 * x\n",
    "\n",
    "\n",
    "m = 0\n",
    "n = 10\n",
    "\n",
    "sum(f(i) for i in range(m, n + 1))"
   ]
  },
  {
   "cell_type": "markdown",
   "metadata": {},
   "source": [
    "多くのプログラマにとっては、以下のようにループを使って総和を考えた方が分かりやすいかもしれません。"
   ]
  },
  {
   "cell_type": "code",
   "execution_count": 3,
   "metadata": {
    "ExecuteTime": {
     "end_time": "2020-11-05T15:54:17.866234Z",
     "start_time": "2020-11-05T15:54:17.862136Z"
    }
   },
   "outputs": [
    {
     "data": {
      "text/plain": [
       "110"
      ]
     },
     "execution_count": 3,
     "metadata": {},
     "output_type": "execute_result"
    }
   ],
   "source": [
    "s = 0\n",
    "for i in range(m, n+1):\n",
    "    s += f(i)\n",
    "s"
   ]
  },
  {
   "cell_type": "markdown",
   "metadata": {},
   "source": [
    "## 総和を使ってみる\n",
    "\n",
    "例題の式では、係数$x$は総和の中に移動していましたが、これは総和の演算をするときに使用できる便利な「法則」の1つです。（私たちにとって）**最も重要な2つの法則**をまとめると、以下の式になります。"
   ]
  },
  {
   "cell_type": "markdown",
   "metadata": {},
   "source": [
    "$$\\sum_{i=m}^n f(i) + \\sum_{i=m}^n g(i) = \\sum_{i=m}^n (f(i) + g(i))$$"
   ]
  },
  {
   "cell_type": "markdown",
   "metadata": {},
   "source": [
    "2つの総和を足す代わりに、2つの要素を先に足してから、その総和をとっても同じ答えになります。"
   ]
  },
  {
   "cell_type": "code",
   "execution_count": 4,
   "metadata": {
    "ExecuteTime": {
     "end_time": "2020-11-05T15:54:18.358742Z",
     "start_time": "2020-11-05T15:54:18.353228Z"
    }
   },
   "outputs": [
    {
     "data": {
      "text/plain": [
       "30"
      ]
     },
     "execution_count": 4,
     "metadata": {},
     "output_type": "execute_result"
    }
   ],
   "source": [
    "S = [1, 2, 3]\n",
    "\n",
    "\n",
    "def f(x):\n",
    "    return 2 * x\n",
    "\n",
    "\n",
    "def g(x):\n",
    "    return 3 * x\n",
    "\n",
    "sum(f(i) for i in S) + sum(g(i) for i in S)"
   ]
  },
  {
   "cell_type": "markdown",
   "metadata": {
    "ExecuteTime": {
     "end_time": "2020-11-01T04:27:10.134010Z",
     "start_time": "2020-11-01T04:27:10.130295Z"
    }
   },
   "source": [
    "つまり、上の式は、以下の式とまったく一緒です。"
   ]
  },
  {
   "cell_type": "code",
   "execution_count": 5,
   "metadata": {
    "ExecuteTime": {
     "end_time": "2020-11-05T15:54:18.521811Z",
     "start_time": "2020-11-05T15:54:18.517206Z"
    }
   },
   "outputs": [
    {
     "data": {
      "text/plain": [
       "30"
      ]
     },
     "execution_count": 5,
     "metadata": {},
     "output_type": "execute_result"
    }
   ],
   "source": [
    "sum(f(i) + g(i) for i in S)"
   ]
  },
  {
   "cell_type": "markdown",
   "metadata": {},
   "source": [
    "# 3-2 トーナメントに関する2つの物語"
   ]
  },
  {
   "cell_type": "markdown",
   "metadata": {},
   "source": [
    "## コラム：なぜ二進数が使えるのか\n",
    "\n",
    "対数時間アルゴリズムと指数時間アルゴリズムの違いを理解するために、以下のような「数当てゲーム」をしてみましょう。"
   ]
  },
  {
   "cell_type": "code",
   "execution_count": 6,
   "metadata": {
    "ExecuteTime": {
     "end_time": "2020-11-05T15:54:18.847926Z",
     "start_time": "2020-11-05T15:54:18.845187Z"
    }
   },
   "outputs": [],
   "source": [
    "from random import randrange\n",
    "n = 10**90\n",
    "p = randrange(10**90)"
   ]
  },
  {
   "cell_type": "markdown",
   "metadata": {},
   "source": [
    "いま、ある不明の粒子（粒子番号p）を「はい」か「いいえ」のみで答える質問だけで調べていきます（みなさんは、このpの値を見ないでくださいね）。非効率な質問の例は以下のようなものです。"
   ]
  },
  {
   "cell_type": "code",
   "execution_count": 7,
   "metadata": {
    "ExecuteTime": {
     "end_time": "2020-11-05T15:54:19.046117Z",
     "start_time": "2020-11-05T15:54:19.039696Z"
    }
   },
   "outputs": [
    {
     "data": {
      "text/plain": [
       "False"
      ]
     },
     "execution_count": 7,
     "metadata": {},
     "output_type": "execute_result"
    }
   ],
   "source": [
    "p == 52561927548332435090282755894003484804019842420331"
   ]
  },
  {
   "cell_type": "markdown",
   "metadata": {},
   "source": [
    "一番良い方法は、「はい」か「いいえ」の質問で残りの選択の数を半分にすることです。例えば、"
   ]
  },
  {
   "cell_type": "code",
   "execution_count": 8,
   "metadata": {
    "ExecuteTime": {
     "end_time": "2020-11-05T15:54:19.217105Z",
     "start_time": "2020-11-05T15:54:19.213153Z"
    }
   },
   "outputs": [
    {
     "data": {
      "text/plain": [
       "True"
      ]
     },
     "execution_count": 8,
     "metadata": {},
     "output_type": "execute_result"
    }
   ],
   "source": [
    "p < n/2"
   ]
  },
  {
   "cell_type": "markdown",
   "metadata": {},
   "source": [
    "毎回候補を半分に絞ることができれば、300の質問以下で答えに到達できます。以下のようにみなさんもご自身で必要な質問回数を計算できます。"
   ]
  },
  {
   "cell_type": "code",
   "execution_count": 9,
   "metadata": {
    "ExecuteTime": {
     "end_time": "2020-11-05T15:54:19.386987Z",
     "start_time": "2020-11-05T15:54:19.382217Z"
    }
   },
   "outputs": [
    {
     "data": {
      "text/plain": [
       "298.9735285398626"
      ]
     },
     "execution_count": 9,
     "metadata": {},
     "output_type": "execute_result"
    }
   ],
   "source": [
    "from math import log\n",
    "log(n, 2)  # base-two logarithm"
   ]
  },
  {
   "cell_type": "markdown",
   "metadata": {},
   "source": [
    "# 3−3 部分集合と並べ替えと組み合わせ"
   ]
  },
  {
   "cell_type": "markdown",
   "metadata": {},
   "source": [
    "## コラム：擬似多項式時間\n",
    "素数かどうかを確認する問題、それは「この数字は素数か」という質問に答える問題を考えてみましょう。\n",
    "\n",
    "以下に直接的な方法を紹介します。"
   ]
  },
  {
   "cell_type": "code",
   "execution_count": 10,
   "metadata": {
    "ExecuteTime": {
     "end_time": "2020-11-05T15:54:19.723650Z",
     "start_time": "2020-11-05T15:54:19.720204Z"
    }
   },
   "outputs": [],
   "source": [
    "def is_prime(n):\n",
    "    for i in range(2, n):\n",
    "        if n % i == 0:\n",
    "            return False\n",
    "    return True"
   ]
  },
  {
   "cell_type": "code",
   "execution_count": 11,
   "metadata": {
    "ExecuteTime": {
     "end_time": "2020-11-05T15:54:19.730777Z",
     "start_time": "2020-11-05T15:54:19.726560Z"
    }
   },
   "outputs": [
    {
     "data": {
      "text/plain": [
       "True"
      ]
     },
     "execution_count": 11,
     "metadata": {},
     "output_type": "execute_result"
    }
   ],
   "source": [
    "is_prime(13)"
   ]
  },
  {
   "cell_type": "markdown",
   "metadata": {},
   "source": [
    "# 3−4 再帰と漸化式"
   ]
  },
  {
   "cell_type": "markdown",
   "metadata": {},
   "source": [
    "**再帰**とは、直接もしくは間接的に自分自身を呼び出している関数のことを言います。再帰的にシーケンスの和を計算している簡単な例が以下です。"
   ]
  },
  {
   "cell_type": "code",
   "execution_count": 12,
   "metadata": {
    "ExecuteTime": {
     "end_time": "2020-11-05T15:54:20.120645Z",
     "start_time": "2020-11-05T15:54:20.117164Z"
    }
   },
   "outputs": [],
   "source": [
    "def S(seq, i=0):\n",
    "    if i == len(seq):\n",
    "        return 0\n",
    "    return S(seq, i+1) + seq[i]"
   ]
  },
  {
   "cell_type": "markdown",
   "metadata": {},
   "source": [
    "一方、以下の新しい関数`T`は、コストを表す関数で、`S`とほぼ同じ構造を持っていますが、扱っている値が異なります。`S`のように部分問題に対する答えを返すのではなく、`T`はその答えを探すコストを返しています。"
   ]
  },
  {
   "cell_type": "code",
   "execution_count": 13,
   "metadata": {
    "ExecuteTime": {
     "end_time": "2020-11-05T15:54:20.321871Z",
     "start_time": "2020-11-05T15:54:20.318003Z"
    }
   },
   "outputs": [],
   "source": [
    "def T(seq, i=0):\n",
    "    if i == len(seq):\n",
    "        return 1\n",
    "    return T(seq, i+1) + 1"
   ]
  },
  {
   "cell_type": "markdown",
   "metadata": {},
   "source": [
    "まずは、これら2つの関数を試してみましょう。"
   ]
  },
  {
   "cell_type": "code",
   "execution_count": 14,
   "metadata": {
    "ExecuteTime": {
     "end_time": "2020-11-05T15:54:20.519509Z",
     "start_time": "2020-11-05T15:54:20.515564Z"
    }
   },
   "outputs": [
    {
     "data": {
      "text/plain": [
       "5050"
      ]
     },
     "execution_count": 14,
     "metadata": {},
     "output_type": "execute_result"
    }
   ],
   "source": [
    "seq = range(1, 101)\n",
    "S(seq)"
   ]
  },
  {
   "cell_type": "markdown",
   "metadata": {},
   "source": [
    "Gaussは正しかったようですね。実行時間も見てみましょう。"
   ]
  },
  {
   "cell_type": "code",
   "execution_count": 15,
   "metadata": {
    "ExecuteTime": {
     "end_time": "2020-11-05T15:54:20.695125Z",
     "start_time": "2020-11-05T15:54:20.690670Z"
    }
   },
   "outputs": [
    {
     "data": {
      "text/plain": [
       "101"
      ]
     },
     "execution_count": 15,
     "metadata": {},
     "output_type": "execute_result"
    }
   ],
   "source": [
    "T(seq)"
   ]
  },
  {
   "cell_type": "markdown",
   "metadata": {},
   "source": [
    "これも正しいように見えます。ここでは、大きさ$n$が$100$なので、実行時間が$n+1$になっていますね。つまり一般的には以下のようなことが言えるということです。"
   ]
  },
  {
   "cell_type": "code",
   "execution_count": 16,
   "metadata": {
    "ExecuteTime": {
     "end_time": "2020-11-05T15:54:20.876636Z",
     "start_time": "2020-11-05T15:54:20.872321Z"
    }
   },
   "outputs": [],
   "source": [
    "for n in range(100):\n",
    "    seq = range(n)\n",
    "    assert T(seq) == n + 1"
   ]
  },
  {
   "cell_type": "markdown",
   "metadata": {},
   "source": [
    "エラーは発生しないので、仮説は正しいと言えそうです。"
   ]
  }
 ],
 "metadata": {
  "hide_input": false,
  "kernelspec": {
   "display_name": "Python (py36)",
   "language": "python",
   "name": "py36"
  },
  "language_info": {
   "codemirror_mode": {
    "name": "ipython",
    "version": 3
   },
   "file_extension": ".py",
   "mimetype": "text/x-python",
   "name": "python",
   "nbconvert_exporter": "python",
   "pygments_lexer": "ipython3",
   "version": "3.6.7"
  },
  "toc": {
   "base_numbering": 1,
   "nav_menu": {},
   "number_sections": false,
   "sideBar": true,
   "skip_h1_title": false,
   "title_cell": "Table of Contents",
   "title_sidebar": "Contents",
   "toc_cell": true,
   "toc_position": {},
   "toc_section_display": true,
   "toc_window_display": true
  },
  "varInspector": {
   "cols": {
    "lenName": 16,
    "lenType": 16,
    "lenVar": 40
   },
   "kernels_config": {
    "python": {
     "delete_cmd_postfix": "",
     "delete_cmd_prefix": "del ",
     "library": "var_list.py",
     "varRefreshCmd": "print(var_dic_list())"
    },
    "r": {
     "delete_cmd_postfix": ") ",
     "delete_cmd_prefix": "rm(",
     "library": "var_list.r",
     "varRefreshCmd": "cat(var_dic_list()) "
    }
   },
   "types_to_exclude": [
    "module",
    "function",
    "builtin_function_or_method",
    "instance",
    "_Feature"
   ],
   "window_display": false
  }
 },
 "nbformat": 4,
 "nbformat_minor": 2
}

{
 "cells": [
  {
   "cell_type": "markdown",
   "metadata": {
    "toc": true
   },
   "source": [
    "<h1>Table of Contents<span class=\"tocSkip\"></span></h1>\n",
    "<div class=\"toc\"><ul class=\"toc-item\"><li><span><a href=\"#1-2-本書を読む理由（なぜ、あなたはここにたどり着いたのか？)\" data-toc-modified-id=\"1-2-本書を読む理由（なぜ、あなたはここにたどり着いたのか？)-1\">1-2 本書を読む理由（なぜ、あなたはここにたどり着いたのか？)</a></span></li></ul></div>"
   ]
  },
  {
   "cell_type": "markdown",
   "metadata": {},
   "source": [
    "## 1-2 本書を読む理由（なぜ、あなたはここにたどり着いたのか？)\n",
    "プログラムがある程度大きくなると、実行時間の違いは、言語やハードウェアの違いによる差を圧倒します。小さな実験をしてみましょう。\n",
    "Pythonインタープリタを起動し、次のコードを入力してみてください。"
   ]
  },
  {
   "cell_type": "code",
   "execution_count": 1,
   "metadata": {
    "ExecuteTime": {
     "end_time": "2020-10-30T05:13:54.691369Z",
     "start_time": "2020-10-30T05:13:54.668385Z"
    }
   },
   "outputs": [
    {
     "data": {
      "text/plain": [
       "0.013468027114868164"
      ]
     },
     "execution_count": 1,
     "metadata": {},
     "output_type": "execute_result"
    }
   ],
   "source": [
    "from time import *\n",
    "t0 = time()\n",
    "count = 10**5  \n",
    "nums = []\n",
    "for i in range(count):\n",
    "    nums.append(i)\n",
    "nums.reverse()\n",
    "t1 = time() - t0\n",
    "t1"
   ]
  },
  {
   "cell_type": "markdown",
   "metadata": {},
   "source": [
    "最後にリストを反転させる代わりに、数字が現れた順番にリストの先頭に挿入できないでしょうか？"
   ]
  },
  {
   "cell_type": "markdown",
   "metadata": {},
   "source": [
    "このような状況に遭遇したことがない限り、この2つ目のコードに期待してしまいそうですが、試しに実行してみてください。おそらく、はっきりとスピードが落ちていることに気がつくはずです。私のコンピュータでは、1つ目のコードより2つ目のコードが200倍以上も時間がかかっています。2つ目のコードは、単に遅いだけでなく、問題のサイズが大きくなるにつれて一層遅くなっていきます。例えば、`count`を`10**5`から`10**6`に増やしてみてください。"
   ]
  },
  {
   "cell_type": "code",
   "execution_count": 2,
   "metadata": {
    "ExecuteTime": {
     "end_time": "2020-10-30T05:13:57.435864Z",
     "start_time": "2020-10-30T05:13:54.784081Z"
    }
   },
   "outputs": [
    {
     "data": {
      "text/plain": [
       "2.6480400562286377"
      ]
     },
     "execution_count": 2,
     "metadata": {},
     "output_type": "execute_result"
    }
   ],
   "source": [
    "t0 = time()\n",
    "nums = []\n",
    "for i in range(count):\n",
    "    nums.insert(0, i)\n",
    "t2 = time() - t0\n",
    "t2"
   ]
  }
 ],
 "metadata": {
  "hide_input": false,
  "kernelspec": {
   "display_name": "Python (py36)",
   "language": "python",
   "name": "py36"
  },
  "language_info": {
   "codemirror_mode": {
    "name": "ipython",
    "version": 3
   },
   "file_extension": ".py",
   "mimetype": "text/x-python",
   "name": "python",
   "nbconvert_exporter": "python",
   "pygments_lexer": "ipython3",
   "version": "3.6.7"
  },
  "toc": {
   "base_numbering": 1,
   "nav_menu": {},
   "number_sections": false,
   "sideBar": true,
   "skip_h1_title": false,
   "title_cell": "Table of Contents",
   "title_sidebar": "Contents",
   "toc_cell": true,
   "toc_position": {},
   "toc_section_display": true,
   "toc_window_display": true
  },
  "varInspector": {
   "cols": {
    "lenName": 16,
    "lenType": 16,
    "lenVar": 40
   },
   "kernels_config": {
    "python": {
     "delete_cmd_postfix": "",
     "delete_cmd_prefix": "del ",
     "library": "var_list.py",
     "varRefreshCmd": "print(var_dic_list())"
    },
    "r": {
     "delete_cmd_postfix": ") ",
     "delete_cmd_prefix": "rm(",
     "library": "var_list.r",
     "varRefreshCmd": "cat(var_dic_list()) "
    }
   },
   "types_to_exclude": [
    "module",
    "function",
    "builtin_function_or_method",
    "instance",
    "_Feature"
   ],
   "window_display": false
  }
 },
 "nbformat": 4,
 "nbformat_minor": 2
}

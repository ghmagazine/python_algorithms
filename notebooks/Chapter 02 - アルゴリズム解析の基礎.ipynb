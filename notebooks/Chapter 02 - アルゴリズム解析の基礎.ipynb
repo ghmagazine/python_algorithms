{
 "cells": [
  {
   "cell_type": "markdown",
   "metadata": {
    "toc": true
   },
   "source": [
    "<h1>Table of Contents<span class=\"tocSkip\"></span></h1>\n",
    "<div class=\"toc\"><ul class=\"toc-item\"><li><span><a href=\"#2-2-漸近記法\" data-toc-modified-id=\"2-2-漸近記法-1\">2-2 漸近記法</a></span><ul class=\"toc-item\"><li><span><a href=\"#「ブラックボックス」コラム-list\" data-toc-modified-id=\"「ブラックボックス」コラム-list-1.1\">「ブラックボックス」コラム <code>list</code></a></span></li><li><span><a href=\"#漸近法の試し乗り\" data-toc-modified-id=\"漸近法の試し乗り-1.2\">漸近法の試し乗り</a></span></li><li><span><a href=\"#3つの大事なケース\" data-toc-modified-id=\"3つの大事なケース-1.3\">3つの大事なケース</a></span></li><li><span><a href=\"#実験に基づいたアルゴリズムの評価\" data-toc-modified-id=\"実験に基づいたアルゴリズムの評価-1.4\">実験に基づいたアルゴリズムの評価</a></span><ul class=\"toc-item\"><li><span><a href=\"#ヒント2　時間測定にはtimeitを使おう\" data-toc-modified-id=\"ヒント2　時間測定にはtimeitを使おう-1.4.1\">ヒント2　時間測定にはtimeitを使おう</a></span></li></ul></li></ul></li><li><span><a href=\"#2-3-グラフと木構造の実装\" data-toc-modified-id=\"2-3-グラフと木構造の実装-2\">2-3 グラフと木構造の実装</a></span><ul class=\"toc-item\"><li><span><a href=\"#「ブラックボックス」コラム-dictとset\" data-toc-modified-id=\"「ブラックボックス」コラム-dictとset-2.1\">「ブラックボックス」コラム <code>dict</code>と<code>set</code></a></span></li><li><span><a href=\"#隣接リストなど\" data-toc-modified-id=\"隣接リストなど-2.2\">隣接リストなど</a></span></li><li><span><a href=\"#リスト2-1-隣接セットの直接的な表現\" data-toc-modified-id=\"リスト2-1-隣接セットの直接的な表現-2.3\">リスト2-1 隣接セットの直接的な表現</a></span></li><li><span><a href=\"#リスト2-2-隣接リスト\" data-toc-modified-id=\"リスト2-2-隣接リスト-2.4\">リスト2-2 隣接リスト</a></span></li><li><span><a href=\"#リスト2-3-エッジと重みの隣接辞書\" data-toc-modified-id=\"リスト2-3-エッジと重みの隣接辞書-2.5\">リスト2-3 エッジと重みの隣接辞書</a></span></li><li><span><a href=\"#リスト2-4-辞書と隣接セット\" data-toc-modified-id=\"リスト2-4-辞書と隣接セット-2.6\">リスト2-4 辞書と隣接セット</a></span></li><li><span><a href=\"#リスト2-5-入れ子構造のリストを使った隣接行列\" data-toc-modified-id=\"リスト2-5-入れ子構造のリストを使った隣接行列-2.7\">リスト2-5 入れ子構造のリストを使った隣接行列</a></span></li><li><span><a href=\"#リスト2-6-エッジがない場所には無限大の重みを使った重み付き行列\" data-toc-modified-id=\"リスト2-6-エッジがない場所には無限大の重みを使った重み付き行列-2.8\">リスト2-6 エッジがない場所には無限大の重みを使った重み付き行列</a></span></li><li><span><a href=\"#コラム：特殊な目的のNumPy配列\" data-toc-modified-id=\"コラム：特殊な目的のNumPy配列-2.9\">コラム：特殊な目的のNumPy配列</a></span></li><li><span><a href=\"#木構造の実装\" data-toc-modified-id=\"木構造の実装-2.10\">木構造の実装</a></span></li><li><span><a href=\"#リスト2-7-二分木クラス\" data-toc-modified-id=\"リスト2-7-二分木クラス-2.11\">リスト2-7 二分木クラス</a></span></li><li><span><a href=\"#リスト2-8-多分木クラス\" data-toc-modified-id=\"リスト2-8-多分木クラス-2.12\">リスト2-8 多分木クラス</a></span></li><li><span><a href=\"#コラム：Bunchパターン\" data-toc-modified-id=\"コラム：Bunchパターン-2.13\">コラム：Bunchパターン</a></span></li></ul></li><li><span><a href=\"#2−4-ブラックボックスにご注意を\" data-toc-modified-id=\"2−4-ブラックボックスにご注意を-3\">2−4 ブラックボックスにご注意を</a></span><ul class=\"toc-item\"><li><span><a href=\"#隠れた二乗項\" data-toc-modified-id=\"隠れた二乗項-3.1\">隠れた二乗項</a></span></li><li><span><a href=\"#浮動小数点を使うときの問題\" data-toc-modified-id=\"浮動小数点を使うときの問題-3.2\">浮動小数点を使うときの問題</a></span></li></ul></li></ul></div>"
   ]
  },
  {
   "cell_type": "markdown",
   "metadata": {},
   "source": [
    "# 2-2 漸近記法"
   ]
  },
  {
   "cell_type": "markdown",
   "metadata": {
    "ExecuteTime": {
     "end_time": "2019-09-03T03:46:30.767504Z",
     "start_time": "2019-09-03T03:46:30.764418Z"
    }
   },
   "source": [
    "## 「ブラックボックス」コラム `list`\n",
    "\n",
    "Pythonのリストは、伝統的なコンピュータサイエンスの意味でのリストではありません。それを理解すれば、なぜappendが圧倒的にinsertより効率的なのかが分かります。従来のリスト（いわゆる連結リスト）は、（最後のノードを例外として）各ノードが次のノードを参照している、連続したノードとして実装されています。単純な実装は次のようになります。"
   ]
  },
  {
   "cell_type": "code",
   "execution_count": 1,
   "metadata": {
    "ExecuteTime": {
     "end_time": "2020-10-30T06:33:18.036579Z",
     "start_time": "2020-10-30T06:33:18.033401Z"
    }
   },
   "outputs": [],
   "source": [
    "class Node:\n",
    "    def __init__(self, value, next=None):\n",
    "        self.value = value\n",
    "        self.next = next"
   ]
  },
  {
   "cell_type": "markdown",
   "metadata": {},
   "source": [
    "リストを作るには、次のようにすべてのノードを指定します。"
   ]
  },
  {
   "cell_type": "code",
   "execution_count": 2,
   "metadata": {
    "ExecuteTime": {
     "end_time": "2020-10-30T06:33:18.416642Z",
     "start_time": "2020-10-30T06:33:18.407464Z"
    }
   },
   "outputs": [
    {
     "data": {
      "text/plain": [
       "'c'"
      ]
     },
     "execution_count": 2,
     "metadata": {},
     "output_type": "execute_result"
    }
   ],
   "source": [
    "L = Node(\"a\", Node(\"b\", Node(\"c\", Node(\"d\"))))\n",
    "L.next.next.value"
   ]
  },
  {
   "cell_type": "markdown",
   "metadata": {},
   "source": [
    "## 漸近法の試し乗り\n",
    "\n",
    "ループがない場合は、シンプルです。1行実行し、また次の1行を実行する。そのたびに計算量が足されていきます。例えば、大きさ$n$のリストに対して、appendするのは、$\\Theta(1)$ですが、位置0の場所に`insert`するのは$\\Theta(n)$かかります。次のような2行のコードを考えてみてください。`nums`は大きさ$n$のリストです。（この例では$n=1000$です。）"
   ]
  },
  {
   "cell_type": "code",
   "execution_count": 3,
   "metadata": {
    "ExecuteTime": {
     "end_time": "2020-10-30T06:33:18.812828Z",
     "start_time": "2020-10-30T06:33:18.808790Z"
    }
   },
   "outputs": [
    {
     "name": "stdout",
     "output_type": "stream",
     "text": [
      "[2, 0, 0, 0, 0] [0, 0, 0, 0, 1]\n"
     ]
    }
   ],
   "source": [
    "n = 1000\n",
    "nums = [0]*n\n",
    "nums.append(1)\n",
    "nums.insert(0, 2)\n",
    "print(nums[:5], nums[-5:])"
   ]
  },
  {
   "cell_type": "markdown",
   "metadata": {},
   "source": [
    "今度は、簡単なループを考えてみましょう。$n$個の要素を持った（`seq = range(n)`など数字の）配列をforループで走査するとします。\n",
    "これは、定数時間の演算（`s += x`）を`seq`の$n$個の要素に対して行うので、線形時間 $\\Theta(n)$になります。定数時間の初期化の行（`s = 0`）はループが支配的なので無視できます。"
   ]
  },
  {
   "cell_type": "code",
   "execution_count": 4,
   "metadata": {
    "ExecuteTime": {
     "end_time": "2020-10-30T06:33:19.223464Z",
     "start_time": "2020-10-30T06:33:19.219005Z"
    }
   },
   "outputs": [
    {
     "data": {
      "text/plain": [
       "range(0, 10)"
      ]
     },
     "execution_count": 4,
     "metadata": {},
     "output_type": "execute_result"
    }
   ],
   "source": [
    "seq = range(10)\n",
    "s = 0\n",
    "for x in seq:\n",
    "    s += x\n",
    "\n",
    "seq"
   ]
  },
  {
   "cell_type": "markdown",
   "metadata": {},
   "source": [
    "例えば、次のリスト内包表記も線形時間です。"
   ]
  },
  {
   "cell_type": "code",
   "execution_count": 5,
   "metadata": {
    "ExecuteTime": {
     "end_time": "2020-10-30T06:33:19.547425Z",
     "start_time": "2020-10-30T06:33:19.543992Z"
    }
   },
   "outputs": [
    {
     "data": {
      "text/plain": [
       "[0, 1, 4, 9, 16, 25, 36, 49, 64, 81]"
      ]
     },
     "execution_count": 5,
     "metadata": {},
     "output_type": "execute_result"
    }
   ],
   "source": [
    "squares = [x**2 for x in seq]\n",
    "squares"
   ]
  },
  {
   "cell_type": "markdown",
   "metadata": {},
   "source": [
    "ループを入れ子構造にすると、少し複雑になっていきます。ここで、seq内の要素について、すべての組み合わせの積を考え、それらを足し上げたいとします。以下がその例です。"
   ]
  },
  {
   "cell_type": "code",
   "execution_count": 6,
   "metadata": {
    "ExecuteTime": {
     "end_time": "2020-10-30T06:33:19.895438Z",
     "start_time": "2020-10-30T06:33:19.891214Z"
    }
   },
   "outputs": [
    {
     "data": {
      "text/plain": [
       "2025"
      ]
     },
     "execution_count": 6,
     "metadata": {},
     "output_type": "execute_result"
    }
   ],
   "source": [
    "s = 0\n",
    "for x in seq:\n",
    "    for y in seq:\n",
    "        s += x*y\n",
    "\n",
    "s"
   ]
  },
  {
   "cell_type": "markdown",
   "metadata": {},
   "source": [
    "連続したケースと入れ子のケースを混ぜることも当然できます。次のような少し発展系を考えてみましょう。"
   ]
  },
  {
   "cell_type": "code",
   "execution_count": 7,
   "metadata": {
    "ExecuteTime": {
     "end_time": "2020-10-30T06:33:20.233554Z",
     "start_time": "2020-10-30T06:33:20.228601Z"
    }
   },
   "outputs": [
    {
     "data": {
      "text/plain": [
       "2025"
      ]
     },
     "execution_count": 7,
     "metadata": {},
     "output_type": "execute_result"
    }
   ],
   "source": [
    "s = 0\n",
    "for x in seq:\n",
    "    for y in seq:\n",
    "        s += x*y\n",
    "    for z in seq:\n",
    "        for w in seq:\n",
    "            s += x-w\n",
    "s"
   ]
  },
  {
   "cell_type": "markdown",
   "metadata": {},
   "source": [
    "こうしたループは、必ずしも$\\Theta(n)$回繰り返す必要はありません。例えば、`seq1`と`seq2`というそれぞれ$n$個と$m$個の要素を持った配列があったとします。次のコードの実行時間は$\\Theta(nm)$となります。"
   ]
  },
  {
   "cell_type": "code",
   "execution_count": 8,
   "metadata": {
    "ExecuteTime": {
     "end_time": "2020-10-30T06:33:20.560116Z",
     "start_time": "2020-10-30T06:33:20.556023Z"
    }
   },
   "outputs": [
    {
     "data": {
      "text/plain": [
       "450"
      ]
     },
     "execution_count": 8,
     "metadata": {},
     "output_type": "execute_result"
    }
   ],
   "source": [
    "seq1 = range(10)\n",
    "seq2 = range(5)\n",
    "s = 0\n",
    "for x in seq1:\n",
    "    for y in seq2:\n",
    "        s += x*y\n",
    "s"
   ]
  },
  {
   "cell_type": "markdown",
   "metadata": {},
   "source": [
    "今度はその反復回数を足し合わせます。次の例で、はっきり理解できるようになるでしょう。"
   ]
  },
  {
   "cell_type": "code",
   "execution_count": 9,
   "metadata": {
    "ExecuteTime": {
     "end_time": "2020-10-30T06:33:20.905588Z",
     "start_time": "2020-10-30T06:33:20.901070Z"
    }
   },
   "outputs": [
    {
     "data": {
      "text/plain": [
       "15"
      ]
     },
     "execution_count": 9,
     "metadata": {},
     "output_type": "execute_result"
    }
   ],
   "source": [
    "seq1 = [[0, 1], [2], [3, 4, 5]]\n",
    "s = 0\n",
    "for seq2 in seq1:\n",
    "    for x in seq2:\n",
    "        s += x\n",
    "s"
   ]
  },
  {
   "cell_type": "markdown",
   "metadata": {},
   "source": [
    "次の例は、元々私たちが試していた全要素の掛け算の組み合わせより現実的な例です。"
   ]
  },
  {
   "cell_type": "code",
   "execution_count": 10,
   "metadata": {
    "ExecuteTime": {
     "end_time": "2020-10-30T06:33:21.235780Z",
     "start_time": "2020-10-30T06:33:21.231528Z"
    }
   },
   "outputs": [
    {
     "data": {
      "text/plain": [
       "870"
      ]
     },
     "execution_count": 10,
     "metadata": {},
     "output_type": "execute_result"
    }
   ],
   "source": [
    "s = 0\n",
    "n = len(seq)\n",
    "for i in range(n-1):\n",
    "    for j in range(i+1, n):\n",
    "        s += seq[i] * seq[j]\n",
    "s"
   ]
  },
  {
   "cell_type": "markdown",
   "metadata": {},
   "source": [
    "## 3つの大事なケース\n",
    "ソートのアルゴリズムを設計を次のように始めたとします。"
   ]
  },
  {
   "cell_type": "code",
   "execution_count": 11,
   "metadata": {
    "ExecuteTime": {
     "end_time": "2020-10-30T06:33:21.563770Z",
     "start_time": "2020-10-30T06:33:21.560519Z"
    }
   },
   "outputs": [],
   "source": [
    "def sort_w_check(seq):\n",
    "    n = len(seq)\n",
    "    for i in range(n-1):\n",
    "        if seq[i] > seq[i+1]:\n",
    "            break\n",
    "    else:\n",
    "        return\n",
    "    ..."
   ]
  },
  {
   "cell_type": "markdown",
   "metadata": {},
   "source": [
    "## 実験に基づいたアルゴリズムの評価"
   ]
  },
  {
   "cell_type": "markdown",
   "metadata": {},
   "source": [
    "### ヒント2　時間測定にはtimeitを使おう\n",
    "\n",
    "`timeit`によって実践上十分な時間測定ができます。以下がその例です。"
   ]
  },
  {
   "cell_type": "code",
   "execution_count": 12,
   "metadata": {
    "ExecuteTime": {
     "end_time": "2020-10-30T06:33:22.374745Z",
     "start_time": "2020-10-30T06:33:22.356774Z"
    }
   },
   "outputs": [
    {
     "data": {
      "text/plain": [
       "0.013964593003038317"
      ]
     },
     "execution_count": 12,
     "metadata": {},
     "output_type": "execute_result"
    }
   ],
   "source": [
    "import timeit\n",
    "timeit.timeit(\"x = 2 + 2\")"
   ]
  },
  {
   "cell_type": "code",
   "execution_count": 13,
   "metadata": {
    "ExecuteTime": {
     "end_time": "2020-10-30T06:33:22.658813Z",
     "start_time": "2020-10-30T06:33:22.377015Z"
    }
   },
   "outputs": [
    {
     "data": {
      "text/plain": [
       "0.278659894996963"
      ]
     },
     "execution_count": 13,
     "metadata": {},
     "output_type": "execute_result"
    }
   ],
   "source": [
    "timeit.timeit(\"x = sum(range(10))\")"
   ]
  },
  {
   "cell_type": "markdown",
   "metadata": {},
   "source": [
    "# 2-3 グラフと木構造の実装"
   ]
  },
  {
   "cell_type": "markdown",
   "metadata": {},
   "source": [
    "## 「ブラックボックス」コラム `dict`と`set`\n",
    "Pythonでの標準的なハッシュは、オブジェクトの`__hash__`関数を呼び出す`hash`関数を通して利用できます。\n"
   ]
  },
  {
   "cell_type": "code",
   "execution_count": 14,
   "metadata": {
    "ExecuteTime": {
     "end_time": "2020-10-30T06:33:23.039210Z",
     "start_time": "2020-10-30T06:33:23.035023Z"
    }
   },
   "outputs": [
    {
     "data": {
      "text/plain": [
       "42"
      ]
     },
     "execution_count": 14,
     "metadata": {},
     "output_type": "execute_result"
    }
   ],
   "source": [
    "hash(42)"
   ]
  },
  {
   "cell_type": "code",
   "execution_count": 15,
   "metadata": {
    "ExecuteTime": {
     "end_time": "2020-10-30T06:33:23.046491Z",
     "start_time": "2020-10-30T06:33:23.043096Z"
    }
   },
   "outputs": [
    {
     "data": {
      "text/plain": [
       "-5592655758954348892"
      ]
     },
     "execution_count": 15,
     "metadata": {},
     "output_type": "execute_result"
    }
   ],
   "source": [
    "hash(\"Hello, world!\")"
   ]
  },
  {
   "cell_type": "markdown",
   "metadata": {
    "ExecuteTime": {
     "end_time": "2019-09-03T03:54:55.405139Z",
     "start_time": "2019-09-03T03:54:55.401474Z"
    }
   },
   "source": [
    "## 隣接リストなど"
   ]
  },
  {
   "cell_type": "markdown",
   "metadata": {},
   "source": [
    "## リスト2-1 隣接セットの直接的な表現\n",
    "\n",
    "図2-3は隣接セットを使って以下のように表すことができます。どの隣接セットがどのノードに属しているかは、コメントに書いてあります。実際、図にあるグラフが正しく表現されているか確かめてみてください。"
   ]
  },
  {
   "cell_type": "code",
   "execution_count": 16,
   "metadata": {
    "ExecuteTime": {
     "end_time": "2020-10-30T06:33:23.717953Z",
     "start_time": "2020-10-30T06:33:23.714246Z"
    }
   },
   "outputs": [],
   "source": [
    "a, b, c, d, e, f, g, h = range(8)\n",
    "N = [\n",
    "    {b, c, d, e, f},    # a\n",
    "    {c, e},             # b\n",
    "    {d},                # c\n",
    "    {e},                # d\n",
    "    {f},                # e\n",
    "    {c, g, h},          # f\n",
    "    {f, h},             # g\n",
    "    {f, g}              # h\n",
    "]\n"
   ]
  },
  {
   "cell_type": "markdown",
   "metadata": {},
   "source": [
    "`N`を定義していれば、以下のようにメンバーシップの確認や次数を見ることができます。"
   ]
  },
  {
   "cell_type": "code",
   "execution_count": 17,
   "metadata": {
    "ExecuteTime": {
     "end_time": "2020-10-30T06:33:24.065392Z",
     "start_time": "2020-10-30T06:33:24.061634Z"
    }
   },
   "outputs": [
    {
     "data": {
      "text/plain": [
       "True"
      ]
     },
     "execution_count": 17,
     "metadata": {},
     "output_type": "execute_result"
    }
   ],
   "source": [
    "b in N[a]  # 近傍の集合に対するメンバーシップ確認"
   ]
  },
  {
   "cell_type": "code",
   "execution_count": 18,
   "metadata": {
    "ExecuteTime": {
     "end_time": "2020-10-30T06:33:24.072639Z",
     "start_time": "2020-10-30T06:33:24.068441Z"
    }
   },
   "outputs": [
    {
     "data": {
      "text/plain": [
       "3"
      ]
     },
     "execution_count": 18,
     "metadata": {},
     "output_type": "execute_result"
    }
   ],
   "source": [
    "len(N[f])  # 次数"
   ]
  },
  {
   "cell_type": "markdown",
   "metadata": {},
   "source": [
    "## リスト2-2 隣接リスト\n",
    "オーバーヘッドを少し減らした別の表現方法に、隣接セットを隣接リストで置き換えるやり方があります。"
   ]
  },
  {
   "cell_type": "code",
   "execution_count": 19,
   "metadata": {
    "ExecuteTime": {
     "end_time": "2020-10-30T06:33:24.406859Z",
     "start_time": "2020-10-30T06:33:24.403122Z"
    }
   },
   "outputs": [],
   "source": [
    "a, b, c, d, e, f, g, h = range(8)\n",
    "N = [\n",
    "    [b, c, d, e, f],    # a\n",
    "    [c, e],             # b\n",
    "    [d],                # c\n",
    "    [e],                # d\n",
    "    [f],                # e\n",
    "    [c, g, h],          # f\n",
    "    [f, h],             # g\n",
    "    [f, g]              # h\n",
    "]"
   ]
  },
  {
   "cell_type": "code",
   "execution_count": 20,
   "metadata": {
    "ExecuteTime": {
     "end_time": "2020-10-30T06:33:24.413142Z",
     "start_time": "2020-10-30T06:33:24.409452Z"
    }
   },
   "outputs": [
    {
     "data": {
      "text/plain": [
       "True"
      ]
     },
     "execution_count": 20,
     "metadata": {},
     "output_type": "execute_result"
    }
   ],
   "source": [
    "b in N[a]  # 近傍の集合に対するメンバーシップ確認"
   ]
  },
  {
   "cell_type": "code",
   "execution_count": 21,
   "metadata": {
    "ExecuteTime": {
     "end_time": "2020-10-30T06:33:24.419290Z",
     "start_time": "2020-10-30T06:33:24.415470Z"
    }
   },
   "outputs": [
    {
     "data": {
      "text/plain": [
       "3"
      ]
     },
     "execution_count": 21,
     "metadata": {},
     "output_type": "execute_result"
    }
   ],
   "source": [
    "len(N[f])  # 次数"
   ]
  },
  {
   "cell_type": "markdown",
   "metadata": {},
   "source": [
    "## リスト2-3 エッジと重みの隣接辞書\n",
    "\n",
    "さらにもう1つマイナーな変更を加えた、セットやリストの代わりに、辞書を使った隣接辞書があります"
   ]
  },
  {
   "cell_type": "code",
   "execution_count": 22,
   "metadata": {
    "ExecuteTime": {
     "end_time": "2020-10-30T06:33:24.768642Z",
     "start_time": "2020-10-30T06:33:24.764503Z"
    }
   },
   "outputs": [],
   "source": [
    "a, b, c, d, e, f, g, h = range(8)\n",
    "N = [\n",
    "    {b: 2, c: 1, d: 3, e: 9, f: 4},    # a\n",
    "    {c: 4, e: 3},                      # b\n",
    "    {d: 8},                            # c\n",
    "    {e: 7},                            # d\n",
    "    {f: 5},                            # e\n",
    "    {c: 2, g: 2, h: 2},                # f\n",
    "    {f: 1, h: 6},                      # g\n",
    "    {f: 9, g: 8}                       # h\n",
    "]"
   ]
  },
  {
   "cell_type": "code",
   "execution_count": 23,
   "metadata": {
    "ExecuteTime": {
     "end_time": "2020-10-30T06:33:24.775188Z",
     "start_time": "2020-10-30T06:33:24.771397Z"
    }
   },
   "outputs": [
    {
     "data": {
      "text/plain": [
       "True"
      ]
     },
     "execution_count": 23,
     "metadata": {},
     "output_type": "execute_result"
    }
   ],
   "source": [
    "b in N[a]  # 近傍の集合に対するメンバーシップ確認"
   ]
  },
  {
   "cell_type": "code",
   "execution_count": 24,
   "metadata": {
    "ExecuteTime": {
     "end_time": "2020-10-30T06:33:24.781766Z",
     "start_time": "2020-10-30T06:33:24.777691Z"
    }
   },
   "outputs": [
    {
     "data": {
      "text/plain": [
       "3"
      ]
     },
     "execution_count": 24,
     "metadata": {},
     "output_type": "execute_result"
    }
   ],
   "source": [
    "len(N[f])  # 次数"
   ]
  },
  {
   "cell_type": "code",
   "execution_count": 25,
   "metadata": {
    "ExecuteTime": {
     "end_time": "2020-10-30T06:33:24.788491Z",
     "start_time": "2020-10-30T06:33:24.784066Z"
    }
   },
   "outputs": [
    {
     "data": {
      "text/plain": [
       "2"
      ]
     },
     "execution_count": 25,
     "metadata": {},
     "output_type": "execute_result"
    }
   ],
   "source": [
    "N[a][b]    # (a, b)のエッジの重み"
   ]
  },
  {
   "cell_type": "markdown",
   "metadata": {},
   "source": [
    "## リスト2-4 辞書と隣接セット\n",
    "\n",
    "以下、隣接セットを含む辞書を使った例を示しています。"
   ]
  },
  {
   "cell_type": "code",
   "execution_count": 26,
   "metadata": {
    "ExecuteTime": {
     "end_time": "2020-10-30T06:33:25.124011Z",
     "start_time": "2020-10-30T06:33:25.121029Z"
    }
   },
   "outputs": [],
   "source": [
    "N = {\n",
    "    'a': set('bcdef'),\n",
    "    'b': set('ce'),\n",
    "    'c': set('d'),\n",
    "    'd': set('e'),\n",
    "    'e': set('f'),\n",
    "    'f': set('cgh'),\n",
    "    'g': set('fh'),\n",
    "    'h': set('fg')\n",
    "}"
   ]
  },
  {
   "cell_type": "code",
   "execution_count": 27,
   "metadata": {
    "ExecuteTime": {
     "end_time": "2020-10-30T06:33:25.132672Z",
     "start_time": "2020-10-30T06:33:25.128658Z"
    }
   },
   "outputs": [
    {
     "data": {
      "text/plain": [
       "True"
      ]
     },
     "execution_count": 27,
     "metadata": {},
     "output_type": "execute_result"
    }
   ],
   "source": [
    "'b' in N['a']  # 近傍の集合に対するメンバーシップ確認"
   ]
  },
  {
   "cell_type": "code",
   "execution_count": 28,
   "metadata": {
    "ExecuteTime": {
     "end_time": "2020-10-30T06:33:25.140480Z",
     "start_time": "2020-10-30T06:33:25.135743Z"
    }
   },
   "outputs": [
    {
     "data": {
      "text/plain": [
       "3"
      ]
     },
     "execution_count": 28,
     "metadata": {},
     "output_type": "execute_result"
    }
   ],
   "source": [
    "len(N['f'])  # 次数"
   ]
  },
  {
   "cell_type": "markdown",
   "metadata": {},
   "source": [
    "## リスト2-5 入れ子構造のリストを使った隣接行列\n",
    "\n",
    "グラフ表現で他に一般的なのは、隣接行列です。"
   ]
  },
  {
   "cell_type": "code",
   "execution_count": 29,
   "metadata": {
    "ExecuteTime": {
     "end_time": "2020-10-30T06:33:25.536002Z",
     "start_time": "2020-10-30T06:33:25.531373Z"
    }
   },
   "outputs": [],
   "source": [
    "a, b, c, d, e, f, g, h = range(8)\n",
    "\n",
    "#     a  b  c  d  e  f  g  h\n",
    "N = [[0, 1, 1, 1, 1, 1, 0, 0],  # a\n",
    "     [0, 0, 1, 0, 1, 0, 0, 0],  # b\n",
    "     [0, 0, 0, 1, 0, 0, 0, 0],  # c\n",
    "     [0, 0, 0, 0, 1, 0, 0, 0],  # d\n",
    "     [0, 0, 0, 0, 0, 1, 0, 0],  # e\n",
    "     [0, 0, 1, 0, 0, 0, 1, 1],  # f\n",
    "     [0, 0, 0, 0, 0, 1, 0, 1],  # g\n",
    "     [0, 0, 0, 0, 0, 1, 1, 0]]  # h"
   ]
  },
  {
   "cell_type": "code",
   "execution_count": 30,
   "metadata": {
    "ExecuteTime": {
     "end_time": "2020-10-30T06:33:25.542300Z",
     "start_time": "2020-10-30T06:33:25.538660Z"
    }
   },
   "outputs": [
    {
     "data": {
      "text/plain": [
       "1"
      ]
     },
     "execution_count": 30,
     "metadata": {},
     "output_type": "execute_result"
    }
   ],
   "source": [
    "N[a][b]    # 近傍の集合に対するメンバーシップ確認"
   ]
  },
  {
   "cell_type": "code",
   "execution_count": 31,
   "metadata": {
    "ExecuteTime": {
     "end_time": "2020-10-30T06:33:25.549593Z",
     "start_time": "2020-10-30T06:33:25.544714Z"
    }
   },
   "outputs": [
    {
     "data": {
      "text/plain": [
       "3"
      ]
     },
     "execution_count": 31,
     "metadata": {},
     "output_type": "execute_result"
    }
   ],
   "source": [
    "sum(N[f])  # 次数"
   ]
  },
  {
   "cell_type": "markdown",
   "metadata": {},
   "source": [
    "## リスト2-6 エッジがない場所には無限大の重みを使った重み付き行列\n",
    "\n",
    "以下はネストされたリストで実装された重み行列がどのようなものかを示しています。\n",
    "\n"
   ]
  },
  {
   "cell_type": "code",
   "execution_count": 32,
   "metadata": {
    "ExecuteTime": {
     "end_time": "2020-10-30T06:33:25.959741Z",
     "start_time": "2020-10-30T06:33:25.954585Z"
    }
   },
   "outputs": [],
   "source": [
    "a, b, c, d, e, f, g, h = range(8)\n",
    "inf = float('inf')\n",
    "\n",
    "#       a    b    c    d    e    f    g    h\n",
    "\n",
    "W = [[  0,   2,   1,   3,   9,   4, inf, inf],  # a\n",
    "     [inf,   0,   4, inf,   3, inf, inf, inf],  # b\n",
    "     [inf, inf,   0,   8, inf, inf, inf, inf],  # c\n",
    "     [inf, inf, inf,   0,   7, inf, inf, inf],  # d\n",
    "     [inf, inf, inf, inf,   0,   5, inf, inf],  # e\n",
    "     [inf, inf,   2, inf, inf,   0,   2,   2],  # f\n",
    "     [inf, inf, inf, inf, inf,   1,   0,   6],  # g\n",
    "     [inf, inf, inf, inf, inf,   9,   8,   0]]  # h"
   ]
  },
  {
   "cell_type": "code",
   "execution_count": 33,
   "metadata": {
    "ExecuteTime": {
     "end_time": "2020-10-30T06:33:25.967759Z",
     "start_time": "2020-10-30T06:33:25.962653Z"
    }
   },
   "outputs": [
    {
     "data": {
      "text/plain": [
       "True"
      ]
     },
     "execution_count": 33,
     "metadata": {},
     "output_type": "execute_result"
    }
   ],
   "source": [
    "W[a][b] < inf   # 近傍の集合に対するメンバーシップ確認"
   ]
  },
  {
   "cell_type": "code",
   "execution_count": 34,
   "metadata": {
    "ExecuteTime": {
     "end_time": "2020-10-30T06:33:25.975175Z",
     "start_time": "2020-10-30T06:33:25.970786Z"
    }
   },
   "outputs": [
    {
     "data": {
      "text/plain": [
       "False"
      ]
     },
     "execution_count": 34,
     "metadata": {},
     "output_type": "execute_result"
    }
   ],
   "source": [
    "W[c][e] < inf   # 近傍の集合に対するメンバーシップ確認"
   ]
  },
  {
   "cell_type": "code",
   "execution_count": 35,
   "metadata": {
    "ExecuteTime": {
     "end_time": "2020-10-30T06:33:25.981268Z",
     "start_time": "2020-10-30T06:33:25.977188Z"
    }
   },
   "outputs": [
    {
     "data": {
      "text/plain": [
       "5"
      ]
     },
     "execution_count": 35,
     "metadata": {},
     "output_type": "execute_result"
    }
   ],
   "source": [
    "sum(1 for w in W[a] if w < inf) - 1  # 次数"
   ]
  },
  {
   "cell_type": "markdown",
   "metadata": {},
   "source": [
    "## コラム：特殊な目的のNumPy配列\n",
    "\n",
    "$n$個のノードに対して空のリストまたは隣接行列を以下のように作るとします。"
   ]
  },
  {
   "cell_type": "code",
   "execution_count": 36,
   "metadata": {
    "ExecuteTime": {
     "end_time": "2020-10-30T06:33:26.342935Z",
     "start_time": "2020-10-30T06:33:26.340296Z"
    }
   },
   "outputs": [],
   "source": [
    "N = [[0]*10 for i in range(10)]"
   ]
  },
  {
   "cell_type": "markdown",
   "metadata": {},
   "source": [
    "NumPy であれば、`zeros`関数を使うことができます。"
   ]
  },
  {
   "cell_type": "code",
   "execution_count": 37,
   "metadata": {
    "ExecuteTime": {
     "end_time": "2020-10-30T06:33:26.864492Z",
     "start_time": "2020-10-30T06:33:26.714261Z"
    }
   },
   "outputs": [],
   "source": [
    "import numpy as np\n",
    "N = np.zeros([10, 10])"
   ]
  },
  {
   "cell_type": "markdown",
   "metadata": {},
   "source": [
    "## 木構造の実装"
   ]
  },
  {
   "cell_type": "markdown",
   "metadata": {},
   "source": [
    "図2-4の木構造をリスト内のリストとして以下のように表現できます。"
   ]
  },
  {
   "cell_type": "code",
   "execution_count": 38,
   "metadata": {
    "ExecuteTime": {
     "end_time": "2020-10-30T06:33:27.425120Z",
     "start_time": "2020-10-30T06:33:27.421056Z"
    }
   },
   "outputs": [
    {
     "data": {
      "text/plain": [
       "'b'"
      ]
     },
     "execution_count": 38,
     "metadata": {},
     "output_type": "execute_result"
    }
   ],
   "source": [
    "T = [[\"a\", \"b\"], [\"c\"], [\"d\", [\"e\", \"f\"]]]\n",
    "T[0][1]"
   ]
  },
  {
   "cell_type": "code",
   "execution_count": 39,
   "metadata": {
    "ExecuteTime": {
     "end_time": "2020-10-30T06:33:27.431720Z",
     "start_time": "2020-10-30T06:33:27.427735Z"
    }
   },
   "outputs": [
    {
     "data": {
      "text/plain": [
       "'e'"
      ]
     },
     "execution_count": 39,
     "metadata": {},
     "output_type": "execute_result"
    }
   ],
   "source": [
    "T[2][1][0]"
   ]
  },
  {
   "cell_type": "markdown",
   "metadata": {},
   "source": [
    "## リスト2-7 二分木クラス\n",
    "\n",
    "二分木は、各内部ノードが最大2つまでしか子を持ちません。それにより、他の表現を使うこともできます。以下に示すように、それぞれ子に属性情報を持たせたオブジェクトとして表現できます。"
   ]
  },
  {
   "cell_type": "code",
   "execution_count": 40,
   "metadata": {
    "ExecuteTime": {
     "end_time": "2020-10-30T06:33:27.817396Z",
     "start_time": "2020-10-30T06:33:27.811998Z"
    }
   },
   "outputs": [],
   "source": [
    "class Tree:\n",
    "    def __init__(self, left, right):\n",
    "        self.left = left\n",
    "        self.right = right"
   ]
  },
  {
   "cell_type": "markdown",
   "metadata": {},
   "source": [
    "この木クラスは、以下のように使えます。"
   ]
  },
  {
   "cell_type": "code",
   "execution_count": 41,
   "metadata": {
    "ExecuteTime": {
     "end_time": "2020-10-30T06:33:28.334312Z",
     "start_time": "2020-10-30T06:33:28.328916Z"
    }
   },
   "outputs": [
    {
     "data": {
      "text/plain": [
       "'c'"
      ]
     },
     "execution_count": 41,
     "metadata": {},
     "output_type": "execute_result"
    }
   ],
   "source": [
    "t = Tree(Tree(\"a\", \"b\"), Tree(\"c\", \"d\"))\n",
    "t.right.left"
   ]
  },
  {
   "cell_type": "markdown",
   "metadata": {},
   "source": [
    "## リスト2-8 多分木クラス\n",
    "リスト2-7に示した二分木を少し修正するだけで、以下のような多分木が作れます。"
   ]
  },
  {
   "cell_type": "code",
   "execution_count": 42,
   "metadata": {
    "ExecuteTime": {
     "end_time": "2020-10-30T06:33:28.820328Z",
     "start_time": "2020-10-30T06:33:28.817167Z"
    }
   },
   "outputs": [],
   "source": [
    "class Tree:\n",
    "    def __init__(self, kids, next=None):\n",
    "        self.kids = self.val = kids\n",
    "        self.next = next"
   ]
  },
  {
   "cell_type": "markdown",
   "metadata": {},
   "source": [
    "次に、どうやってこの構造にアクセスするのか見てみましょう。"
   ]
  },
  {
   "cell_type": "code",
   "execution_count": 43,
   "metadata": {
    "ExecuteTime": {
     "end_time": "2020-10-30T06:33:29.207596Z",
     "start_time": "2020-10-30T06:33:29.203765Z"
    }
   },
   "outputs": [
    {
     "data": {
      "text/plain": [
       "'c'"
      ]
     },
     "execution_count": 43,
     "metadata": {},
     "output_type": "execute_result"
    }
   ],
   "source": [
    "t = Tree(Tree(\"a\", Tree(\"b\", Tree(\"c\", Tree(\"d\")))))\n",
    "t.kids.next.next.val"
   ]
  },
  {
   "cell_type": "markdown",
   "metadata": {},
   "source": [
    "## コラム：Bunchパターン\n",
    "\n",
    "例として、Bunchパターン（Python Cookbookの筆者Alex Martelliによって命名されています）が重宝します。実装方法はたくさんあるの\n",
    "ですが、一例を次に示します。"
   ]
  },
  {
   "cell_type": "code",
   "execution_count": 44,
   "metadata": {
    "ExecuteTime": {
     "end_time": "2020-10-30T06:33:29.567517Z",
     "start_time": "2020-10-30T06:33:29.564526Z"
    }
   },
   "outputs": [],
   "source": [
    "class Bunch(dict):\n",
    "    def __init__(self, *args, **kwds):\n",
    "        super(Bunch, self).__init__(*args, **kwds)\n",
    "        self.__dict__ = self"
   ]
  },
  {
   "cell_type": "markdown",
   "metadata": {},
   "source": [
    "このパターンにはいくつか便利な点があります。まず、コマンドライン引数のように値を渡すことで、任意の属性を設定できることです。"
   ]
  },
  {
   "cell_type": "code",
   "execution_count": 45,
   "metadata": {
    "ExecuteTime": {
     "end_time": "2020-10-30T06:33:29.940893Z",
     "start_time": "2020-10-30T06:33:29.937158Z"
    }
   },
   "outputs": [
    {
     "data": {
      "text/plain": [
       "'Jayne Cobb'"
      ]
     },
     "execution_count": 45,
     "metadata": {},
     "output_type": "execute_result"
    }
   ],
   "source": [
    "x = Bunch(name=\"Jayne Cobb\", position=\"Public Relations\")\n",
    "x.name"
   ]
  },
  {
   "cell_type": "markdown",
   "metadata": {},
   "source": [
    "次に、dictを継承することで、キー・バリュー上を走査したり、簡単にその属性が存在しているかを確認したり、といった多くの機能を引き継ぎます。以下がその例です。"
   ]
  },
  {
   "cell_type": "code",
   "execution_count": 46,
   "metadata": {
    "ExecuteTime": {
     "end_time": "2020-10-30T06:33:30.419094Z",
     "start_time": "2020-10-30T06:33:30.415031Z"
    }
   },
   "outputs": [
    {
     "data": {
      "text/plain": [
       "{'left': 'a', 'right': 'b'}"
      ]
     },
     "execution_count": 46,
     "metadata": {},
     "output_type": "execute_result"
    }
   ],
   "source": [
    "T = Bunch\n",
    "t = T(left=T(left=\"a\", right=\"b\"), right=T(left=\"c\"))\n",
    "t.left"
   ]
  },
  {
   "cell_type": "code",
   "execution_count": 47,
   "metadata": {
    "ExecuteTime": {
     "end_time": "2020-10-30T06:33:30.428410Z",
     "start_time": "2020-10-30T06:33:30.424142Z"
    }
   },
   "outputs": [
    {
     "data": {
      "text/plain": [
       "'b'"
      ]
     },
     "execution_count": 47,
     "metadata": {},
     "output_type": "execute_result"
    }
   ],
   "source": [
    "t.left.right"
   ]
  },
  {
   "cell_type": "code",
   "execution_count": 48,
   "metadata": {
    "ExecuteTime": {
     "end_time": "2020-10-30T06:33:30.435694Z",
     "start_time": "2020-10-30T06:33:30.431149Z"
    }
   },
   "outputs": [
    {
     "data": {
      "text/plain": [
       "'b'"
      ]
     },
     "execution_count": 48,
     "metadata": {},
     "output_type": "execute_result"
    }
   ],
   "source": [
    "t['left']['right']"
   ]
  },
  {
   "cell_type": "code",
   "execution_count": 49,
   "metadata": {
    "ExecuteTime": {
     "end_time": "2020-10-30T06:33:30.442309Z",
     "start_time": "2020-10-30T06:33:30.437933Z"
    }
   },
   "outputs": [
    {
     "data": {
      "text/plain": [
       "True"
      ]
     },
     "execution_count": 49,
     "metadata": {},
     "output_type": "execute_result"
    }
   ],
   "source": [
    "\"left\" in t.right"
   ]
  },
  {
   "cell_type": "code",
   "execution_count": 50,
   "metadata": {
    "ExecuteTime": {
     "end_time": "2020-10-30T06:33:30.448591Z",
     "start_time": "2020-10-30T06:33:30.444401Z"
    }
   },
   "outputs": [
    {
     "data": {
      "text/plain": [
       "False"
      ]
     },
     "execution_count": 50,
     "metadata": {},
     "output_type": "execute_result"
    }
   ],
   "source": [
    "\"right\" in t.right"
   ]
  },
  {
   "cell_type": "markdown",
   "metadata": {},
   "source": [
    "# 2−4 ブラックボックスにご注意を"
   ]
  },
  {
   "cell_type": "markdown",
   "metadata": {},
   "source": [
    "## 隠れた二乗項\n",
    "次のような、リストの中の要素を探す2つの方法を考えてみましょう。"
   ]
  },
  {
   "cell_type": "code",
   "execution_count": 51,
   "metadata": {
    "ExecuteTime": {
     "end_time": "2020-10-30T06:33:31.256284Z",
     "start_time": "2020-10-30T06:33:31.251185Z"
    }
   },
   "outputs": [
    {
     "data": {
      "text/plain": [
       "False"
      ]
     },
     "execution_count": 51,
     "metadata": {},
     "output_type": "execute_result"
    }
   ],
   "source": [
    "from random import randrange\n",
    "L = [randrange(10000) for i in range(1000)]\n",
    "42 in L"
   ]
  },
  {
   "cell_type": "code",
   "execution_count": 52,
   "metadata": {
    "ExecuteTime": {
     "end_time": "2020-10-30T06:33:31.262297Z",
     "start_time": "2020-10-30T06:33:31.258517Z"
    }
   },
   "outputs": [
    {
     "data": {
      "text/plain": [
       "False"
      ]
     },
     "execution_count": 52,
     "metadata": {},
     "output_type": "execute_result"
    }
   ],
   "source": [
    "S = set(L)\n",
    "42 in S"
   ]
  },
  {
   "cell_type": "markdown",
   "metadata": {
    "ExecuteTime": {
     "end_time": "2020-10-30T05:55:50.379855Z",
     "start_time": "2020-10-30T05:55:50.375588Z"
    }
   },
   "source": [
    "あまり自明でない例でも多くの問題を引き起こす可能性があります。例えば、次のような自明なやり方で文字列に文字を足\n",
    "していくとしましょう。"
   ]
  },
  {
   "cell_type": "code",
   "execution_count": 53,
   "metadata": {
    "ExecuteTime": {
     "end_time": "2020-10-30T06:33:31.631258Z",
     "start_time": "2020-10-30T06:33:31.626828Z"
    }
   },
   "outputs": [
    {
     "data": {
      "text/plain": [
       "'abcde'"
      ]
     },
     "execution_count": 53,
     "metadata": {},
     "output_type": "execute_result"
    }
   ],
   "source": [
    "def string_producer():\n",
    "    return 'abcde'\n",
    "\n",
    "s = \"\"\n",
    "for chunk in string_producer():\n",
    "    s += chunk\n",
    "s"
   ]
  },
  {
   "cell_type": "markdown",
   "metadata": {},
   "source": [
    "この問題のより良い解法は以下の通りです。"
   ]
  },
  {
   "cell_type": "code",
   "execution_count": 54,
   "metadata": {
    "ExecuteTime": {
     "end_time": "2020-10-30T06:33:32.067001Z",
     "start_time": "2020-10-30T06:33:32.061959Z"
    }
   },
   "outputs": [
    {
     "data": {
      "text/plain": [
       "'abcde'"
      ]
     },
     "execution_count": 54,
     "metadata": {},
     "output_type": "execute_result"
    }
   ],
   "source": [
    "chunks = []\n",
    "for chunk in string_producer():\n",
    "    chunks.append(chunk)\n",
    "\n",
    "s = ''.join(chunks)\n",
    "s"
   ]
  },
  {
   "cell_type": "markdown",
   "metadata": {},
   "source": [
    "より単純に以下のようにも書くことができます。"
   ]
  },
  {
   "cell_type": "code",
   "execution_count": 55,
   "metadata": {
    "ExecuteTime": {
     "end_time": "2020-10-30T06:33:32.443159Z",
     "start_time": "2020-10-30T06:33:32.439666Z"
    }
   },
   "outputs": [
    {
     "data": {
      "text/plain": [
       "'abcde'"
      ]
     },
     "execution_count": 55,
     "metadata": {},
     "output_type": "execute_result"
    }
   ],
   "source": [
    "s = ''.join(string_producer())\n",
    "s"
   ]
  },
  {
   "cell_type": "markdown",
   "metadata": {},
   "source": [
    "しかし、このようにしてもまだ二乗時間は隠れ潜んでいます。次のような解法を考えてみてください。"
   ]
  },
  {
   "cell_type": "code",
   "execution_count": 56,
   "metadata": {
    "ExecuteTime": {
     "end_time": "2020-10-30T06:33:32.838300Z",
     "start_time": "2020-10-30T06:33:32.834230Z"
    }
   },
   "outputs": [
    {
     "name": "stdout",
     "output_type": "stream",
     "text": [
      "sum() can't sum strings [use ''.join(seq) instead]\n"
     ]
    }
   ],
   "source": [
    "try:\n",
    "    s = sum(string_producer(), '')\n",
    "except TypeError as e:\n",
    "    print(e)"
   ]
  },
  {
   "cell_type": "markdown",
   "metadata": {},
   "source": [
    "Pythonが`''.join()`を使うように文句を言っています（当然そうします）。しかし、リスト\n",
    "を使用した場合は、どうでしょうか？"
   ]
  },
  {
   "cell_type": "code",
   "execution_count": 57,
   "metadata": {
    "ExecuteTime": {
     "end_time": "2020-10-30T06:33:33.220886Z",
     "start_time": "2020-10-30T06:33:33.216788Z"
    }
   },
   "outputs": [
    {
     "data": {
      "text/plain": [
       "[1, 2, 3, 4, 5, 6]"
      ]
     },
     "execution_count": 57,
     "metadata": {},
     "output_type": "execute_result"
    }
   ],
   "source": [
    "lists = [[1, 2], [3, 4, 5], [6]]\n",
    "sum(lists, [])"
   ]
  },
  {
   "cell_type": "markdown",
   "metadata": {},
   "source": [
    "より良い方法は以下になります。"
   ]
  },
  {
   "cell_type": "code",
   "execution_count": 58,
   "metadata": {
    "ExecuteTime": {
     "end_time": "2020-10-30T06:33:33.627699Z",
     "start_time": "2020-10-30T06:33:33.623888Z"
    }
   },
   "outputs": [
    {
     "data": {
      "text/plain": [
       "[1, 2, 3, 4, 5, 6]"
      ]
     },
     "execution_count": 58,
     "metadata": {},
     "output_type": "execute_result"
    }
   ],
   "source": [
    "res = []\n",
    "for lst in lists:\n",
    "    res.extend(lst)\n",
    "res"
   ]
  },
  {
   "cell_type": "markdown",
   "metadata": {},
   "source": [
    "## 浮動小数点を使うときの問題\n",
    "Pythonのバージョンでは、以下のような理に適った反応が得られます。"
   ]
  },
  {
   "cell_type": "code",
   "execution_count": 59,
   "metadata": {
    "ExecuteTime": {
     "end_time": "2020-10-30T06:33:34.030296Z",
     "start_time": "2020-10-30T06:33:34.027093Z"
    }
   },
   "outputs": [
    {
     "data": {
      "text/plain": [
       "0.1"
      ]
     },
     "execution_count": 59,
     "metadata": {},
     "output_type": "execute_result"
    }
   ],
   "source": [
    "0.1"
   ]
  },
  {
   "cell_type": "markdown",
   "metadata": {},
   "source": [
    "もう一歩踏み込んでみましょう。"
   ]
  },
  {
   "cell_type": "code",
   "execution_count": 60,
   "metadata": {
    "ExecuteTime": {
     "end_time": "2020-10-30T06:33:34.419389Z",
     "start_time": "2020-10-30T06:33:34.415225Z"
    }
   },
   "outputs": [
    {
     "data": {
      "text/plain": [
       "False"
      ]
     },
     "execution_count": 60,
     "metadata": {},
     "output_type": "execute_result"
    }
   ],
   "source": [
    "sum(0.1 for i in range(10)) == 1.0"
   ]
  },
  {
   "cell_type": "markdown",
   "metadata": {
    "ExecuteTime": {
     "end_time": "2020-10-30T05:59:53.223298Z",
     "start_time": "2020-10-30T05:59:53.219602Z"
    }
   },
   "source": [
    "`unittest`モジュールの`assertAlmostEqual`を使った方法を見てましょう。"
   ]
  },
  {
   "cell_type": "code",
   "execution_count": 61,
   "metadata": {
    "ExecuteTime": {
     "end_time": "2020-10-30T06:33:34.814988Z",
     "start_time": "2020-10-30T06:33:34.810611Z"
    }
   },
   "outputs": [
    {
     "data": {
      "text/plain": [
       "True"
      ]
     },
     "execution_count": 61,
     "metadata": {},
     "output_type": "execute_result"
    }
   ],
   "source": [
    "def almost_equal(x, y, places=7):\n",
    "    return round(abs(x-y), places) == 0\n",
    "\n",
    "\n",
    "almost_equal(sum(0.1 for i in range(10)), 1.0)"
   ]
  },
  {
   "cell_type": "markdown",
   "metadata": {},
   "source": [
    "正確な十進数の浮動小数点が必要な場合、`decimal`モジュールを使うこともできます。"
   ]
  },
  {
   "cell_type": "code",
   "execution_count": 62,
   "metadata": {
    "ExecuteTime": {
     "end_time": "2020-10-30T06:33:35.213903Z",
     "start_time": "2020-10-30T06:33:35.209029Z"
    }
   },
   "outputs": [
    {
     "data": {
      "text/plain": [
       "True"
      ]
     },
     "execution_count": 62,
     "metadata": {},
     "output_type": "execute_result"
    }
   ],
   "source": [
    "from decimal import *\n",
    "sum(Decimal(\"0.1\") for i in range(10)) == Decimal(\"1.0\")"
   ]
  },
  {
   "cell_type": "markdown",
   "metadata": {},
   "source": [
    "数学や科学のある分野では、`sympy`などのツールも役立つかもしれません"
   ]
  },
  {
   "cell_type": "code",
   "execution_count": 63,
   "metadata": {
    "ExecuteTime": {
     "end_time": "2020-10-30T06:33:36.184487Z",
     "start_time": "2020-10-30T06:33:35.651353Z"
    }
   },
   "outputs": [
    {
     "data": {
      "text/plain": [
       "33/35 + 13*sqrt(31)"
      ]
     },
     "execution_count": 63,
     "metadata": {},
     "output_type": "execute_result"
    }
   ],
   "source": [
    "# sageの代わりにSympyを使います。\n",
    "from sympy import sqrt, sympify\n",
    "sympify('3/5 * 11/7 + sqrt(5239)')\n",
    "# 33/35 + 13*sqrt(31)"
   ]
  },
  {
   "cell_type": "markdown",
   "metadata": {},
   "source": [
    "例えば、`sqrt(x+1) - sqrt(x)`という式を考えてみましょう。ここでは、xが非常に大きいとします。まずは、問題の元となる引き算を取り除きましょう。`sqrt(x+1)+sqrt(x)`を掛けて、割ることで、引き算を取り除きながらも、数学的には元と同じ式になります。2つのやり方を比べてみましょう。"
   ]
  },
  {
   "cell_type": "code",
   "execution_count": 64,
   "metadata": {
    "ExecuteTime": {
     "end_time": "2020-10-30T06:33:36.191227Z",
     "start_time": "2020-10-30T06:33:36.187105Z"
    }
   },
   "outputs": [
    {
     "data": {
      "text/plain": [
       "5.341455107554793e-06"
      ]
     },
     "execution_count": 64,
     "metadata": {},
     "output_type": "execute_result"
    }
   ],
   "source": [
    "from math import sqrt\n",
    "x = 8762348761.13\n",
    "sqrt(x + 1) - sqrt(x)"
   ]
  },
  {
   "cell_type": "code",
   "execution_count": 65,
   "metadata": {
    "ExecuteTime": {
     "end_time": "2020-10-30T06:33:36.197126Z",
     "start_time": "2020-10-30T06:33:36.193296Z"
    }
   },
   "outputs": [
    {
     "data": {
      "text/plain": [
       "5.3414570026237696e-06"
      ]
     },
     "execution_count": 65,
     "metadata": {},
     "output_type": "execute_result"
    }
   ],
   "source": [
    "1.0/(sqrt(x + 1) + sqrt(x))"
   ]
  }
 ],
 "metadata": {
  "hide_input": false,
  "kernelspec": {
   "display_name": "Python (py36)",
   "language": "python",
   "name": "py36"
  },
  "language_info": {
   "codemirror_mode": {
    "name": "ipython",
    "version": 3
   },
   "file_extension": ".py",
   "mimetype": "text/x-python",
   "name": "python",
   "nbconvert_exporter": "python",
   "pygments_lexer": "ipython3",
   "version": "3.6.7"
  },
  "toc": {
   "base_numbering": 1,
   "nav_menu": {},
   "number_sections": false,
   "sideBar": true,
   "skip_h1_title": false,
   "title_cell": "Table of Contents",
   "title_sidebar": "Contents",
   "toc_cell": true,
   "toc_position": {
    "height": "calc(100% - 180px)",
    "left": "10px",
    "top": "150px",
    "width": "179.188px"
   },
   "toc_section_display": true,
   "toc_window_display": true
  },
  "varInspector": {
   "cols": {
    "lenName": 16,
    "lenType": 16,
    "lenVar": 40
   },
   "kernels_config": {
    "python": {
     "delete_cmd_postfix": "",
     "delete_cmd_prefix": "del ",
     "library": "var_list.py",
     "varRefreshCmd": "print(var_dic_list())"
    },
    "r": {
     "delete_cmd_postfix": ") ",
     "delete_cmd_prefix": "rm(",
     "library": "var_list.r",
     "varRefreshCmd": "cat(var_dic_list()) "
    }
   },
   "types_to_exclude": [
    "module",
    "function",
    "builtin_function_or_method",
    "instance",
    "_Feature"
   ],
   "window_display": false
  }
 },
 "nbformat": 4,
 "nbformat_minor": 2
}

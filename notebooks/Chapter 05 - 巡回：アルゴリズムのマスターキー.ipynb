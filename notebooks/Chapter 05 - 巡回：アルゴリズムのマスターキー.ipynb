{
 "cells": [
  {
   "cell_type": "markdown",
   "metadata": {
    "toc": true
   },
   "source": [
    "<h1>Table of Contents<span class=\"tocSkip\"></span></h1>\n",
    "<div class=\"toc\"><ul class=\"toc-item\"><li><span><a href=\"#ダミーデータ作成用の関数\" data-toc-modified-id=\"ダミーデータ作成用の関数-1\">ダミーデータ作成用の関数</a></span><ul class=\"toc-item\"><li><span><a href=\"#リスト5-1-隣接集合を使って表現したグラフの連結成分上の走査\" data-toc-modified-id=\"リスト5-1-隣接集合を使って表現したグラフの連結成分上の走査-1.1\">リスト5-1 隣接集合を使って表現したグラフの連結成分上の走査</a></span></li><li><span><a href=\"#リスト5-2-連結成分の探索\" data-toc-modified-id=\"リスト5-2-連結成分の探索-1.2\">リスト5-2 連結成分の探索</a></span></li></ul></li><li><span><a href=\"#5−1-公園の中の散歩\" data-toc-modified-id=\"5−1-公園の中の散歩-2\">5−1 公園の中の散歩</a></span><ul class=\"toc-item\"><li><span><a href=\"#リスト5-3-再帰木の巡回\" data-toc-modified-id=\"リスト5-3-再帰木の巡回-2.1\">リスト5-3 再帰木の巡回</a></span></li><li><span><a href=\"#無限ループから抜け出す方法\" data-toc-modified-id=\"無限ループから抜け出す方法-2.2\">無限ループから抜け出す方法</a></span></li><li><span><a href=\"#リスト5-4-再帰を使った深さ優先探索-(DFS)\" data-toc-modified-id=\"リスト5-4-再帰を使った深さ優先探索-(DFS)-2.3\">リスト5-4 再帰を使った深さ優先探索 (DFS)</a></span></li></ul></li><li><span><a href=\"#5-2-深く行こう！\" data-toc-modified-id=\"5-2-深く行こう！-3\">5-2 深く行こう！</a></span><ul class=\"toc-item\"><li><span><a href=\"#リスト5-5-反復を使った深さ優先探索-(DFS)\" data-toc-modified-id=\"リスト5-5-反復を使った深さ優先探索-(DFS)-3.1\">リスト5-5 反復を使った深さ優先探索 (DFS)</a></span></li><li><span><a href=\"#リスト5-6-グラフの一般的な巡回関数\" data-toc-modified-id=\"リスト5-6-グラフの一般的な巡回関数-3.2\">リスト5-6 グラフの一般的な巡回関数</a></span></li><li><span><a href=\"#深さ優先時刻と（ふたたび）トポロジカルソート\" data-toc-modified-id=\"深さ優先時刻と（ふたたび）トポロジカルソート-3.3\">深さ優先時刻と（ふたたび）トポロジカルソート</a></span></li><li><span><a href=\"#リスト5-7-タイムスタンプ付き深さ優先探索-(DFS)\" data-toc-modified-id=\"リスト5-7-タイムスタンプ付き深さ優先探索-(DFS)-3.4\">リスト5-7 タイムスタンプ付き深さ優先探索 (DFS)</a></span></li><li><span><a href=\"#リスト5-8-深さ優先探索に基づいたトポロジカルソート\" data-toc-modified-id=\"リスト5-8-深さ優先探索に基づいたトポロジカルソート-3.5\">リスト5-8 深さ優先探索に基づいたトポロジカルソート</a></span></li></ul></li><li><span><a href=\"#5−3-無限の迷路と（重みなし）最短経路\" data-toc-modified-id=\"5−3-無限の迷路と（重みなし）最短経路-4\">5−3 無限の迷路と（重みなし）最短経路</a></span><ul class=\"toc-item\"><li><span><a href=\"#リスト5-9-反復深化深さ優先探索-(IDDFS)\" data-toc-modified-id=\"リスト5-9-反復深化深さ優先探索-(IDDFS)-4.1\">リスト5-9 反復深化深さ優先探索 (IDDFS)</a></span></li><li><span><a href=\"#リスト5-10-幅優先探索-(BFS)\" data-toc-modified-id=\"リスト5-10-幅優先探索-(BFS)-4.2\">リスト5-10 幅優先探索 (BFS)</a></span></li></ul></li><li><span><a href=\"#5−4-強連結成分\" data-toc-modified-id=\"5−4-強連結成分-5\">5−4 強連結成分</a></span><ul class=\"toc-item\"><li><span><a href=\"#リスト5-11-強連結成分を見つけるKosarajuのアルゴリズム\" data-toc-modified-id=\"リスト5-11-強連結成分を見つけるKosarajuのアルゴリズム-5.1\">リスト5-11 強連結成分を見つけるKosarajuのアルゴリズム</a></span></li></ul></li></ul></div>"
   ]
  },
  {
   "cell_type": "markdown",
   "metadata": {},
   "source": [
    "# ダミーデータ作成用の関数\n",
    "以下は、本章のコードを実行するために使われるダミーのグラフや木を作成する関数です。"
   ]
  },
  {
   "cell_type": "code",
   "execution_count": 1,
   "metadata": {
    "ExecuteTime": {
     "end_time": "2020-11-01T06:03:38.136290Z",
     "start_time": "2020-11-01T06:03:38.130102Z"
    }
   },
   "outputs": [],
   "source": [
    "def some_graph():\n",
    "    a, b, c, d, e, f, g, h = range(8)\n",
    "    N = [\n",
    "        [b, c, d, e, f],    # a\n",
    "        [c, e],             # b\n",
    "        [d],                # c\n",
    "        [e],                # d\n",
    "        [f],                # e\n",
    "        [c, g, h],          # f\n",
    "        [f, h],             # g\n",
    "        [f, g]              # h\n",
    "    ]\n",
    "    return N\n",
    "\n",
    "\n",
    "def some_tree():\n",
    "    a, b, c, d, e, f, g, h = range(8)\n",
    "    N = [\n",
    "        [b, c],             # a\n",
    "        [d, e],             # b\n",
    "        [f, g],             # c\n",
    "        [],                 # d\n",
    "        [],                 # e\n",
    "        [],                 # f\n",
    "        [h],                # g\n",
    "        []                  # h\n",
    "    ]\n",
    "    return N\n",
    "\n",
    "\n",
    "class stack(list):\n",
    "    add = list.append"
   ]
  },
  {
   "cell_type": "code",
   "execution_count": 2,
   "metadata": {
    "ExecuteTime": {
     "end_time": "2020-11-01T06:03:38.147750Z",
     "start_time": "2020-11-01T06:03:38.138356Z"
    }
   },
   "outputs": [
    {
     "data": {
      "text/plain": [
       "[[1, 2, 3, 4, 5], [2, 4], [3], [4], [5], [2, 6, 7], [5, 7], [5, 6]]"
      ]
     },
     "execution_count": 2,
     "metadata": {},
     "output_type": "execute_result"
    }
   ],
   "source": [
    "some_graph()"
   ]
  },
  {
   "cell_type": "code",
   "execution_count": 3,
   "metadata": {
    "ExecuteTime": {
     "end_time": "2020-11-01T06:03:38.153287Z",
     "start_time": "2020-11-01T06:03:38.149548Z"
    }
   },
   "outputs": [
    {
     "data": {
      "text/plain": [
       "[[1, 2], [3, 4], [5, 6], [], [], [], [7], []]"
      ]
     },
     "execution_count": 3,
     "metadata": {},
     "output_type": "execute_result"
    }
   ],
   "source": [
    "some_tree()"
   ]
  },
  {
   "cell_type": "markdown",
   "metadata": {},
   "source": [
    "## リスト5-1 隣接集合を使って表現したグラフの連結成分上の走査\n",
    "\n",
    "以下、図5-2のようなダンジョン（グラフ）に対するシンプルな巡回戦略の実装を示します。"
   ]
  },
  {
   "cell_type": "code",
   "execution_count": 4,
   "metadata": {
    "ExecuteTime": {
     "end_time": "2020-11-01T06:03:38.395096Z",
     "start_time": "2020-11-01T06:03:38.390577Z"
    }
   },
   "outputs": [],
   "source": [
    "def walk(G, s, S=set()):                        # ノードsからグラフを走査 [^yaku2_3_0] \n",
    "    P, Q = dict(), set()                        # 直前に訪れたノード + 訪問リスト\n",
    "    P[s] = None                                 # sには直前に訪問した場所がない\n",
    "    Q.add(s)                                    # 最初のノードsを訪問リストに入れる\n",
    "    while Q:                                    # 訪問すべきノードがある限り続ける\n",
    "        u = Q.pop()                             # 1つ任意のノードを選ぶ\n",
    "        for v in G[u].difference(P, S):         # 新しいノード？[^yaku2_3_1]\n",
    "            Q.add(v)                            # そうであれば、訪問リストに追加\n",
    "            P[v] = u                            # どこから来たかを記録\n",
    "    return P                                    # 巡回木を返す"
   ]
  },
  {
   "cell_type": "code",
   "execution_count": 5,
   "metadata": {
    "ExecuteTime": {
     "end_time": "2020-11-01T06:03:38.402363Z",
     "start_time": "2020-11-01T06:03:38.397484Z"
    }
   },
   "outputs": [
    {
     "data": {
      "text/plain": [
       "[0, 1, 2, 3, 4, 5, 6, 7]"
      ]
     },
     "execution_count": 5,
     "metadata": {},
     "output_type": "execute_result"
    }
   ],
   "source": [
    "G = some_graph()\n",
    "for i in range(len(G)):\n",
    "    G[i] = set(G[i])\n",
    "sorted(walk(G, 0))\n",
    "# [0, 1, 2, 3, 4, 5, 6, 7]"
   ]
  },
  {
   "cell_type": "markdown",
   "metadata": {},
   "source": [
    "## リスト5-2 連結成分の探索\n",
    "\n",
    "（無向グラフを仮定した場合）`walk`関数は1つの連結成分を巡回します。すべての成分を見つけるためには、以下のようにノード上をループで囲う必要があります。"
   ]
  },
  {
   "cell_type": "code",
   "execution_count": 6,
   "metadata": {
    "ExecuteTime": {
     "end_time": "2020-11-01T06:03:38.689288Z",
     "start_time": "2020-11-01T06:03:38.685614Z"
    }
   },
   "outputs": [],
   "source": [
    "def components(G):                              # 連結成分\n",
    "    comp = []\n",
    "    seen = set()                                # すでに見たノード\n",
    "    for u in G:                                 # すべてのスタート地点を試す\n",
    "        if u in seen:\n",
    "            continue                            # すでに見ていた場合、無視します\n",
    "        C = walk(G, u)                          # 成分上を巡回します\n",
    "        seen.update(C)                          # Cのキーをすでに見たノードに追加\n",
    "        comp.append(C)                          # 成分を追加\n",
    "    return comp"
   ]
  },
  {
   "cell_type": "code",
   "execution_count": 7,
   "metadata": {
    "ExecuteTime": {
     "end_time": "2020-11-01T06:03:38.698544Z",
     "start_time": "2020-11-01T06:03:38.691596Z"
    }
   },
   "outputs": [
    {
     "data": {
      "text/plain": [
       "[[0, 1, 2], [3, 4, 5]]"
      ]
     },
     "execution_count": 7,
     "metadata": {},
     "output_type": "execute_result"
    }
   ],
   "source": [
    "G = {\n",
    "    0: set([1, 2]),\n",
    "    1: set([0, 2]),\n",
    "    2: set([0, 1]),\n",
    "    3: set([4, 5]),\n",
    "    4: set([3, 5]),\n",
    "    5: set([3, 4])\n",
    "}\n",
    "comp = []\n",
    "seen = set()\n",
    "for u in G:\n",
    "    if u in seen:\n",
    "        continue\n",
    "    C = walk(G, u)\n",
    "    seen.update(C)\n",
    "    comp.append(C)\n",
    "\n",
    "[list(sorted(C)) for C in comp]\n",
    "# [[0, 1, 2], [3, 4, 5]]"
   ]
  },
  {
   "cell_type": "code",
   "execution_count": 8,
   "metadata": {
    "ExecuteTime": {
     "end_time": "2020-11-01T06:03:38.705488Z",
     "start_time": "2020-11-01T06:03:38.701400Z"
    }
   },
   "outputs": [
    {
     "data": {
      "text/plain": [
       "[[0, 1, 2], [3, 4, 5]]"
      ]
     },
     "execution_count": 8,
     "metadata": {},
     "output_type": "execute_result"
    }
   ],
   "source": [
    "[list(sorted(C)) for C in components(G)]\n",
    "# [[0, 1, 2], [3, 4, 5]]"
   ]
  },
  {
   "cell_type": "markdown",
   "metadata": {},
   "source": [
    "# 5−1 公園の中の散歩"
   ]
  },
  {
   "cell_type": "markdown",
   "metadata": {},
   "source": [
    "## リスト5-3 再帰木の巡回\n",
    "\n",
    "左手の法則の基本的な実装については以下をご覧ください（ここでは木のオブジェクト`T`は標準的なグラフ表現を想定しています）。"
   ]
  },
  {
   "cell_type": "code",
   "execution_count": 9,
   "metadata": {
    "ExecuteTime": {
     "end_time": "2020-11-01T06:03:39.367553Z",
     "start_time": "2020-11-01T06:03:39.364332Z"
    }
   },
   "outputs": [],
   "source": [
    "def tree_walk(T, r):                            # 根rからTを巡回\n",
    "    for u in T[r]:                              # 各子に対して ...\n",
    "        tree_walk(T, u)                         # ... 部分木を巡回\n",
    "\n",
    "\n",
    "def tree_walk_tested(T, r):\n",
    "    yield r  # For testing\n",
    "    for u in T[r]:\n",
    "        for v in tree_walk_tested(T, u):\n",
    "            yield v"
   ]
  },
  {
   "cell_type": "code",
   "execution_count": 10,
   "metadata": {
    "ExecuteTime": {
     "end_time": "2020-11-01T06:03:39.373780Z",
     "start_time": "2020-11-01T06:03:39.369704Z"
    }
   },
   "outputs": [
    {
     "data": {
      "text/plain": [
       "[0, 1, 3, 4, 2, 5, 6, 7]"
      ]
     },
     "execution_count": 10,
     "metadata": {},
     "output_type": "execute_result"
    }
   ],
   "source": [
    "T = some_tree()\n",
    "tree_walk(T, 0)  # Testing that it doesn't crash\n",
    "list(tree_walk_tested(T, 0))  # Get the ordering\n",
    "# [0, 1, 3, 4, 2, 5, 6, 7]"
   ]
  },
  {
   "cell_type": "markdown",
   "metadata": {},
   "source": [
    "## 無限ループから抜け出す方法"
   ]
  },
  {
   "cell_type": "markdown",
   "metadata": {},
   "source": [
    "## リスト5-4 再帰を使った深さ優先探索 (DFS)\n",
    "\n",
    "Trémauxのアルゴリズムの再帰を使った実装は、以下をご覧ください。この定式化は深さ優先探索（Depth-First Search：DFS）として知られている、最も基本的な（そして根源的に重要な）巡回アルゴリズムの1つです。"
   ]
  },
  {
   "cell_type": "code",
   "execution_count": 11,
   "metadata": {
    "ExecuteTime": {
     "end_time": "2020-11-01T06:03:39.938049Z",
     "start_time": "2020-11-01T06:03:39.933722Z"
    }
   },
   "outputs": [],
   "source": [
    "def rec_dfs(G, s, S=None):\n",
    "    if S is None: S = set()                     # 歴史を初期化\n",
    "    S.add(s)                                    # sを訪問したものとして追加。\n",
    "    for u in G[s]:                              # Explore neighbors\n",
    "        if u in S: continue                     # Already visited: Skip\n",
    "        rec_dfs(G, u, S)                        # New: Explore recursively\n",
    "    return S # For testing\n",
    "        \n",
    "def rec_dfs_tested(G, s, S=None):\n",
    "    if S is None: S = []\n",
    "    S.append(s)\n",
    "    for u in G[s]:\n",
    "        if u in S: continue\n",
    "        rec_dfs_tested(G, u, S)\n",
    "    return S"
   ]
  },
  {
   "cell_type": "code",
   "execution_count": 12,
   "metadata": {
    "ExecuteTime": {
     "end_time": "2020-11-01T06:03:39.945754Z",
     "start_time": "2020-11-01T06:03:39.940450Z"
    }
   },
   "outputs": [
    {
     "data": {
      "text/plain": [
       "[0, 1, 2, 3, 4, 5, 6, 7]"
      ]
     },
     "execution_count": 12,
     "metadata": {},
     "output_type": "execute_result"
    }
   ],
   "source": [
    "G = some_graph()\n",
    "for i in range(len(G)): \n",
    "    G[i] = set(G[i])\n",
    "list(rec_dfs(G, 0))"
   ]
  },
  {
   "cell_type": "code",
   "execution_count": 13,
   "metadata": {
    "ExecuteTime": {
     "end_time": "2020-11-01T06:03:39.952276Z",
     "start_time": "2020-11-01T06:03:39.948081Z"
    }
   },
   "outputs": [
    {
     "data": {
      "text/plain": [
       "[0, 1, 2, 3, 4, 5, 6, 7]"
      ]
     },
     "execution_count": 13,
     "metadata": {},
     "output_type": "execute_result"
    }
   ],
   "source": [
    "rec_dfs_tested(G, 0)\n",
    "[0, 1, 2, 3, 4, 5, 6, 7]"
   ]
  },
  {
   "cell_type": "markdown",
   "metadata": {},
   "source": [
    "# 5-2 深く行こう！"
   ]
  },
  {
   "cell_type": "markdown",
   "metadata": {},
   "source": [
    "## リスト5-5 反復を使った深さ優先探索 (DFS)\n",
    "\n",
    "再帰的巡回をシミュレーションするのに必要なことは、リスト5-1を`walk`のようにセットを使うアルゴリズムではなく、スタックを使うアルゴリズムに変えるだけです。以下はその反復を利用したDFSの実装を示しています。"
   ]
  },
  {
   "cell_type": "code",
   "execution_count": 14,
   "metadata": {
    "ExecuteTime": {
     "end_time": "2020-11-01T06:03:40.503402Z",
     "start_time": "2020-11-01T06:03:40.499900Z"
    }
   },
   "outputs": [],
   "source": [
    "def iter_dfs(G, s):\n",
    "    S, Q = set(), []                            # 訪れたノードの集合とキュー\n",
    "    Q.append(s)                                 # sを訪れる予定に追加\n",
    "    while Q:                                    # 訪問予定のノードは残っている限り\n",
    "        u = Q.pop()                             # 1つのノードを取得\n",
    "        if u in S:\n",
    "            continue                            # すでに訪問済みの場合、スキップ\n",
    "        S.add(u)                                # いま訪問済みのセットに追加\n",
    "        Q.extend(G[u])                          # すべての近傍を訪問予定に追加\n",
    "        yield u                                 # uは訪問済みと報告する"
   ]
  },
  {
   "cell_type": "code",
   "execution_count": 15,
   "metadata": {
    "ExecuteTime": {
     "end_time": "2020-11-01T06:03:40.508970Z",
     "start_time": "2020-11-01T06:03:40.505525Z"
    }
   },
   "outputs": [
    {
     "data": {
      "text/plain": [
       "[0, 5, 7, 6, 2, 3, 4, 1]"
      ]
     },
     "execution_count": 15,
     "metadata": {},
     "output_type": "execute_result"
    }
   ],
   "source": [
    "G = some_graph()\n",
    "list(iter_dfs(G, 0))\n",
    "# [0, 5, 7, 6, 2, 3, 4, 1]"
   ]
  },
  {
   "cell_type": "markdown",
   "metadata": {},
   "source": [
    "## リスト5-6 グラフの一般的な巡回関数\n",
    "\n",
    "`iter_dfs`関数の構造は、少しヒントを出していた一般的な巡回アルゴリズム（キュー\n",
    "のみを置き換える必要があるアルゴリズム）を実装する方法にかなり似ています。`walk`関数を\n",
    "より洗練された`traverse`関数に強化してみましょう。"
   ]
  },
  {
   "cell_type": "code",
   "execution_count": 16,
   "metadata": {
    "ExecuteTime": {
     "end_time": "2020-11-01T06:03:40.785077Z",
     "start_time": "2020-11-01T06:03:40.781948Z"
    }
   },
   "outputs": [],
   "source": [
    "def traverse(G, s, qtype=set):\n",
    "    S, Q = set(), qtype()\n",
    "    Q.add(s)\n",
    "    while Q:\n",
    "        u = Q.pop()\n",
    "        if u in S: continue\n",
    "        S.add(u)\n",
    "        for v in G[u]:\n",
    "            Q.add(v)\n",
    "        yield u"
   ]
  },
  {
   "cell_type": "markdown",
   "metadata": {},
   "source": [
    "ここでは、元のwalkに近づけるため、キューのデータ型`qtype`にはデフォルト値としてセットが使われています。次のようにスタック（一般的なキューのプロトコルのaddとpopメソッド）を簡単に定義できます。"
   ]
  },
  {
   "cell_type": "code",
   "execution_count": 17,
   "metadata": {
    "ExecuteTime": {
     "end_time": "2020-11-01T06:03:41.077159Z",
     "start_time": "2020-11-01T06:03:41.074799Z"
    }
   },
   "outputs": [],
   "source": [
    "class stack(list):\n",
    "    add = list.append"
   ]
  },
  {
   "cell_type": "markdown",
   "metadata": {},
   "source": [
    "グラフ`G`に対して実行してみましょう。"
   ]
  },
  {
   "cell_type": "code",
   "execution_count": 18,
   "metadata": {
    "ExecuteTime": {
     "end_time": "2020-11-01T06:03:41.365218Z",
     "start_time": "2020-11-01T06:03:41.361439Z"
    }
   },
   "outputs": [
    {
     "data": {
      "text/plain": [
       "[0, 1, 2, 3, 4, 5, 6, 7]"
      ]
     },
     "execution_count": 18,
     "metadata": {},
     "output_type": "execute_result"
    }
   ],
   "source": [
    "G = some_graph()\n",
    "list(traverse(G, 0))\n",
    "# [0, 1, 2, 3, 4, 5, 6, 7]"
   ]
  },
  {
   "cell_type": "markdown",
   "metadata": {},
   "source": [
    "`qtype`を`stack`にして実行してみましょう。"
   ]
  },
  {
   "cell_type": "code",
   "execution_count": 19,
   "metadata": {
    "ExecuteTime": {
     "end_time": "2020-11-01T06:03:41.680177Z",
     "start_time": "2020-11-01T06:03:41.676445Z"
    }
   },
   "outputs": [
    {
     "data": {
      "text/plain": [
       "[0, 5, 7, 6, 2, 3, 4, 1]"
      ]
     },
     "execution_count": 19,
     "metadata": {},
     "output_type": "execute_result"
    }
   ],
   "source": [
    "list(traverse(G, 0, stack))\n",
    "# [0, 5, 7, 6, 2, 3, 4, 1]"
   ]
  },
  {
   "cell_type": "markdown",
   "metadata": {},
   "source": [
    "## 深さ優先時刻と（ふたたび）トポロジカルソート"
   ]
  },
  {
   "cell_type": "markdown",
   "metadata": {},
   "source": [
    "## リスト5-7 タイムスタンプ付き深さ優先探索 (DFS)\n",
    "各ノードにタイムスタンプを足した実装は以下を参照してください。ここでは、ノードが発見されたときを発見時刻`d`、バックトラッキングされるときを終了時刻`f`としています。\n"
   ]
  },
  {
   "cell_type": "code",
   "execution_count": 20,
   "metadata": {
    "ExecuteTime": {
     "end_time": "2020-11-01T06:03:42.360896Z",
     "start_time": "2020-11-01T06:03:42.356351Z"
    }
   },
   "outputs": [],
   "source": [
    "def dfs(G, s, d, f, S=None, t=0):\n",
    "    if S is None:\n",
    "        S = set()                     # 履歴Sを初期化\n",
    "    d[s] = t\n",
    "    t += 1                            # 発見時刻を記録\n",
    "    S.add(s)                          # sを訪問済みに追加\n",
    "    for u in G[s]:                    # 近傍ノードを探索\n",
    "        if u in S:\n",
    "            continue                  # すでに訪問済みなら、スキップ\n",
    "        t = dfs(G, u, d, f, S, t)     # 再帰呼び出し; 時刻を更新\n",
    "    f[s] = t\n",
    "    t += 1                            # 終了時刻を記録\n",
    "    return t                          # 時刻を返す"
   ]
  },
  {
   "cell_type": "code",
   "execution_count": 21,
   "metadata": {
    "ExecuteTime": {
     "end_time": "2020-11-01T06:03:42.367229Z",
     "start_time": "2020-11-01T06:03:42.363326Z"
    }
   },
   "outputs": [
    {
     "data": {
      "text/plain": [
       "16"
      ]
     },
     "execution_count": 21,
     "metadata": {},
     "output_type": "execute_result"
    }
   ],
   "source": [
    "G = some_graph()\n",
    "d = {}; f = {}\n",
    "dfs(G, 0, d, f)\n",
    "# 16"
   ]
  },
  {
   "cell_type": "code",
   "execution_count": 22,
   "metadata": {
    "ExecuteTime": {
     "end_time": "2020-11-01T06:03:42.373692Z",
     "start_time": "2020-11-01T06:03:42.369748Z"
    }
   },
   "outputs": [
    {
     "data": {
      "text/plain": [
       "[0, 1, 2, 3, 4, 5, 6, 7]"
      ]
     },
     "execution_count": 22,
     "metadata": {},
     "output_type": "execute_result"
    }
   ],
   "source": [
    "[d[v] for v in range(len(G))]\n",
    "# [0, 1, 2, 3, 4, 5, 6, 7]"
   ]
  },
  {
   "cell_type": "code",
   "execution_count": 23,
   "metadata": {
    "ExecuteTime": {
     "end_time": "2020-11-01T06:03:42.380086Z",
     "start_time": "2020-11-01T06:03:42.375881Z"
    }
   },
   "outputs": [
    {
     "data": {
      "text/plain": [
       "[15, 14, 13, 12, 11, 10, 9, 8]"
      ]
     },
     "execution_count": 23,
     "metadata": {},
     "output_type": "execute_result"
    }
   ],
   "source": [
    "[f[v] for v in range(len(G))]\n",
    "# [15, 14, 13, 12, 11, 10, 9, 8]"
   ]
  },
  {
   "cell_type": "markdown",
   "metadata": {},
   "source": [
    "## リスト5-8 深さ優先探索に基づいたトポロジカルソート\n",
    "以下に示すように、最初にDFSの時刻を刻んでからソートをする代わりに、バックトラッキング時にノードを追加していくことによって、カスタマイズしたDFS中にトポロジカルソートを実行することもできます。"
   ]
  },
  {
   "cell_type": "code",
   "execution_count": 24,
   "metadata": {
    "ExecuteTime": {
     "end_time": "2020-11-01T06:03:42.678208Z",
     "start_time": "2020-11-01T06:03:42.673545Z"
    }
   },
   "outputs": [],
   "source": [
    "def dfs_topsort(G):\n",
    "    S, res = set(), []                          # 履歴と結果\n",
    "\n",
    "    def recurse(u):                             # 巡回用のサブルーチン\n",
    "        if u in S:\n",
    "            return                              # すでに訪問済みのノードを無視する\n",
    "        S.add(u)                                # 訪問済みでなければ履歴に追加\n",
    "        for v in G[u]:\n",
    "            recurse(v)                          # 近傍ノード上を再帰的に巡回\n",
    "        res.append(u)                           # uについて終了し、uを追加\n",
    "    for u in G:\n",
    "        recurse(u)                              # グラフ全体を網羅\n",
    "    res.reverse()                               # すべてを反転させる\n",
    "    return res"
   ]
  },
  {
   "cell_type": "code",
   "execution_count": 25,
   "metadata": {
    "ExecuteTime": {
     "end_time": "2020-11-01T06:03:42.691160Z",
     "start_time": "2020-11-01T06:03:42.681300Z"
    }
   },
   "outputs": [
    {
     "data": {
      "text/plain": [
       "['a', 'b', 'c', 'd', 'e', 'f']"
      ]
     },
     "execution_count": 25,
     "metadata": {},
     "output_type": "execute_result"
    }
   ],
   "source": [
    "n = 6\n",
    "from random import sample, randrange, shuffle\n",
    "from random import seed; seed(2365)\n",
    "G = dict()\n",
    "seq = list(range(n)) # Py 3 range objects aren't sequences\n",
    "shuffle(seq)\n",
    "rest = set(seq)\n",
    "for x in seq[:-1]:\n",
    "    rest.remove(x)\n",
    "    m = randrange(1,len(rest)+1)\n",
    "    G[x] = set(sample(rest, m))\n",
    "\n",
    "G[seq[-1]] = set()\n",
    "sorted = dfs_topsort(G)\n",
    "rest = set(sorted)\n",
    "for u in sorted:\n",
    "    rest.remove(u)\n",
    "    assert G[u] <= rest\n",
    "\n",
    "G = {'a': set('bf'), 'b': set('cdf'),\n",
    "'c': set('d'), 'd': set('ef'), 'e': set('f'), 'f': set()}\n",
    "dfs_topsort(G)\n",
    "# ['a', 'b', 'c', 'd', 'e', 'f']"
   ]
  },
  {
   "cell_type": "markdown",
   "metadata": {},
   "source": [
    "# 5−3 無限の迷路と（重みなし）最短経路"
   ]
  },
  {
   "cell_type": "markdown",
   "metadata": {},
   "source": [
    "## リスト5-9 反復深化深さ優先探索 (IDDFS)\n",
    "以下はIDDFSのかなり直感的な実装になります。`yielded`と呼ばれるグローバルなセットを保持し、最初に見つけたノードから構成されているので、yielded（獲得されたもの）と名付けています。"
   ]
  },
  {
   "cell_type": "code",
   "execution_count": 26,
   "metadata": {
    "ExecuteTime": {
     "end_time": "2020-11-01T06:03:43.275703Z",
     "start_time": "2020-11-01T06:03:43.270266Z"
    }
   },
   "outputs": [],
   "source": [
    "def iddfs(G, s):\n",
    "    yielded = set()                             # 初めて訪問したノードの集合\n",
    "\n",
    "    def recurse(G, s, d, S=None):               # 深さ制限付きのDFS\n",
    "        if s not in yielded:\n",
    "            yield s\n",
    "            yielded.add(s)\n",
    "        if d == 0:\n",
    "            return                              # 最大深さが0: バックトラック\n",
    "        if S is None:\n",
    "            S = set()\n",
    "        S.add(s)\n",
    "        for u in G[s]:\n",
    "            if u in S:\n",
    "                continue\n",
    "            for v in recurse(G, u, d-1, S):     # １少ない深さd-1を使って再帰呼び出し\n",
    "                yield v\n",
    "    n = len(G)\n",
    "    for d in range(n):                          # 0..V-1のすべての深さを試す\n",
    "        if len(yielded) == n:\n",
    "            break                               # すべてのノードが見つかった場合、\n",
    "        for u in recurse(G, s, d):\n",
    "            yield u"
   ]
  },
  {
   "cell_type": "code",
   "execution_count": 27,
   "metadata": {
    "ExecuteTime": {
     "end_time": "2020-11-01T06:03:43.282302Z",
     "start_time": "2020-11-01T06:03:43.278636Z"
    }
   },
   "outputs": [
    {
     "data": {
      "text/plain": [
       "[0, 1, 2, 3, 4, 5, 6, 7]"
      ]
     },
     "execution_count": 27,
     "metadata": {},
     "output_type": "execute_result"
    }
   ],
   "source": [
    "G = some_graph()\n",
    "list(iddfs(G, 0))\n",
    "# [0, 1, 2, 3, 4, 5, 6, 7]"
   ]
  },
  {
   "cell_type": "code",
   "execution_count": 28,
   "metadata": {
    "ExecuteTime": {
     "end_time": "2020-11-01T06:03:43.288747Z",
     "start_time": "2020-11-01T06:03:43.284241Z"
    }
   },
   "outputs": [
    {
     "data": {
      "text/plain": [
       "[0, 1, 2, 3]"
      ]
     },
     "execution_count": 28,
     "metadata": {},
     "output_type": "execute_result"
    }
   ],
   "source": [
    "G = [[1, 2], [0, 3], [0, 3], [1, 2]]\n",
    "list(iddfs(G, 0))\n",
    "# [0, 1, 2, 3]"
   ]
  },
  {
   "cell_type": "markdown",
   "metadata": {},
   "source": [
    "## リスト5-10 幅優先探索 (BFS)\n",
    "\n",
    "実際、BFSを使って巡回するのはIDDFSよりかなり簡単です。一般的な巡回のフレームワーク（リスト5-6を参照）で先入れ先出しキューを使えばいいのです。実際目立ったDFSとの差は、LIFOをFIFOで置き換えたこの点だけです。以下を参照ください。"
   ]
  },
  {
   "cell_type": "code",
   "execution_count": 29,
   "metadata": {
    "ExecuteTime": {
     "end_time": "2020-11-01T06:03:43.588041Z",
     "start_time": "2020-11-01T06:03:43.584060Z"
    }
   },
   "outputs": [],
   "source": [
    "from collections import deque\n",
    "\n",
    "\n",
    "def bfs(G, s):\n",
    "    P, Q = {s: None}, deque([s])                # 親とFIFOキュー\n",
    "    while Q:\n",
    "        u = Q.popleft()                         # 両端キュー(deque)に対しては定数時間\n",
    "        for v in G[u]:\n",
    "            if v in P:\n",
    "                continue                 # すでにvが親集合に存在\n",
    "            P[v] = u                            # uから到達。つまり、uが親\n",
    "            Q.append(v)\n",
    "    return P"
   ]
  },
  {
   "cell_type": "code",
   "execution_count": 30,
   "metadata": {
    "ExecuteTime": {
     "end_time": "2020-11-01T06:03:43.595646Z",
     "start_time": "2020-11-01T06:03:43.590755Z"
    }
   },
   "outputs": [
    {
     "data": {
      "text/plain": [
       "[[1, 2, 3, 4, 5], [2, 4], [3], [4], [5], [2, 6, 7], [5, 7], [5, 6]]"
      ]
     },
     "execution_count": 30,
     "metadata": {},
     "output_type": "execute_result"
    }
   ],
   "source": [
    "some_graph()"
   ]
  },
  {
   "cell_type": "code",
   "execution_count": 31,
   "metadata": {
    "ExecuteTime": {
     "end_time": "2020-11-01T06:03:43.604007Z",
     "start_time": "2020-11-01T06:03:43.599614Z"
    }
   },
   "outputs": [
    {
     "data": {
      "text/plain": [
       "{0: None, 1: 0, 2: 0, 3: 0, 4: 0, 5: 0, 6: 5, 7: 5}"
      ]
     },
     "execution_count": 31,
     "metadata": {},
     "output_type": "execute_result"
    }
   ],
   "source": [
    "G = some_graph()\n",
    "bfs(G, 0)\n",
    "# {0: None, 1: 0, 2: 0, 3: 0, 4: 0, 5: 0, 6: 5, 7: 5}"
   ]
  },
  {
   "cell_type": "code",
   "execution_count": 32,
   "metadata": {
    "ExecuteTime": {
     "end_time": "2020-11-01T06:03:43.611108Z",
     "start_time": "2020-11-01T06:03:43.606314Z"
    }
   },
   "outputs": [
    {
     "data": {
      "text/plain": [
       "{0: None, 1: 0, 2: 0, 3: 1}"
      ]
     },
     "execution_count": 32,
     "metadata": {},
     "output_type": "execute_result"
    }
   ],
   "source": [
    "G = [[1, 2], [0, 3], [0, 3], [1, 2]]\n",
    "bfs(G, 0)\n",
    "# {0: None, 1: 0, 2: 0, 3: 1}"
   ]
  },
  {
   "cell_type": "code",
   "execution_count": 33,
   "metadata": {
    "ExecuteTime": {
     "end_time": "2020-11-01T06:03:43.618536Z",
     "start_time": "2020-11-01T06:03:43.613422Z"
    }
   },
   "outputs": [
    {
     "data": {
      "text/plain": [
       "[0, 1, 3]"
      ]
     },
     "execution_count": 33,
     "metadata": {},
     "output_type": "execute_result"
    }
   ],
   "source": [
    "P = _\n",
    "u = 3\n",
    "path = [u]\n",
    "while P[u] is not None:\n",
    "    path.append(P[u])\n",
    "    u = P[u]\n",
    "\n",
    "path.reverse()\n",
    "path\n",
    "# [0, 1, 3]"
   ]
  },
  {
   "cell_type": "markdown",
   "metadata": {},
   "source": [
    "# 5−4 強連結成分"
   ]
  },
  {
   "cell_type": "markdown",
   "metadata": {},
   "source": [
    "## リスト5-11 強連結成分を見つけるKosarajuのアルゴリズム\n",
    "\n",
    "Kosarajuのアルゴリズムの概要は、以下です。「手動」でDFSを使う代わりに、ノードを終了時刻の逆順でソートし、`dfs_topsort`関数を使っている点に注意してください。\n",
    "1. シーケンス`seq`を生み出す`dfs_topsort`をグラフ上で実行する\n",
    "2. すべてのエッジを反転させる\n",
    "3. `seq`から（順に）スタート地点を選びながら、巡回の処理を実行する\n",
    "\n",
    "これを実装したのが以下です。"
   ]
  },
  {
   "cell_type": "code",
   "execution_count": 34,
   "metadata": {
    "ExecuteTime": {
     "end_time": "2020-11-01T06:03:44.234086Z",
     "start_time": "2020-11-01T06:03:44.228537Z"
    }
   },
   "outputs": [],
   "source": [
    "from string import ascii_lowercase\n",
    "\n",
    "\n",
    "def tr(G):  # Gの（すべてのエッジを）反転\n",
    "    GT = {}\n",
    "    for u in G:\n",
    "        GT[u] = set()                           # すべてのノードを取得\n",
    "    for u in G:\n",
    "        for v in G[u]:\n",
    "            GT[v].add(u)                        # すべての反転したエッジを追加\n",
    "    return GT\n",
    "\n",
    "\n",
    "def scc(G):\n",
    "    GT = tr(G)                                  # 反転させたグラフを取得\n",
    "    sccs, seen = [], set()\n",
    "    for u in dfs_topsort(G):                    # DFSのスタート地点\n",
    "        if u in seen:\n",
    "            continue                            # 既に訪問したノードを無視\n",
    "        C = walk(GT, u, seen)                   # 逆戻りしないようにseenを除いて再帰的にwalk\n",
    "        seen.update(C)                          # Cを訪問済みに追加\n",
    "        sccs.append(C)                          # 別のSCCを発見\n",
    "    return sccs\n",
    "\n",
    "\n",
    "def parse_graph(s):\n",
    "    G = {}\n",
    "    for u, line in zip(ascii_lowercase, s.split(\"/\")):\n",
    "        G[u] = set(line)\n",
    "    return G"
   ]
  },
  {
   "cell_type": "code",
   "execution_count": 35,
   "metadata": {
    "ExecuteTime": {
     "end_time": "2020-11-01T06:03:44.240173Z",
     "start_time": "2020-11-01T06:03:44.236251Z"
    }
   },
   "outputs": [
    {
     "data": {
      "text/plain": [
       "[['a', 'd', 'b', 'c'], ['e', 'g', 'f'], ['h', 'i']]"
      ]
     },
     "execution_count": 35,
     "metadata": {},
     "output_type": "execute_result"
    }
   ],
   "source": [
    "G = parse_graph('bc/die/d/ah/f/g/eh/i/h')\n",
    "list(map(list, scc(G)))\n",
    "# [['a', 'c', 'b', 'd'], ['e', 'g', 'f'], ['i', 'h']]"
   ]
  }
 ],
 "metadata": {
  "hide_input": false,
  "kernelspec": {
   "display_name": "Python (py36)",
   "language": "python",
   "name": "py36"
  },
  "language_info": {
   "codemirror_mode": {
    "name": "ipython",
    "version": 3
   },
   "file_extension": ".py",
   "mimetype": "text/x-python",
   "name": "python",
   "nbconvert_exporter": "python",
   "pygments_lexer": "ipython3",
   "version": "3.6.7"
  },
  "toc": {
   "base_numbering": 1,
   "nav_menu": {},
   "number_sections": false,
   "sideBar": true,
   "skip_h1_title": false,
   "title_cell": "Table of Contents",
   "title_sidebar": "Contents",
   "toc_cell": true,
   "toc_position": {
    "height": "calc(100% - 180px)",
    "left": "10px",
    "top": "150px",
    "width": "165px"
   },
   "toc_section_display": true,
   "toc_window_display": true
  },
  "varInspector": {
   "cols": {
    "lenName": 16,
    "lenType": 16,
    "lenVar": 40
   },
   "kernels_config": {
    "python": {
     "delete_cmd_postfix": "",
     "delete_cmd_prefix": "del ",
     "library": "var_list.py",
     "varRefreshCmd": "print(var_dic_list())"
    },
    "r": {
     "delete_cmd_postfix": ") ",
     "delete_cmd_prefix": "rm(",
     "library": "var_list.r",
     "varRefreshCmd": "cat(var_dic_list()) "
    }
   },
   "types_to_exclude": [
    "module",
    "function",
    "builtin_function_or_method",
    "instance",
    "_Feature"
   ],
   "window_display": false
  }
 },
 "nbformat": 4,
 "nbformat_minor": 2
}

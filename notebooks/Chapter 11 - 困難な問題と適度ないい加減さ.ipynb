{
 "cells": [
  {
   "cell_type": "markdown",
   "metadata": {
    "toc": true
   },
   "source": [
    "<h1>Table of Contents<span class=\"tocSkip\"></span></h1>\n",
    "<div class=\"toc\"><ul class=\"toc-item\"><li><span><a href=\"#11-6-困難な状況になると、賢いものはいい加減になる\" data-toc-modified-id=\"11-6-困難な状況になると、賢いものはいい加減になる-1\">11-6 困難な状況になると、賢いものはいい加減になる</a></span><ul class=\"toc-item\"><li><span><a href=\"#リスト-11-1-メトリックTSPの近似率2の「木の周りを2周」アルゴリズム\" data-toc-modified-id=\"リスト-11-1-メトリックTSPの近似率2の「木の周りを2周」アルゴリズム-1.1\">リスト 11-1 メトリックTSPの近似率2の「木の周りを2周」アルゴリズム</a></span></li></ul></li><li><span><a href=\"#11-8-物語の教訓は何だったのか\" data-toc-modified-id=\"11-8-物語の教訓は何だったのか-2\">11-8 物語の教訓は何だったのか</a></span><ul class=\"toc-item\"><li><span><a href=\"#リスト11-2-分枝限定法を使ったナップサック問題の解法\" data-toc-modified-id=\"リスト11-2-分枝限定法を使ったナップサック問題の解法-2.1\">リスト11-2 分枝限定法を使ったナップサック問題の解法</a></span></li></ul></li></ul></div>"
   ]
  },
  {
   "cell_type": "markdown",
   "metadata": {},
   "source": [
    "# 11-6 困難な状況になると、賢いものはいい加減になる"
   ]
  },
  {
   "cell_type": "markdown",
   "metadata": {},
   "source": [
    "## リスト 11-1 メトリックTSPの近似率2の「木の周りを2周」アルゴリズム\n",
    "\n",
    "以下、「木の周りを2周」アルゴリズムのアルゴリズムの実装を示します。primの実装はリスト7-5で示しています。"
   ]
  },
  {
   "cell_type": "code",
   "execution_count": 1,
   "metadata": {
    "ExecuteTime": {
     "end_time": "2020-11-02T06:25:31.815268Z",
     "start_time": "2020-11-02T06:25:31.812240Z"
    }
   },
   "outputs": [],
   "source": [
    "from __future__ import division\n",
    "from math import sqrt\n",
    "from collections import defaultdict\n",
    "from heapq import heappop, heappush\n",
    "from itertools import combinations"
   ]
  },
  {
   "cell_type": "code",
   "execution_count": 2,
   "metadata": {
    "ExecuteTime": {
     "end_time": "2020-11-02T06:25:31.823823Z",
     "start_time": "2020-11-02T06:25:31.819592Z"
    }
   },
   "outputs": [],
   "source": [
    "# 第7章 Primのアルゴリズム\n",
    "def prim(G, s):\n",
    "    P, Q = {}, [(0, None, s)]\n",
    "    while Q:\n",
    "        _, p, u = heappop(Q)\n",
    "        if u in P:\n",
    "            continue\n",
    "        P[u] = p\n",
    "        for v, w in G[u].items():\n",
    "            heappush(Q, (w, u, v))\n",
    "    return P"
   ]
  },
  {
   "cell_type": "code",
   "execution_count": 3,
   "metadata": {
    "ExecuteTime": {
     "end_time": "2020-11-02T06:25:31.830619Z",
     "start_time": "2020-11-02T06:25:31.826375Z"
    }
   },
   "outputs": [],
   "source": [
    "from collections import defaultdict\n",
    "\n",
    "\n",
    "def mtsp(G, r):                                 # メトリックTSPに対する近似率2のアルゴリズム\n",
    "    T, C = defaultdict(list), []                # 木とサイクル\n",
    "    for c, p in prim(G, r).items():             # 巡回できる最小全域木\n",
    "        T[p].append(c)                          # 子は親の近傍\n",
    "\n",
    "    def walk(r):                                # 再帰的DFS\n",
    "        C.append(r)                             # サイクル順に整列しているデータ\n",
    "        for v in T[r]:\n",
    "            walk(v)                             # 部分木を再帰的に訪問\n",
    "    walk(r)                                     # 根から巡回\n",
    "    return C                                    # 少なくとも最適値の半分のサイクルを返す"
   ]
  },
  {
   "cell_type": "code",
   "execution_count": 4,
   "metadata": {
    "ExecuteTime": {
     "end_time": "2020-11-02T06:25:31.836333Z",
     "start_time": "2020-11-02T06:25:31.832391Z"
    }
   },
   "outputs": [],
   "source": [
    "def euc(a, b):\n",
    "    return sqrt((a[0]-b[0])**2 + (a[1]-b[1])**2)\n",
    "\n",
    "def euc_graph(pts):\n",
    "    G = defaultdict(dict)\n",
    "    for i, p in enumerate(pts):\n",
    "        for j, q in enumerate(pts):\n",
    "            if i == j: continue\n",
    "            G[i][j] = euc(p,q)\n",
    "    return G"
   ]
  },
  {
   "cell_type": "code",
   "execution_count": 5,
   "metadata": {
    "ExecuteTime": {
     "end_time": "2020-11-02T06:25:31.847461Z",
     "start_time": "2020-11-02T06:25:31.837893Z"
    }
   },
   "outputs": [
    {
     "data": {
      "text/plain": [
       "['a', 'b', 'c', 'h', 'd', 'e', 'f', 'g']"
      ]
     },
     "execution_count": 5,
     "metadata": {},
     "output_type": "execute_result"
    }
   ],
   "source": [
    "G = euc_graph([\n",
    " (1,4), (1,2), (0,1), (3,4), (4,3), (3,2), (5,2), (2,0)])\n",
    "names = \"abcdefgh\"\n",
    "[names[i] for i in mtsp(G, 0)] # Example from Cormen:\n",
    "# ['a', 'b', 'c', 'h', 'd', 'e', 'f', 'g']"
   ]
  },
  {
   "cell_type": "markdown",
   "metadata": {},
   "source": [
    "# 11-8 物語の教訓は何だったのか"
   ]
  },
  {
   "cell_type": "markdown",
   "metadata": {
    "ExecuteTime": {
     "end_time": "2020-09-23T06:38:16.717310Z",
     "start_time": "2020-09-23T06:38:16.714986Z"
    }
   },
   "source": [
    "## リスト11-2 分枝限定法を使ったナップサック問題の解法\n",
    "\n",
    "\n",
    "以下、0-1ナップサック問題に対する解法の実装を示しています。シンプルにするために、このコードは最適解の値だけを計算しています。"
   ]
  },
  {
   "cell_type": "code",
   "execution_count": 6,
   "metadata": {
    "ExecuteTime": {
     "end_time": "2020-11-02T06:25:32.090626Z",
     "start_time": "2020-11-02T06:25:32.081117Z"
    }
   },
   "outputs": [],
   "source": [
    "from __future__ import division\n",
    "from heapq import heappush, heappop\n",
    "from itertools import count\n",
    "\n",
    "\n",
    "def bb_knapsack(w, v, c):\n",
    "    sol = 0                                     # ある時点での最適解\n",
    "    n = len(w)                                  # オブジェクトの数\n",
    "\n",
    "    idxs = list(range(n))\n",
    "    idxs.sort(key=lambda i: v[i]/w[i],          # 単位価値で降順にソート\n",
    "              reverse=True)\n",
    "\n",
    "    def bound(sw, sv, m):                       # 貪欲法によるナップサック境界\n",
    "        if m == n:\n",
    "            return sv                           # オブジェクトが残っていない場合\n",
    "        objs = ((v[i], w[i]) for i in idxs[m:]) # 単位価値順で降順にそーとされている\n",
    "        for av, aw in objs:                     # 価値と重さを追加\n",
    "            if sw + aw > c:\n",
    "                break                           # まだ空きがある場合\n",
    "            sw += aw                            # wtをwtsの和に追加\n",
    "            sv += av                            # valをvalsの和に追加\n",
    "        return sv + (av/aw)*(c-sw)              # 最後のオブジェクトの一部を追加\n",
    "\n",
    "    def node(sw, sv, m):                        # ノード（子を生成）\n",
    "        nonlocal sol                            # solはbb_knapsackスコープの変数solを参照する\n",
    "        if sw > c:\n",
    "            return                              # 重みの和が重すぎる場合、終了\n",
    "        sol = max(sol, sv)                      # そうでない場合: 解を更新\n",
    "        if m == n:\n",
    "            return                              # オブジェクトがない場合、終了\n",
    "        i = idxs[m]                             # 該当のインデックスを取得\n",
    "        ch = [(sw, sv), (sw+w[i], sv+v[i])]     # 子ノード:mのある場合・ない場合\n",
    "        for sw, sv in ch:                       # どちらの場合も試す\n",
    "            b = bound(sw, sv, m+1)              # m+1オブジェクトに対する境界\n",
    "            if b > sol:                         # この枝は有望な場合\n",
    "                yield b, node(sw, sv, m+1)      # 境界と子を返す\n",
    "\n",
    "    num = count()                               # ヒープ衝突を避ける\n",
    "    Q = [(0, next(num), node(0, 0, 0))]         # 根から開始\n",
    "    while Q:                                    # ノードが残っている限り\n",
    "        _, _, r = heappop(Q)                    # ノードを1つ取得\n",
    "        for b, u in r:                          # 展開し、\n",
    "            heappush(Q, (b, next(num), u))      # ... 子を出力\n",
    "\n",
    "    return sol                                  # 解を返す"
   ]
  },
  {
   "cell_type": "code",
   "execution_count": 7,
   "metadata": {
    "ExecuteTime": {
     "end_time": "2020-11-02T06:25:32.101501Z",
     "start_time": "2020-11-02T06:25:32.092618Z"
    }
   },
   "outputs": [],
   "source": [
    "from random import *\n",
    "funcs = [bb_knapsack]\n",
    "cases = [\n",
    "    #[[2, 4, 3, 6, 5], [2, 4, 3, 6, 6], 12, -1],\n",
    "    [[2, 3, 4, 5], [3, 4, 5, 6], 5, 7],\n",
    "    [[5, 1], [10, 75], 3, 75]\n",
    "]\n",
    "for i in range(20):\n",
    "    n = randrange(10)\n",
    "    w = [randrange(1, 100) for i in range(n)]\n",
    "    v = [randrange(1, 100) for i in range(n)]\n",
    "    W = randrange(sum(w)+1)\n",
    "    cases.append([w, v, W, -1])\n",
    "for w, v, W, e in cases:\n",
    "    sols = set(f(w, v, W) for f in funcs)\n",
    "    assert len(sols) == 1, (w, v, W, e, sols)\n",
    "    if e >= 0:\n",
    "        assert sols.pop() == e"
   ]
  }
 ],
 "metadata": {
  "hide_input": false,
  "kernelspec": {
   "display_name": "Python (py36)",
   "language": "python",
   "name": "py36"
  },
  "language_info": {
   "codemirror_mode": {
    "name": "ipython",
    "version": 3
   },
   "file_extension": ".py",
   "mimetype": "text/x-python",
   "name": "python",
   "nbconvert_exporter": "python",
   "pygments_lexer": "ipython3",
   "version": "3.6.7"
  },
  "toc": {
   "base_numbering": 1,
   "nav_menu": {},
   "number_sections": false,
   "sideBar": true,
   "skip_h1_title": false,
   "title_cell": "Table of Contents",
   "title_sidebar": "Contents",
   "toc_cell": true,
   "toc_position": {},
   "toc_section_display": true,
   "toc_window_display": true
  },
  "varInspector": {
   "cols": {
    "lenName": 16,
    "lenType": 16,
    "lenVar": 40
   },
   "kernels_config": {
    "python": {
     "delete_cmd_postfix": "",
     "delete_cmd_prefix": "del ",
     "library": "var_list.py",
     "varRefreshCmd": "print(var_dic_list())"
    },
    "r": {
     "delete_cmd_postfix": ") ",
     "delete_cmd_prefix": "rm(",
     "library": "var_list.r",
     "varRefreshCmd": "cat(var_dic_list()) "
    }
   },
   "types_to_exclude": [
    "module",
    "function",
    "builtin_function_or_method",
    "instance",
    "_Feature"
   ],
   "window_display": false
  }
 },
 "nbformat": 4,
 "nbformat_minor": 2
}

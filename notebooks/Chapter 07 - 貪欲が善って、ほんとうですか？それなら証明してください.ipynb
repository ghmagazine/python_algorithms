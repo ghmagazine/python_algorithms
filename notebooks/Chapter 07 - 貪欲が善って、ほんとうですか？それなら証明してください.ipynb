{
 "cells": [
  {
   "cell_type": "markdown",
   "metadata": {
    "toc": true
   },
   "source": [
    "<h1>Table of Contents<span class=\"tocSkip\"></span></h1>\n",
    "<div class=\"toc\"><ul class=\"toc-item\"><li><span><a href=\"#7-1-一歩ずつ安全に\" data-toc-modified-id=\"7-1-一歩ずつ安全に-1\">7-1 一歩ずつ安全に</a></span></li><li><span><a href=\"#7-3-Huffmanのアルゴリズム\" data-toc-modified-id=\"7-3-Huffmanのアルゴリズム-2\">7-3 Huffmanのアルゴリズム</a></span><ul class=\"toc-item\"><li><span><a href=\"#リスト7-1-Huffmanのアルゴリズム\" data-toc-modified-id=\"リスト7-1-Huffmanのアルゴリズム-2.1\">リスト7-1 Huffmanのアルゴリズム</a></span></li><li><span><a href=\"#リスト7-2-Huffman木からHuffman符号を抽出\" data-toc-modified-id=\"リスト7-2-Huffman木からHuffman符号を抽出-2.2\">リスト7-2 Huffman木からHuffman符号を抽出</a></span></li></ul></li><li><span><a href=\"#7-4-最小全域木\" data-toc-modified-id=\"7-4-最小全域木-3\">7-4 最小全域木</a></span><ul class=\"toc-item\"><li><span><a href=\"#Kruskalのアルゴリズム\" data-toc-modified-id=\"Kruskalのアルゴリズム-3.1\">Kruskalのアルゴリズム</a></span></li><li><span><a href=\"#リスト7-3-Kruskalのアルゴリズムの簡単な実装\" data-toc-modified-id=\"リスト7-3-Kruskalのアルゴリズムの簡単な実装-3.2\">リスト7-3 Kruskalのアルゴリズムの簡単な実装</a></span></li><li><span><a href=\"#リスト7-4-Kruskalのアルゴリズム\" data-toc-modified-id=\"リスト7-4-Kruskalのアルゴリズム-3.3\">リスト7-4 Kruskalのアルゴリズム</a></span></li><li><span><a href=\"#Primのアルゴリズム\" data-toc-modified-id=\"Primのアルゴリズム-3.4\">Primのアルゴリズム</a></span></li><li><span><a href=\"#リスト7-5-Primのアルゴリズム\" data-toc-modified-id=\"リスト7-5-Primのアルゴリズム-3.5\">リスト7-5 Primのアルゴリズム</a></span></li></ul></li></ul></div>"
   ]
  },
  {
   "cell_type": "markdown",
   "metadata": {},
   "source": [
    "# 7-1 一歩ずつ安全に\n",
    "貪慾法のシンプルな問題例として、お釣りを用意すること、つまり、できるだけ少ないコインとお札で与えられた合計金額に近い値を作る問題を考えてみましょう。\n",
    "\n",
    "\n",
    "以下のコードで示すように、そのお金の単位を降順でソートし、最も大きい額面のものから使っていきます。（浮動小数点の問題を避けるために100倍の値のセントで計算しています）。"
   ]
  },
  {
   "cell_type": "code",
   "execution_count": 1,
   "metadata": {
    "ExecuteTime": {
     "end_time": "2020-11-02T05:25:34.232198Z",
     "start_time": "2020-11-02T05:25:34.216595Z"
    }
   },
   "outputs": [
    {
     "data": {
      "text/plain": [
       "5632"
      ]
     },
     "execution_count": 1,
     "metadata": {},
     "output_type": "execute_result"
    }
   ],
   "source": [
    "denom = [10000, 5000, 2000, 1000, 500, 200, 100, 50, 25, 10, 5, 1]\n",
    "owed = 5632\n",
    "payed = []\n",
    "for d in denom:\n",
    "    while owed >= d:\n",
    "        owed -= d\n",
    "        payed.append(d)\n",
    "\n",
    "sum(payed)\n",
    "# 5632"
   ]
  },
  {
   "cell_type": "code",
   "execution_count": 2,
   "metadata": {
    "ExecuteTime": {
     "end_time": "2020-11-02T05:25:34.239035Z",
     "start_time": "2020-11-02T05:25:34.234922Z"
    }
   },
   "outputs": [
    {
     "data": {
      "text/plain": [
       "[5000, 500, 100, 25, 5, 1, 1]"
      ]
     },
     "execution_count": 2,
     "metadata": {},
     "output_type": "execute_result"
    }
   ],
   "source": [
    "payed\n",
    "[5000, 500, 100, 25, 5, 1, 1]"
   ]
  },
  {
   "cell_type": "code",
   "execution_count": 3,
   "metadata": {
    "ExecuteTime": {
     "end_time": "2020-11-02T05:25:34.245167Z",
     "start_time": "2020-11-02T05:25:34.241162Z"
    }
   },
   "outputs": [
    {
     "data": {
      "text/plain": [
       "7"
      ]
     },
     "execution_count": 3,
     "metadata": {},
     "output_type": "execute_result"
    }
   ],
   "source": [
    "len(payed)\n",
    "# 7"
   ]
  },
  {
   "cell_type": "markdown",
   "metadata": {},
   "source": [
    "# 7-3 Huffmanのアルゴリズム"
   ]
  },
  {
   "cell_type": "markdown",
   "metadata": {},
   "source": [
    "## リスト7-1 Huffmanのアルゴリズム\n",
    "\n",
    "以下は、Huffmanのアルゴリズムの1つの実装例です。木は入れ子構造のリストで表現し、その木の集合（森）を部分解として組み上げています。"
   ]
  },
  {
   "cell_type": "code",
   "execution_count": 4,
   "metadata": {
    "ExecuteTime": {
     "end_time": "2020-11-02T05:25:34.549709Z",
     "start_time": "2020-11-02T05:25:34.544861Z"
    }
   },
   "outputs": [],
   "source": [
    "from heapq import heapify, heappush, heappop\n",
    "from itertools import count\n",
    "\n",
    "\n",
    "def huffman(seq, frq):\n",
    "    num = count()\n",
    "    trees = list(zip(frq, num, seq))            # num が有効な順序を保証\n",
    "    heapify(trees)                              # frqに基づいた最小ヒープ\n",
    "    while len(trees) > 1:                       # すべてが結合されるまで\n",
    "        fa, _, a = heappop(trees)               # 最小の木を2つ選ぶ\n",
    "        fb, _, b = heappop(trees)\n",
    "        n = next(num)\n",
    "        heappush(trees, (fa+fb, n, [a, b]))     # 　結合し、再度追加する\n",
    "    return trees[0][-1]"
   ]
  },
  {
   "cell_type": "markdown",
   "metadata": {},
   "source": [
    "以下が、このコードの使い方の一例です。"
   ]
  },
  {
   "cell_type": "code",
   "execution_count": 5,
   "metadata": {
    "ExecuteTime": {
     "end_time": "2020-11-02T05:25:34.721235Z",
     "start_time": "2020-11-02T05:25:34.716845Z"
    }
   },
   "outputs": [
    {
     "data": {
      "text/plain": [
       "[['i', [['a', 'b'], 'e']], [['f', 'g'], [['c', 'd'], 'h']]]"
      ]
     },
     "execution_count": 5,
     "metadata": {},
     "output_type": "execute_result"
    }
   ],
   "source": [
    "seq = \"abcdefghi\"\n",
    "frq = [4, 5, 6, 9, 11, 12, 15, 16, 20]\n",
    "huffman(seq, frq)\n",
    "# [['i', [['a', 'b'], 'e']], [['f', 'g'], [['c', 'd'], 'h']]]"
   ]
  },
  {
   "cell_type": "markdown",
   "metadata": {},
   "source": [
    "## リスト7-2 Huffman木からHuffman符号を抽出\n",
    "\n",
    "テキストの圧縮および解凍をするには、前処理と後処理が必要です。最初に、（例えば、`collections`モジュールの`Counter`クラスを使って）頻度を算出するために文字を数える必要があります。次に、Huffman木が得られたら、以下のリスト7-2に示すように、再帰を使った単純な巡回によって、すべての文字コードを見つけます。"
   ]
  },
  {
   "cell_type": "code",
   "execution_count": 6,
   "metadata": {
    "ExecuteTime": {
     "end_time": "2020-11-02T05:25:34.958989Z",
     "start_time": "2020-11-02T05:25:34.953222Z"
    }
   },
   "outputs": [],
   "source": [
    "def codes(tree, prefix=\"\"):\n",
    "    if len(tree) == 1:\n",
    "        yield (tree, prefix)                    # コードと葉\n",
    "        return\n",
    "    for bit, child in zip(\"01\", tree):          # 左は(0)、右は (1)を表す\n",
    "        for pair in codes(child, prefix + bit): # コードを再帰的に取得\n",
    "            yield pair"
   ]
  },
  {
   "cell_type": "code",
   "execution_count": 7,
   "metadata": {
    "ExecuteTime": {
     "end_time": "2020-11-02T05:25:34.967085Z",
     "start_time": "2020-11-02T05:25:34.962195Z"
    }
   },
   "outputs": [
    {
     "data": {
      "text/plain": [
       "('00', '0100', '1100')"
      ]
     },
     "execution_count": 7,
     "metadata": {},
     "output_type": "execute_result"
    }
   ],
   "source": [
    "C = dict(codes(_))              #  \"_\" は1つ前のセルの出力を保持しています。\n",
    "C['i'], C['a'], C['c']\n",
    "# ('00', '0100', '1100')"
   ]
  },
  {
   "cell_type": "markdown",
   "metadata": {},
   "source": [
    "# 7-4 最小全域木"
   ]
  },
  {
   "cell_type": "markdown",
   "metadata": {},
   "source": [
    "## Kruskalのアルゴリズム"
   ]
  },
  {
   "cell_type": "markdown",
   "metadata": {},
   "source": [
    "## リスト7-3 Kruskalのアルゴリズムの簡単な実装\n",
    "\n",
    "以下、Kruskalのアルゴリズムをマップ`C`を使って「指向先（pointing）」として実装しています。"
   ]
  },
  {
   "cell_type": "code",
   "execution_count": 8,
   "metadata": {
    "ExecuteTime": {
     "end_time": "2020-11-02T05:25:35.498973Z",
     "start_time": "2020-11-02T05:25:35.492947Z"
    }
   },
   "outputs": [],
   "source": [
    "def naive_find(C, u):                           # 成分の代表を見つける\n",
    "    while C[u] != u:                            # 代表は自身を指している場合を除く\n",
    "        u = C[u]\n",
    "    return u\n",
    "\n",
    "\n",
    "def naive_union(C, u, v):\n",
    "    u = naive_find(C, u)                        # 両方の代表を見つける\n",
    "    v = naive_find(C, v)\n",
    "    C[u] = v                                    # 1つの代表がもう1つの代表を指すようにする\n",
    "\n",
    "\n",
    "def naive_kruskal(G):\n",
    "    E = [(G[u][v], u, v) for u in G for v in G[u]]\n",
    "    T = set()                                   # 空の部分解\n",
    "    C = {u: u for u in G}                       # 成分の代表\n",
    "    for _, u, v in sorted(E):                   # 重みによってソートされたエッジ\n",
    "        if naive_find(C, u) != naive_find(C, v):\n",
    "            T.add((u, v))                       # 代表が異なる場合、それを使いましょう\n",
    "            naive_union(C, u, v)                # 成分を結合\n",
    "    return T"
   ]
  },
  {
   "cell_type": "code",
   "execution_count": 9,
   "metadata": {
    "ExecuteTime": {
     "end_time": "2020-11-02T05:25:35.506963Z",
     "start_time": "2020-11-02T05:25:35.501780Z"
    }
   },
   "outputs": [
    {
     "data": {
      "text/plain": [
       "[(0, 1), (2, 3), (0, 2)]"
      ]
     },
     "execution_count": 9,
     "metadata": {},
     "output_type": "execute_result"
    }
   ],
   "source": [
    "G = {\n",
    "    0: {1: 1, 2: 3, 3: 4},\n",
    "    1: {2: 5},\n",
    "    2: {3: 2},\n",
    "    3: set()\n",
    "}\n",
    "list(naive_kruskal(G))\n",
    "# [(0, 1), (2, 3), (0, 2)]"
   ]
  },
  {
   "cell_type": "markdown",
   "metadata": {},
   "source": [
    "## リスト7-4 Kruskalのアルゴリズム\n",
    "\n",
    "\n",
    "改善された`find`と`union`の実装は以下を参照してください。"
   ]
  },
  {
   "cell_type": "code",
   "execution_count": 10,
   "metadata": {
    "ExecuteTime": {
     "end_time": "2020-11-02T05:25:35.690156Z",
     "start_time": "2020-11-02T05:25:35.683016Z"
    }
   },
   "outputs": [],
   "source": [
    "def find(C, u):\n",
    "    if C[u] != u:\n",
    "        C[u] = find(C, C[u])                    # パス圧縮\n",
    "    return C[u]\n",
    "\n",
    "\n",
    "def union(C, R, u, v):\n",
    "    u, v = find(C, u), find(C, v)\n",
    "    if R[u] > R[v]:                             # ランクによる統合\n",
    "        C[v] = u\n",
    "    else:\n",
    "        C[u] = v\n",
    "    if R[u] == R[v]:                            # 同ランクの場合、vを1つ上にあげる\n",
    "        R[v] += 1\n",
    "\n",
    "\n",
    "def kruskal(G):\n",
    "    E = [(G[u][v], u, v) for u in G for v in G[u]]\n",
    "    T = set()\n",
    "    C, R = {u: u for u in G}, {u: 0 for u in G}   # 成分の代表とランク\n",
    "    for _, u, v in sorted(E):\n",
    "        if find(C, u) != find(C, v):\n",
    "            T.add((u, v))\n",
    "            union(C, R, u, v)\n",
    "    return T"
   ]
  },
  {
   "cell_type": "code",
   "execution_count": 11,
   "metadata": {
    "ExecuteTime": {
     "end_time": "2020-11-02T05:25:35.697771Z",
     "start_time": "2020-11-02T05:25:35.692642Z"
    }
   },
   "outputs": [
    {
     "data": {
      "text/plain": [
       "[(0, 1), (2, 3), (0, 2)]"
      ]
     },
     "execution_count": 11,
     "metadata": {},
     "output_type": "execute_result"
    }
   ],
   "source": [
    "G = {\n",
    "    0: {1: 1, 2: 3, 3: 4},\n",
    "    1: {2: 5},\n",
    "    2: {3: 2},\n",
    "    3: set()\n",
    "}\n",
    "list(kruskal(G))\n",
    "# [(0, 1), (2, 3), (0, 2)]"
   ]
  },
  {
   "cell_type": "markdown",
   "metadata": {},
   "source": [
    "## Primのアルゴリズム"
   ]
  },
  {
   "cell_type": "markdown",
   "metadata": {},
   "source": [
    "## リスト7-5 Primのアルゴリズム\n",
    "\n",
    "以下に、Primのアルゴリズムの実装例を示します。"
   ]
  },
  {
   "cell_type": "code",
   "execution_count": 12,
   "metadata": {
    "ExecuteTime": {
     "end_time": "2020-11-02T05:25:36.025412Z",
     "start_time": "2020-11-02T05:25:36.020925Z"
    }
   },
   "outputs": [],
   "source": [
    "from heapq import heappop, heappush\n",
    "\n",
    "\n",
    "def prim(G, s):\n",
    "    P, Q = {}, [(0, None, s)]\n",
    "    while Q:\n",
    "        _, p, u = heappop(Q)\n",
    "        if u in P:\n",
    "            continue\n",
    "        P[u] = p\n",
    "        for v, w in G[u].items():\n",
    "            heappush(Q, (w, u, v))\n",
    "    return P"
   ]
  },
  {
   "cell_type": "code",
   "execution_count": 13,
   "metadata": {
    "ExecuteTime": {
     "end_time": "2020-11-02T05:25:36.033508Z",
     "start_time": "2020-11-02T05:25:36.028489Z"
    }
   },
   "outputs": [
    {
     "data": {
      "text/plain": [
       "{0: None, 1: 0, 2: 0, 3: 2}"
      ]
     },
     "execution_count": 13,
     "metadata": {},
     "output_type": "execute_result"
    }
   ],
   "source": [
    "G = {\n",
    "    0: {1: 1, 2: 3, 3: 4},\n",
    "    1: {0: 1, 2: 5},\n",
    "    2: {0: 3, 1: 5, 3: 2},\n",
    "    3: {2: 2, 0: 4}\n",
    "}\n",
    "prim(G, 0)\n",
    "# {0: None, 1: 0, 2: 0, 3: 2}"
   ]
  }
 ],
 "metadata": {
  "hide_input": false,
  "kernelspec": {
   "display_name": "Python (py36)",
   "language": "python",
   "name": "py36"
  },
  "language_info": {
   "codemirror_mode": {
    "name": "ipython",
    "version": 3
   },
   "file_extension": ".py",
   "mimetype": "text/x-python",
   "name": "python",
   "nbconvert_exporter": "python",
   "pygments_lexer": "ipython3",
   "version": "3.6.7"
  },
  "toc": {
   "base_numbering": 1,
   "nav_menu": {},
   "number_sections": false,
   "sideBar": true,
   "skip_h1_title": false,
   "title_cell": "Table of Contents",
   "title_sidebar": "Contents",
   "toc_cell": true,
   "toc_position": {
    "height": "calc(100% - 180px)",
    "left": "10px",
    "top": "150px",
    "width": "165px"
   },
   "toc_section_display": true,
   "toc_window_display": true
  },
  "varInspector": {
   "cols": {
    "lenName": 16,
    "lenType": 16,
    "lenVar": 40
   },
   "kernels_config": {
    "python": {
     "delete_cmd_postfix": "",
     "delete_cmd_prefix": "del ",
     "library": "var_list.py",
     "varRefreshCmd": "print(var_dic_list())"
    },
    "r": {
     "delete_cmd_postfix": ") ",
     "delete_cmd_prefix": "rm(",
     "library": "var_list.r",
     "varRefreshCmd": "cat(var_dic_list()) "
    }
   },
   "types_to_exclude": [
    "module",
    "function",
    "builtin_function_or_method",
    "instance",
    "_Feature"
   ],
   "window_display": false
  }
 },
 "nbformat": 4,
 "nbformat_minor": 2
}

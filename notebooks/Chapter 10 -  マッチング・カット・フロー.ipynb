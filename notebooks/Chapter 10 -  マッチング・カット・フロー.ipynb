{
 "cells": [
  {
   "cell_type": "markdown",
   "metadata": {
    "toc": true
   },
   "source": [
    "<h1>Table of Contents<span class=\"tocSkip\"></span></h1>\n",
    "<div class=\"toc\"><ul class=\"toc-item\"><li><span><a href=\"#10-1-二部マッチング\" data-toc-modified-id=\"10-1-二部マッチング-1\">10-1 二部マッチング</a></span><ul class=\"toc-item\"><li><span><a href=\"#リスト10-1-増加道を使った二部マッチングを求めるアルゴリズム\" data-toc-modified-id=\"リスト10-1-増加道を使った二部マッチングを求めるアルゴリズム-1.1\">リスト10-1 増加道を使った二部マッチングを求めるアルゴリズム</a></span></li></ul></li><li><span><a href=\"#10-2-辺素な道\" data-toc-modified-id=\"10-2-辺素な道-2\">10-2 辺素な道</a></span><ul class=\"toc-item\"><li><span><a href=\"#リスト10-2-増加道を見つけるための、ラベリング法を使った辺素な道の数え上げ\" data-toc-modified-id=\"リスト10-2-増加道を見つけるための、ラベリング法を使った辺素な道の数え上げ-2.1\">リスト10-2 増加道を見つけるための、ラベリング法を使った辺素な道の数え上げ</a></span></li></ul></li><li><span><a href=\"#10-3-最大フロー\" data-toc-modified-id=\"10-3-最大フロー-3\">10-3 最大フロー</a></span><ul class=\"toc-item\"><li><span><a href=\"#リスト10-3-BFSとラベルづけを使った増加道の発見方法\" data-toc-modified-id=\"リスト10-3-BFSとラベルづけを使った増加道の発見方法-3.1\">リスト10-3 BFSとラベルづけを使った増加道の発見方法</a></span></li><li><span><a href=\"#リスト10-4--Ford-Fulkersonのアプローチ（デフォルトではEdmonds-Karpのアルゴリズム）\" data-toc-modified-id=\"リスト10-4--Ford-Fulkersonのアプローチ（デフォルトではEdmonds-Karpのアルゴリズム）-3.2\">リスト10-4  Ford-Fulkersonのアプローチ（デフォルトではEdmonds-Karpのアルゴリズム）</a></span></li></ul></li><li><span><a href=\"#10-5-最小コストフローと割り当て問題\" data-toc-modified-id=\"10-5-最小コストフローと割り当て問題-4\">10-5 最小コストフローと割り当て問題</a></span><ul class=\"toc-item\"><li><span><a href=\"#リスト10-5-Bellman-Fordを拡張に使ったBusacker-Gowenのアルゴリズム\" data-toc-modified-id=\"リスト10-5-Bellman-Fordを拡張に使ったBusacker-Gowenのアルゴリズム-4.1\">リスト10-5 Bellman-Fordを拡張に使ったBusacker-Gowenのアルゴリズム</a></span></li></ul></li></ul></div>"
   ]
  },
  {
   "cell_type": "markdown",
   "metadata": {},
   "source": [
    "# 10-1 二部マッチング"
   ]
  },
  {
   "cell_type": "markdown",
   "metadata": {},
   "source": [
    "## リスト10-1 増加道を使った二部マッチングを求めるアルゴリズム\n",
    "\n",
    "二部マッチングを求めるアルゴリズムの実装に関しては、クリエイティビティを発揮する余地が存分にあります。実装方法を以下に示します。"
   ]
  },
  {
   "cell_type": "code",
   "execution_count": 1,
   "metadata": {
    "ExecuteTime": {
     "end_time": "2020-11-02T06:22:43.371328Z",
     "start_time": "2020-11-02T06:22:43.368045Z"
    }
   },
   "outputs": [],
   "source": [
    "# 第5章より\n",
    "def tr(G):                                      # Gの（すべてのエッジを）反転\n",
    "    GT = {}\n",
    "    for u in G:\n",
    "        GT[u] = set()                           # すべてのノードを取得\n",
    "    for u in G:\n",
    "        for v in G[u]:\n",
    "            GT[v].add(u)                        # すべての反転したエッジを追加\n",
    "    return GT"
   ]
  },
  {
   "cell_type": "code",
   "execution_count": 2,
   "metadata": {
    "ExecuteTime": {
     "end_time": "2020-11-02T06:22:43.382725Z",
     "start_time": "2020-11-02T06:22:43.375671Z"
    }
   },
   "outputs": [],
   "source": [
    "from itertools import chain\n",
    "\n",
    "def match(G, X, Y):                             # 最大二部マッチング\n",
    "    H = tr(G)                                   # 反転したグラフ\n",
    "    S, T, M = set(X), set(Y), set()             # 未マッチング（左)、未マッチング（右）、マッチング済み\n",
    "    while S:                                    # 左側に未マッチングが残っている場合、\n",
    "        s = S.pop()                             # その1つを抽出\n",
    "        Q, P = {s}, {}                          # そこから巡回を開始\n",
    "        while Q:                                # 未訪問のノードが存在する限り巡回\n",
    "            u = Q.pop()                         # その1つを訪問\n",
    "            if u in T:                          # 増加道が終了した場合\n",
    "                T.remove(u)                     # uはマッチング済みとして登録\n",
    "                break                           # 巡回も終了\n",
    "            forw = (v for v in G[u] if (u, v) not in M)  # 可能性のある新しいエッジ\n",
    "            back = (v for v in H[u] if (v, u) in M)      # キャンセリング\n",
    "            for v in chain(forw, back):         # 出力と入力エッジに沿って\n",
    "                if v in P:\n",
    "                    continue                    # 既に訪問済みの場合、無視する\n",
    "                P[v] = u                        # 巡回用の先行ノード\n",
    "                Q.add(v)                        # 新たなノードを発見\n",
    "        while u != s:                           # 増加させ、sまでバックトラック\n",
    "            u, v = P[u], u                      # 1ステップ分シフト\n",
    "            if v in G[u]:                       # 前方エッジの場合\n",
    "                M.add((u, v))                   # 新しいエッジ（プロポーズ）\n",
    "            else:                               # 後方エッジの場合?\n",
    "                M.remove((v, u))                # キャンセリング\n",
    "    return M                                    # マッチングを返す-- エッジの集合"
   ]
  },
  {
   "cell_type": "code",
   "execution_count": 3,
   "metadata": {
    "ExecuteTime": {
     "end_time": "2020-11-02T06:22:43.387271Z",
     "start_time": "2020-11-02T06:22:43.384821Z"
    }
   },
   "outputs": [],
   "source": [
    "G = {\n",
    "    0: {2, 3},\n",
    "    1: {3},\n",
    "    2: set(),\n",
    "    3: set()\n",
    "}"
   ]
  },
  {
   "cell_type": "code",
   "execution_count": 4,
   "metadata": {
    "ExecuteTime": {
     "end_time": "2020-11-02T06:22:43.397090Z",
     "start_time": "2020-11-02T06:22:43.388947Z"
    }
   },
   "outputs": [
    {
     "data": {
      "text/plain": [
       "[(0, 2), (1, 3)]"
      ]
     },
     "execution_count": 4,
     "metadata": {},
     "output_type": "execute_result"
    }
   ],
   "source": [
    "M = match(G, {0, 1}, {2, 3})\n",
    "sorted(M)\n",
    "# [(0, 2), (1, 3)]"
   ]
  },
  {
   "cell_type": "code",
   "execution_count": 5,
   "metadata": {
    "ExecuteTime": {
     "end_time": "2020-11-02T06:22:43.403246Z",
     "start_time": "2020-11-02T06:22:43.398779Z"
    }
   },
   "outputs": [
    {
     "data": {
      "text/plain": [
       "[(1, 3), (2, 4)]"
      ]
     },
     "execution_count": 5,
     "metadata": {},
     "output_type": "execute_result"
    }
   ],
   "source": [
    "G = {\n",
    "    0: {3, 4},\n",
    "    1: {3, 4},\n",
    "    2: {4},\n",
    "    3: set(),\n",
    "    4: set(),\n",
    "    5: set()\n",
    "}\n",
    "M = match(G, {0, 1, 2}, {3, 4, 5})\n",
    "sorted(M)\n",
    "# [(1, 3), (2, 4)]"
   ]
  },
  {
   "cell_type": "markdown",
   "metadata": {},
   "source": [
    "# 10-2 辺素な道"
   ]
  },
  {
   "cell_type": "markdown",
   "metadata": {},
   "source": [
    "## リスト10-2 増加道を見つけるための、ラベリング法を使った辺素な道の数え上げ\n",
    "\n",
    "以下は辺素な道の数え上げアルゴリズムの実装を示しています。前と同様に、`tr`関数はリスト5-11にあります。"
   ]
  },
  {
   "cell_type": "code",
   "execution_count": 6,
   "metadata": {
    "ExecuteTime": {
     "end_time": "2020-11-02T06:22:43.818287Z",
     "start_time": "2020-11-02T06:22:43.810431Z"
    }
   },
   "outputs": [],
   "source": [
    "def paths(G, s, t):                             # 辺素な道の数え上げ\n",
    "    H, M, count = tr(G), set(), 0               # 転置, マッチング, カウント\n",
    "    while True:                                 # 関数が値を返すまで\n",
    "        Q, P = {s}, {}                          # 巡回のためのキューと木\n",
    "        while Q:                                # 発見しているが未訪問\n",
    "            u = Q.pop()                         # 1つのノードを得る\n",
    "            if u == t:                          # 増加道を発見\n",
    "                count += 1                      # 道のカウントを増やす\n",
    "                break                           # 巡回を終了\n",
    "            forw = (v for v in G[u] if (u, v) not in M)  # 新たなエッジ\n",
    "            back = (v for v in H[u] if (v, u) in M)      # キャンセリング\n",
    "            for v in chain(forw, back):         # 出力と入力のエッジに沿って\n",
    "                if v in P:\n",
    "                    continue                    # 既に訪問済みの場合、無視\n",
    "                P[v] = u                        # 巡回用の先行ノード\n",
    "                Q.add(v)                        # 新たなノードを発見\n",
    "        else:                                   # tに到達しなかった場合\n",
    "            return count                        # そこで完了です\n",
    "        while u != s:                           # 増加させ、sまでバックトラッキング\n",
    "            u, v = P[u], u                      # 1ステップ分シフトします\n",
    "            if v in G[u]:                       # 順方向のエッジの場合\n",
    "                M.add((u, v))                   # 新たなエッジ\n",
    "            else:                               # 逆方向のエッジの場合\n",
    "                M.remove((v, u))                # キャンセリング"
   ]
  },
  {
   "cell_type": "code",
   "execution_count": 7,
   "metadata": {
    "ExecuteTime": {
     "end_time": "2020-11-02T06:22:43.824680Z",
     "start_time": "2020-11-02T06:22:43.821330Z"
    }
   },
   "outputs": [],
   "source": [
    "FF_01_SIMPLE_GRAPH = {\n",
    "    's': {'u': 1, 'x': 1},\n",
    "    'u': {'v': 1},\n",
    "    'v': {'x': 1, 't': 1},\n",
    "    'x': {'y': 1},\n",
    "    'y': {'t': 1},\n",
    "    't': {}\n",
    "}"
   ]
  },
  {
   "cell_type": "code",
   "execution_count": 8,
   "metadata": {
    "ExecuteTime": {
     "end_time": "2020-11-02T06:22:43.831158Z",
     "start_time": "2020-11-02T06:22:43.826694Z"
    }
   },
   "outputs": [
    {
     "data": {
      "text/plain": [
       "2"
      ]
     },
     "execution_count": 8,
     "metadata": {},
     "output_type": "execute_result"
    }
   ],
   "source": [
    "G = FF_01_SIMPLE_GRAPH\n",
    "paths(G, 's', 't')\n",
    "# 2"
   ]
  },
  {
   "cell_type": "markdown",
   "metadata": {},
   "source": [
    "# 10-3 最大フロー"
   ]
  },
  {
   "cell_type": "markdown",
   "metadata": {
    "ExecuteTime": {
     "end_time": "2020-09-23T05:39:00.420707Z",
     "start_time": "2020-09-23T05:39:00.418912Z"
    }
   },
   "source": [
    "## リスト10-3 BFSとラベルづけを使った増加道の発見方法\n",
    "\n",
    "以下、BFSに基づく増加道巡回の実装例を示しています。"
   ]
  },
  {
   "cell_type": "code",
   "execution_count": 9,
   "metadata": {
    "ExecuteTime": {
     "end_time": "2020-11-02T06:22:44.419478Z",
     "start_time": "2020-11-02T06:22:44.412419Z"
    }
   },
   "outputs": [],
   "source": [
    "from collections import deque, defaultdict\n",
    "inf = float('inf')\n",
    "\n",
    "\n",
    "def bfs_aug(G, H, s, t, f):\n",
    "    P, Q, F = {s: None}, deque([s]), {s: inf}   # 木, キュー, フローラベル\n",
    "\n",
    "    def label(inc):                             # uからvでフローが増えている場合\n",
    "        if v in P or inc <= 0:\n",
    "            return                              # 訪問済み? 到達不可能の場合、無視\n",
    "        F[v], P[v] = min(F[u], inc), u          # 最大フロー? どの地点から?\n",
    "        Q.append(v)                             # 発見 -- 後ほど訪問\n",
    "    while Q:                                    # 発見, 訪問しない\n",
    "        u = Q.popleft()                         # 1つのノードを取る (FIFO)\n",
    "        if u == t:\n",
    "            return P, F[t]                      # tに到達? 増加道!\n",
    "        for v in G[u]:\n",
    "            label(G[u][v]-f[u, v])              # 出力エッジに沿ってラベルづけ\n",
    "        for v in H[u]:\n",
    "            label(f[v, u])                      # 入力エッジに沿ってラベルづけ\n",
    "    return None, 0                              # 増加道が見つからなかった場合"
   ]
  },
  {
   "cell_type": "code",
   "execution_count": 10,
   "metadata": {
    "ExecuteTime": {
     "end_time": "2020-11-02T06:22:44.426236Z",
     "start_time": "2020-11-02T06:22:44.422513Z"
    }
   },
   "outputs": [],
   "source": [
    "def path_from_P(P, s, t):\n",
    "    res = [t]\n",
    "    u = t\n",
    "    while u != s:\n",
    "        u, v = P[u], u\n",
    "        res.append(u)\n",
    "    res.reverse()\n",
    "    return res"
   ]
  },
  {
   "cell_type": "code",
   "execution_count": 11,
   "metadata": {
    "ExecuteTime": {
     "end_time": "2020-11-02T06:22:44.433631Z",
     "start_time": "2020-11-02T06:22:44.428081Z"
    }
   },
   "outputs": [
    {
     "data": {
      "text/plain": [
       "[0, 1]"
      ]
     },
     "execution_count": 11,
     "metadata": {},
     "output_type": "execute_result"
    }
   ],
   "source": [
    "G = {0: {1:1}, 1:{}}\n",
    "H = tr(G)\n",
    "f = defaultdict(int)\n",
    "P, c = bfs_aug(G, H, 0, 1, f)\n",
    "path_from_P(P, 0, 1)\n",
    "# [0, 1]"
   ]
  },
  {
   "cell_type": "code",
   "execution_count": 12,
   "metadata": {
    "ExecuteTime": {
     "end_time": "2020-11-02T06:22:44.441410Z",
     "start_time": "2020-11-02T06:22:44.436863Z"
    }
   },
   "outputs": [
    {
     "data": {
      "text/plain": [
       "1"
      ]
     },
     "execution_count": 12,
     "metadata": {},
     "output_type": "execute_result"
    }
   ],
   "source": [
    "c\n",
    "# 1"
   ]
  },
  {
   "cell_type": "code",
   "execution_count": 13,
   "metadata": {
    "ExecuteTime": {
     "end_time": "2020-11-02T06:22:44.448241Z",
     "start_time": "2020-11-02T06:22:44.444100Z"
    }
   },
   "outputs": [],
   "source": [
    "FF_SIMPLE_GRAPH = {\n",
    "    's': {'u': 2, 'x': 2},\n",
    "    'u': {'v': 1},\n",
    "    'v': {'x': 1, 't': 2},\n",
    "    'x': {'y': 1},\n",
    "    'y': {'t': 2},\n",
    "    't': {}\n",
    "}"
   ]
  },
  {
   "cell_type": "code",
   "execution_count": 14,
   "metadata": {
    "ExecuteTime": {
     "end_time": "2020-11-02T06:22:44.456210Z",
     "start_time": "2020-11-02T06:22:44.450176Z"
    }
   },
   "outputs": [
    {
     "data": {
      "text/plain": [
       "['s', 'x', 'v', 't']"
      ]
     },
     "execution_count": 14,
     "metadata": {},
     "output_type": "execute_result"
    }
   ],
   "source": [
    "G = FF_SIMPLE_GRAPH\n",
    "H = tr(G)\n",
    "f = defaultdict(int)\n",
    "f['s','u'] = 1\n",
    "f['u','v'] = 1\n",
    "f['v','x'] = 1\n",
    "f['x','y'] = 1\n",
    "f['y','t'] = 1\n",
    "P, c = bfs_aug(G, H, 's', 't', f)\n",
    "path_from_P(P, 's', 't')\n",
    "# ['s', 'x', 'v', 't']"
   ]
  },
  {
   "cell_type": "code",
   "execution_count": 15,
   "metadata": {
    "ExecuteTime": {
     "end_time": "2020-11-02T06:22:44.461213Z",
     "start_time": "2020-11-02T06:22:44.458159Z"
    }
   },
   "outputs": [
    {
     "data": {
      "text/plain": [
       "1"
      ]
     },
     "execution_count": 15,
     "metadata": {},
     "output_type": "execute_result"
    }
   ],
   "source": [
    "c\n",
    "# 1"
   ]
  },
  {
   "cell_type": "markdown",
   "metadata": {},
   "source": [
    "## リスト10-4  Ford-Fulkersonのアプローチ（デフォルトではEdmonds-Karpのアルゴリズム）\n",
    "\n",
    "完全なFord-Fulkersonのアプローチを以下に示します。"
   ]
  },
  {
   "cell_type": "code",
   "execution_count": 16,
   "metadata": {
    "ExecuteTime": {
     "end_time": "2020-11-02T06:22:44.723469Z",
     "start_time": "2020-11-02T06:22:44.718356Z"
    }
   },
   "outputs": [],
   "source": [
    "from collections import defaultdict\n",
    "\n",
    "\n",
    "def ford_fulkerson(G, s, t, aug=bfs_aug):       # sからtまでの最大フローを発見する\n",
    "    H, f = tr(G), defaultdict(int)              # 転置とフロー\n",
    "    while True:                                 # 改善しながら\n",
    "        P, c = aug(G, H, s, t, f)               # 増加道と容量・停滞\n",
    "        if c == 0:\n",
    "            return f                            # 増加道が見つからなかった場合、終了!\n",
    "        u = t                                   # 増加開始\n",
    "        while u != s:                           # sまでバックトラック\n",
    "            u, v = P[u], u                      # 1ステップ分シフト\n",
    "            if v in G[u]:\n",
    "                f[u, v] += c                    # 順方向エッジの場合、スラックを追加\n",
    "            else:\n",
    "                f[v, u] -= c                    # 逆方向のエッジの場合、スラックをキャンセル"
   ]
  },
  {
   "cell_type": "code",
   "execution_count": 17,
   "metadata": {
    "ExecuteTime": {
     "end_time": "2020-11-02T06:22:44.731851Z",
     "start_time": "2020-11-02T06:22:44.725733Z"
    }
   },
   "outputs": [
    {
     "data": {
      "text/plain": [
       "True"
      ]
     },
     "execution_count": 17,
     "metadata": {},
     "output_type": "execute_result"
    }
   ],
   "source": [
    "G = FF_SIMPLE_GRAPH\n",
    "f = ford_fulkerson(G, 's', 't')\n",
    "sorted(f.items()) ==  [(('s', 'u'), 1), (('s', 'x'), 1),\n",
    "(('u', 'v'), 1), (('v', 't'), 1), (('v', 'x'), 0), (('x', 'y'), 1), \n",
    "(('y', 't'), 1)]\n",
    "# True"
   ]
  },
  {
   "cell_type": "markdown",
   "metadata": {},
   "source": [
    "# 10-5 最小コストフローと割り当て問題"
   ]
  },
  {
   "cell_type": "markdown",
   "metadata": {},
   "source": [
    "## リスト10-5 Bellman-Fordを拡張に使ったBusacker-Gowenのアルゴリズム\n",
    "\n",
    "以下、Busacker-Gowenのアルゴリズムの実装例です。"
   ]
  },
  {
   "cell_type": "code",
   "execution_count": 18,
   "metadata": {
    "ExecuteTime": {
     "end_time": "2020-11-02T06:22:45.206895Z",
     "start_time": "2020-11-02T06:22:45.198614Z"
    }
   },
   "outputs": [],
   "source": [
    "def busacker_gowen(G, W, s, t):                 # 最小コスト最大フロー\n",
    "    def sp_aug(G, H, s, t, f):                  # 最短経路 (Bellman-Fordのアルゴリズム)\n",
    "        D, P, F = {s: 0}, {s: None}, {s: inf, t: 0}  # 距離, 先行ノード、フロー\n",
    "\n",
    "        def label(inc, cst):                    # ラベル + 近似\n",
    "            if inc <= 0:\n",
    "                return False                    # フローが増えていない場合、スキップ\n",
    "            d = D.get(u, inf) + cst             # 新たな拡張距離\n",
    "            if d >= D.get(v, inf):\n",
    "                return False  # 改善しな場合、スキップ\n",
    "            D[v], P[v] = d, u                   # 距離と先行ノードを更新\n",
    "            F[v] = min(F[u], inc)               # フローラベルを更新\n",
    "            return True                         # 変更あり\n",
    "        for _ in G:                             # n = len(G) ラウンド\n",
    "            changed = False                     # 今のところ変化なし\n",
    "            for u in G:                         # 各fromノード\n",
    "                for v in G[u]:                  # 各順方向のtoノード\n",
    "                    changed |= label(G[u][v]-f[u, v], W[u, v])\n",
    "                for v in H[u]:                  # 各逆方向のtoノード\n",
    "                    changed |= label(f[v, u], -W[v, u])\n",
    "            if not changed:\n",
    "                break                           # 変化がない場合: 終了\n",
    "        else:                                   # nラウンドで終了しない場合\n",
    "            raise ValueError('negative cycle')  # 負のサイクルを検知\n",
    "        return P, F[t]                          # 先行ノードとフローがtに到達\n",
    "    return ford_fulkerson(G, s, t, sp_aug)      # Bellman-Fordを使った最大フローを返す"
   ]
  },
  {
   "cell_type": "code",
   "execution_count": 19,
   "metadata": {
    "ExecuteTime": {
     "end_time": "2020-11-02T06:22:45.216169Z",
     "start_time": "2020-11-02T06:22:45.209198Z"
    }
   },
   "outputs": [
    {
     "data": {
      "text/plain": [
       "4"
      ]
     },
     "execution_count": 19,
     "metadata": {},
     "output_type": "execute_result"
    }
   ],
   "source": [
    "G = {\n",
    "    0: {1: 3, 2: 3},\n",
    "    1: {3: 2, 4: 2},\n",
    "    2: {3: 1, 4: 2},\n",
    "    3: {5: 2},\n",
    "    4: {5: 2},\n",
    "    5: {}\n",
    "}\n",
    "W = {\n",
    "    (0, 1): 3,\n",
    "    (0, 2): 1,\n",
    "    (1, 3): 1,\n",
    "    (1, 4): 1,\n",
    "    (2, 3): 4,\n",
    "    (2, 4): 2,\n",
    "    (3, 5): 2,\n",
    "    (4, 5): 1\n",
    "}\n",
    "f1 = ford_fulkerson(G, 0, 5)\n",
    "for u, v in W:\n",
    "    assert f1[u, v] <= G[u][v]\n",
    "f1[3, 5] + f1[4, 5]\n",
    "# 4"
   ]
  },
  {
   "cell_type": "code",
   "execution_count": 20,
   "metadata": {
    "ExecuteTime": {
     "end_time": "2020-11-02T06:22:45.221239Z",
     "start_time": "2020-11-02T06:22:45.217998Z"
    }
   },
   "outputs": [
    {
     "data": {
      "text/plain": [
       "4"
      ]
     },
     "execution_count": 20,
     "metadata": {},
     "output_type": "execute_result"
    }
   ],
   "source": [
    "f1[0, 1] + f1[0, 2]\n",
    "# 4"
   ]
  },
  {
   "cell_type": "code",
   "execution_count": 21,
   "metadata": {
    "ExecuteTime": {
     "end_time": "2020-11-02T06:22:45.227179Z",
     "start_time": "2020-11-02T06:22:45.222929Z"
    }
   },
   "outputs": [
    {
     "data": {
      "text/plain": [
       "20"
      ]
     },
     "execution_count": 21,
     "metadata": {},
     "output_type": "execute_result"
    }
   ],
   "source": [
    "f2 = busacker_gowen(G, W, 0, 5)\n",
    "for u, v in W:\n",
    "    assert f2[u, v] <= G[u][v]\n",
    "sum(f2[key]*W[key] for key in W)\n",
    "# 20"
   ]
  },
  {
   "cell_type": "code",
   "execution_count": 22,
   "metadata": {
    "ExecuteTime": {
     "end_time": "2020-11-02T06:22:45.232492Z",
     "start_time": "2020-11-02T06:22:45.229252Z"
    }
   },
   "outputs": [
    {
     "data": {
      "text/plain": [
       "[2, 2, 2, 0, 0, 2, 2, 2]"
      ]
     },
     "execution_count": 22,
     "metadata": {},
     "output_type": "execute_result"
    }
   ],
   "source": [
    "fs = [f2[key] for key in sorted(W)]\n",
    "fs\n",
    "# [2, 2, 2, 0, 0, 2, 2, 2]"
   ]
  }
 ],
 "metadata": {
  "hide_input": false,
  "kernelspec": {
   "display_name": "Python (py36)",
   "language": "python",
   "name": "py36"
  },
  "language_info": {
   "codemirror_mode": {
    "name": "ipython",
    "version": 3
   },
   "file_extension": ".py",
   "mimetype": "text/x-python",
   "name": "python",
   "nbconvert_exporter": "python",
   "pygments_lexer": "ipython3",
   "version": "3.6.7"
  },
  "toc": {
   "base_numbering": 1,
   "nav_menu": {},
   "number_sections": false,
   "sideBar": true,
   "skip_h1_title": false,
   "title_cell": "Table of Contents",
   "title_sidebar": "Contents",
   "toc_cell": true,
   "toc_position": {},
   "toc_section_display": true,
   "toc_window_display": true
  },
  "varInspector": {
   "cols": {
    "lenName": 16,
    "lenType": 16,
    "lenVar": 40
   },
   "kernels_config": {
    "python": {
     "delete_cmd_postfix": "",
     "delete_cmd_prefix": "del ",
     "library": "var_list.py",
     "varRefreshCmd": "print(var_dic_list())"
    },
    "r": {
     "delete_cmd_postfix": ") ",
     "delete_cmd_prefix": "rm(",
     "library": "var_list.r",
     "varRefreshCmd": "cat(var_dic_list()) "
    }
   },
   "types_to_exclude": [
    "module",
    "function",
    "builtin_function_or_method",
    "instance",
    "_Feature"
   ],
   "window_display": false
  }
 },
 "nbformat": 4,
 "nbformat_minor": 2
}

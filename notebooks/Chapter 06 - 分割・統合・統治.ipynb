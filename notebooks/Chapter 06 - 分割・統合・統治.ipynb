{
 "cells": [
  {
   "cell_type": "markdown",
   "metadata": {
    "toc": true
   },
   "source": [
    "<h1>Table of Contents<span class=\"tocSkip\"></span></h1>\n",
    "<div class=\"toc\"><ul class=\"toc-item\"><li><span><a href=\"#6-2-標準的なD&amp;Cアルゴリズム\" data-toc-modified-id=\"6-2-標準的なD&amp;Cアルゴリズム-1\">6-2 標準的なD&amp;Cアルゴリズム</a></span><ul class=\"toc-item\"><li><span><a href=\"#リスト6-1-一般的な分割統治法の実装\" data-toc-modified-id=\"リスト6-1-一般的な分割統治法の実装-1.1\">リスト6-1 一般的な分割統治法の実装</a></span></li></ul></li><li><span><a href=\"#6-3-半分にしながら探索\" data-toc-modified-id=\"6-3-半分にしながら探索-2\">6-3 半分にしながら探索</a></span><ul class=\"toc-item\"><li><span><a href=\"#「ブラックボックス」コラム：bisect\" data-toc-modified-id=\"「ブラックボックス」コラム：bisect-2.1\">「ブラックボックス」コラム：<code>bisect</code></a></span></li><li><span><a href=\"#枝刈りを使った探索木の巡回\" data-toc-modified-id=\"枝刈りを使った探索木の巡回-2.2\">枝刈りを使った探索木の巡回</a></span></li><li><span><a href=\"#リスト6-2-二分探索木の挿入と探索\" data-toc-modified-id=\"リスト6-2-二分探索木の挿入と探索-2.3\">リスト6-2 二分探索木の挿入と探索</a></span></li><li><span><a href=\"#選択アルゴリズム\" data-toc-modified-id=\"選択アルゴリズム-2.4\">選択アルゴリズム</a></span></li><li><span><a href=\"#リスト6-3-分割アルゴリズムと選択アルゴリズムの直感的な実装\" data-toc-modified-id=\"リスト6-3-分割アルゴリズムと選択アルゴリズムの直感的な実装-2.5\">リスト6-3 分割アルゴリズムと選択アルゴリズムの直感的な実装</a></span></li></ul></li><li><span><a href=\"#6−4-半分にしながらソートする\" data-toc-modified-id=\"6−4-半分にしながらソートする-3\">6−4 半分にしながらソートする</a></span><ul class=\"toc-item\"><li><span><a href=\"#リスト6-4-クイックソート\" data-toc-modified-id=\"リスト6-4-クイックソート-3.1\">リスト6-4 クイックソート</a></span></li><li><span><a href=\"#リスト6-5-マージソート\" data-toc-modified-id=\"リスト6-5-マージソート-3.2\">リスト6-5 マージソート</a></span></li></ul></li><li><span><a href=\"#6−5-さらに3つの例\" data-toc-modified-id=\"6−5-さらに3つの例-4\">6−5 さらに3つの例</a></span><ul class=\"toc-item\"><li><span><a href=\"#最大スライス問題\" data-toc-modified-id=\"最大スライス問題-4.1\">最大スライス問題</a></span></li></ul></li><li><span><a href=\"#6−6-木のバランスと...バランスのとり方\" data-toc-modified-id=\"6−6-木のバランスと...バランスのとり方-5\">6−6 木のバランスと...バランスのとり方</a></span><ul class=\"toc-item\"><li><span><a href=\"#リスト6-6-AA木のバランシングを使った二分探索木\" data-toc-modified-id=\"リスト6-6-AA木のバランシングを使った二分探索木-5.1\">リスト6-6 AA木のバランシングを使った二分探索木</a></span></li><li><span><a href=\"#「ブラックボックス」コラム：Binary-Heaps,-Heapq,-Heapsort\" data-toc-modified-id=\"「ブラックボックス」コラム：Binary-Heaps,-Heapq,-Heapsort-5.2\">「ブラックボックス」コラム：Binary Heaps, Heapq, Heapsort</a></span></li></ul></li></ul></div>"
   ]
  },
  {
   "cell_type": "markdown",
   "metadata": {},
   "source": [
    "# 6-2 標準的なD&Cアルゴリズム"
   ]
  },
  {
   "cell_type": "markdown",
   "metadata": {},
   "source": [
    "## リスト6-1 一般的な分割統治法の実装\n",
    "\n",
    "以下はこの一般的な分割統治法の流れをコードで表したものです。"
   ]
  },
  {
   "cell_type": "code",
   "execution_count": 1,
   "metadata": {
    "ExecuteTime": {
     "end_time": "2020-11-01T06:41:15.969329Z",
     "start_time": "2020-11-01T06:41:15.965835Z"
    }
   },
   "outputs": [],
   "source": [
    "def divide_and_conquer(S, divide, combine):\n",
    "    if len(S) == 1: return S\n",
    "    L, R = divide(S)\n",
    "    A = divide_and_conquer(L, divide, combine)\n",
    "    B = divide_and_conquer(R, divide, combine)\n",
    "    return combine(A, B)"
   ]
  },
  {
   "cell_type": "markdown",
   "metadata": {},
   "source": [
    "# 6-3 半分にしながら探索"
   ]
  },
  {
   "cell_type": "markdown",
   "metadata": {},
   "source": [
    "## 「ブラックボックス」コラム：`bisect`\n",
    "二分探索は、さまざまな場面で応用できます。「ソートされたシーケンス内のある値を探す」には、標準ライブラリのbisectモジュールがぴったりです。そこには、bisect関数が含まれていて、期待通りに動いてくれます。"
   ]
  },
  {
   "cell_type": "code",
   "execution_count": 2,
   "metadata": {
    "ExecuteTime": {
     "end_time": "2020-11-01T06:41:16.454404Z",
     "start_time": "2020-11-01T06:41:16.443872Z"
    }
   },
   "outputs": [
    {
     "data": {
      "text/plain": [
       "4"
      ]
     },
     "execution_count": 2,
     "metadata": {},
     "output_type": "execute_result"
    }
   ],
   "source": [
    "from bisect import bisect\n",
    "a = [0, 2, 3, 5, 6, 8, 8, 9]\n",
    "bisect(a, 5)\n",
    "# 4"
   ]
  },
  {
   "cell_type": "markdown",
   "metadata": {},
   "source": [
    "実際、`bisect`は`bisect_right`の別名であり、`bisect_left`もあります。"
   ]
  },
  {
   "cell_type": "code",
   "execution_count": 3,
   "metadata": {
    "ExecuteTime": {
     "end_time": "2020-11-01T06:41:16.682072Z",
     "start_time": "2020-11-01T06:41:16.677846Z"
    }
   },
   "outputs": [
    {
     "data": {
      "text/plain": [
       "3"
      ]
     },
     "execution_count": 3,
     "metadata": {},
     "output_type": "execute_result"
    }
   ],
   "source": [
    "from bisect import bisect_left\n",
    "bisect_left(a, 5)\n",
    "# 3"
   ]
  },
  {
   "cell_type": "markdown",
   "metadata": {},
   "source": [
    "`bisect_right`は以下のようなコードでした。"
   ]
  },
  {
   "cell_type": "code",
   "execution_count": 4,
   "metadata": {
    "ExecuteTime": {
     "end_time": "2020-11-01T06:41:16.923860Z",
     "start_time": "2020-11-01T06:41:16.920080Z"
    }
   },
   "outputs": [],
   "source": [
    "def bisect_right(a, x, lo=0, hi=None):\n",
    "    if hi is None:                              # 最後の要素を探す\n",
    "        hi = len(a)\n",
    "    while lo < hi:                              # 1つ以上見つかる可能性\n",
    "        mid = (lo+hi)//2                        # 二分する (真ん中を見つける)\n",
    "        if x < a[mid]:\n",
    "            hi = mid                            # Value < middleの場合、左に行く\n",
    "        else:\n",
    "            lo = mid+1                          # そうでない場合、右に行く\n",
    "    return lo"
   ]
  },
  {
   "cell_type": "markdown",
   "metadata": {},
   "source": [
    "残念なことに、bisectのさまざまな関数は、`list.sort`などで使われている`key`引数をサポートしていま\n",
    "せん。このような機能は、いわゆるデコレート・ソート・アンデコレート（ここでは、デコレート・探索・\n",
    "アンデコレート）パターンまたはDSUを使うことで実現できます。"
   ]
  },
  {
   "cell_type": "code",
   "execution_count": 5,
   "metadata": {
    "ExecuteTime": {
     "end_time": "2020-11-01T06:41:17.246652Z",
     "start_time": "2020-11-01T06:41:17.241257Z"
    }
   },
   "outputs": [
    {
     "data": {
      "text/plain": [
       "'aim'"
      ]
     },
     "execution_count": 5,
     "metadata": {},
     "output_type": "execute_result"
    }
   ],
   "source": [
    "from bisect import bisect_left\n",
    "seq = \"I aim to misbehave\".split()\n",
    "dec = sorted((len(x), x) for x in seq)\n",
    "keys = [k for (k, v) in dec]\n",
    "vals = [v for (k, v) in dec]\n",
    "vals[bisect_left(keys, 3)]\n",
    "# 'aim'"
   ]
  },
  {
   "cell_type": "markdown",
   "metadata": {},
   "source": [
    "もしくは、以下のようによりコンパクトに書くこともできます。"
   ]
  },
  {
   "cell_type": "code",
   "execution_count": 6,
   "metadata": {
    "ExecuteTime": {
     "end_time": "2020-11-01T06:41:17.524233Z",
     "start_time": "2020-11-01T06:41:17.519857Z"
    }
   },
   "outputs": [
    {
     "data": {
      "text/plain": [
       "'aim'"
      ]
     },
     "execution_count": 6,
     "metadata": {},
     "output_type": "execute_result"
    }
   ],
   "source": [
    "seq = \"I aim to misbehave\".split()\n",
    "dec = sorted((len(x), x) for x in seq)\n",
    "dec[bisect_left(dec, (3, \"\"))][1]\n",
    "# 'aim'"
   ]
  },
  {
   "cell_type": "markdown",
   "metadata": {},
   "source": [
    "## 枝刈りを使った探索木の巡回"
   ]
  },
  {
   "cell_type": "markdown",
   "metadata": {},
   "source": [
    "## リスト6-2 二分探索木の挿入と探索\n",
    "\n",
    "以下、辞書のように見せるラッパーと一緒に、二分探索木のシンプルな実装を示しています。"
   ]
  },
  {
   "cell_type": "code",
   "execution_count": 7,
   "metadata": {
    "ExecuteTime": {
     "end_time": "2020-11-01T06:41:18.052351Z",
     "start_time": "2020-11-01T06:41:18.044410Z"
    }
   },
   "outputs": [],
   "source": [
    "class Node:\n",
    "    left = None\n",
    "    right = None\n",
    "\n",
    "    def __init__(self, key, val):\n",
    "        self.key = key\n",
    "        self.val = val\n",
    "\n",
    "\n",
    "def insert(node, key, val):\n",
    "    if node is None:\n",
    "        return Node(key, val)                     # 空の葉の場合: ここにノードを追加\n",
    "    if node.key == key:\n",
    "        node.val = val                            # キーを発見した場合: 値を置換\n",
    "    elif key < node.key:                          # キーより小さい場合：\n",
    "        node.left = insert(node.left, key, val)   # 左へ行く\n",
    "    else:                                         # そうでない場合：\n",
    "        node.right = insert(node.right, key, val) # 右へ行く\n",
    "    return node\n",
    "\n",
    "\n",
    "def search(node, key):\n",
    "    if node is None:\n",
    "        raise KeyError                          # 空の葉の場合: ここではない\n",
    "    if node.key == key:\n",
    "        return node.val                         # キーを発見した場合: 値を返す\n",
    "    elif key < node.key:                        # キーより小さい場合：\n",
    "        return search(node.left, key)           # 左へ行く\n",
    "    else:                                       # そうでない場合：\n",
    "        return search(node.right, key)          # 右へ行く\n",
    "\n",
    "\n",
    "class Tree:                                     # シンプルなラッパー\n",
    "    root = None\n",
    "\n",
    "    def __setitem__(self, key, val):\n",
    "        self.root = insert(self.root, key, val)\n",
    "\n",
    "    def __getitem__(self, key):\n",
    "        return search(self.root, key)\n",
    "\n",
    "    def __contains__(self, key):\n",
    "        try:\n",
    "            search(self.root, key)\n",
    "        except KeyError:\n",
    "            return False\n",
    "        return True"
   ]
  },
  {
   "cell_type": "code",
   "execution_count": 8,
   "metadata": {
    "ExecuteTime": {
     "end_time": "2020-11-01T06:41:18.058579Z",
     "start_time": "2020-11-01T06:41:18.054682Z"
    }
   },
   "outputs": [
    {
     "data": {
      "text/plain": [
       "42"
      ]
     },
     "execution_count": 8,
     "metadata": {},
     "output_type": "execute_result"
    }
   ],
   "source": [
    "tree = Tree()\n",
    "tree[\"a\"] = 42\n",
    "tree[\"a\"]\n",
    "# 42"
   ]
  },
  {
   "cell_type": "markdown",
   "metadata": {},
   "source": [
    "## 選択アルゴリズム"
   ]
  },
  {
   "cell_type": "markdown",
   "metadata": {},
   "source": [
    "## リスト6-3 分割アルゴリズムと選択アルゴリズムの直感的な実装\n",
    "\n",
    "以下にこの分割アルゴリズムと選択アルゴリズムの実装例を示します。"
   ]
  },
  {
   "cell_type": "code",
   "execution_count": 9,
   "metadata": {
    "ExecuteTime": {
     "end_time": "2020-11-01T06:41:18.553616Z",
     "start_time": "2020-11-01T06:41:18.549393Z"
    }
   },
   "outputs": [],
   "source": [
    "def partition(seq):\n",
    "    pi, seq = seq[0], seq[1:]                   # ピボットをランダムに選び、取り除く\n",
    "    lo = [x for x in seq if x <= pi]            # ピボット以下の要素すべて\n",
    "    hi = [x for x in seq if x > pi]             # ピボットより大きい要素すべて\n",
    "    return lo, pi, hi                           # piは「正しい場所」に配置\n",
    "\n",
    "def select(seq, k):\n",
    "    lo, pi, hi = partition(seq)                 # [<= pi], pi, [>pi]\n",
    "    m = len(lo)\n",
    "    if m == k: return pi                        # k番目の最小値を発見\n",
    "    elif m < k:                                 # k番目が左側を超えた場合\n",
    "        return select(hi, k-m-1)                # 左側分を考慮してkを調節\n",
    "    else:                                       # k番目が右側を超えた場合\n",
    "        return select(lo, k)                    # 元々のkを選択"
   ]
  },
  {
   "cell_type": "markdown",
   "metadata": {},
   "source": [
    "実際のシーケンスに対して`partition`と`select`を実行してみましょう。"
   ]
  },
  {
   "cell_type": "code",
   "execution_count": 10,
   "metadata": {
    "ExecuteTime": {
     "end_time": "2020-11-01T06:41:18.793969Z",
     "start_time": "2020-11-01T06:41:18.789396Z"
    }
   },
   "outputs": [
    {
     "data": {
      "text/plain": [
       "([1, 3, 0, 1, 2, 2, 3, 3, 2], 3, [4, 6, 7, 9, 13, 93, 100])"
      ]
     },
     "execution_count": 10,
     "metadata": {},
     "output_type": "execute_result"
    }
   ],
   "source": [
    "seq = [3, 4, 1, 6, 3, 7, 9, 13, 93, 0, 100, 1, 2, 2, 3, 3, 2]\n",
    "partition(seq)\n",
    "# ([1, 3, 0, 1, 2, 2, 3, 3, 2], 3, [4, 6, 7, 9, 13, 93, 100])"
   ]
  },
  {
   "cell_type": "code",
   "execution_count": 11,
   "metadata": {
    "ExecuteTime": {
     "end_time": "2020-11-01T06:41:18.799981Z",
     "start_time": "2020-11-01T06:41:18.796283Z"
    }
   },
   "outputs": [
    {
     "data": {
      "text/plain": [
       "5"
      ]
     },
     "execution_count": 11,
     "metadata": {},
     "output_type": "execute_result"
    }
   ],
   "source": [
    "select([5, 3, 2, 7, 1], 3)\n",
    "# 5"
   ]
  },
  {
   "cell_type": "code",
   "execution_count": 12,
   "metadata": {
    "ExecuteTime": {
     "end_time": "2020-11-01T06:41:18.806383Z",
     "start_time": "2020-11-01T06:41:18.802530Z"
    }
   },
   "outputs": [
    {
     "data": {
      "text/plain": [
       "7"
      ]
     },
     "execution_count": 12,
     "metadata": {},
     "output_type": "execute_result"
    }
   ],
   "source": [
    "select([5, 3, 2, 7, 1], 4)\n",
    "# 7"
   ]
  },
  {
   "cell_type": "code",
   "execution_count": 13,
   "metadata": {
    "ExecuteTime": {
     "end_time": "2020-11-01T06:41:18.812893Z",
     "start_time": "2020-11-01T06:41:18.808180Z"
    }
   },
   "outputs": [
    {
     "data": {
      "text/plain": [
       "True"
      ]
     },
     "execution_count": 13,
     "metadata": {},
     "output_type": "execute_result"
    }
   ],
   "source": [
    "ans = [select(seq, k) for k in range(len(seq))]\n",
    "seq.sort()\n",
    "ans == seq\n",
    "# True"
   ]
  },
  {
   "cell_type": "markdown",
   "metadata": {},
   "source": [
    "# 6−4 半分にしながらソートする"
   ]
  },
  {
   "cell_type": "markdown",
   "metadata": {},
   "source": [
    "## リスト6-4 クイックソート\n",
    "\n",
    "以下、クイックソートの実装例を示しています。"
   ]
  },
  {
   "cell_type": "code",
   "execution_count": 14,
   "metadata": {
    "ExecuteTime": {
     "end_time": "2020-11-01T06:41:19.310895Z",
     "start_time": "2020-11-01T06:41:19.307388Z"
    }
   },
   "outputs": [],
   "source": [
    "def quicksort(seq):\n",
    "    if len(seq) <= 1:\n",
    "        return seq                              # ベースケース\n",
    "    lo, pi, hi = partition(seq)                 # piを適切な場所に配置\n",
    "    return quicksort(lo) + [pi] + quicksort(hi) # loとhiを別々にソートする"
   ]
  },
  {
   "cell_type": "code",
   "execution_count": 15,
   "metadata": {
    "ExecuteTime": {
     "end_time": "2020-11-01T06:41:19.317731Z",
     "start_time": "2020-11-01T06:41:19.313515Z"
    }
   },
   "outputs": [
    {
     "data": {
      "text/plain": [
       "[0, 1, 2, 3, 4, 5, 6, 7, 8, 9]"
      ]
     },
     "execution_count": 15,
     "metadata": {},
     "output_type": "execute_result"
    }
   ],
   "source": [
    "seq = [7, 5, 0, 6, 3, 4, 1, 9, 8, 2]\n",
    "quicksort(seq)\n",
    "# [0, 1, 2, 3, 4, 5, 6, 7, 8, 9]"
   ]
  },
  {
   "cell_type": "markdown",
   "metadata": {},
   "source": [
    "## リスト6-5 マージソート\n",
    "\n",
    "第3章にてすでにマージソートのコード（リスト3-2）は見ていますが、ここでコメントを加\n",
    "えながら、もう一度マージソードのコードを見ていきます。"
   ]
  },
  {
   "cell_type": "code",
   "execution_count": 16,
   "metadata": {
    "ExecuteTime": {
     "end_time": "2020-11-01T06:41:19.563744Z",
     "start_time": "2020-11-01T06:41:19.559391Z"
    }
   },
   "outputs": [],
   "source": [
    "def mergesort(seq):\n",
    "    mid = len(seq)//2                           # 分割用の真ん中の点\n",
    "    left, right = seq[:mid], seq[mid:]\n",
    "    if len(left) > 1:\n",
    "        left = mergesort(left)                  # 半分をソート\n",
    "    if len(right) > 1:\n",
    "        right = mergesort(right)\n",
    "    res = []\n",
    "    while left and right:                       # 半分はどちらも空でない限り\n",
    "        if left[-1] >= right[-1]:               # leftの最後の値が最大値の場合\n",
    "            res.append(left.pop())              # その最後の値をappendする\n",
    "        else:                                   # rightの最後の値が最大値の場合\n",
    "            res.append(right.pop())             # その最後の値をappendする\n",
    "    res.reverse()                               # 結果を反転する\n",
    "    return (left or right) + res                # 残りを足して返す"
   ]
  },
  {
   "cell_type": "code",
   "execution_count": 17,
   "metadata": {
    "ExecuteTime": {
     "end_time": "2020-11-01T06:41:19.570009Z",
     "start_time": "2020-11-01T06:41:19.565787Z"
    }
   },
   "outputs": [
    {
     "data": {
      "text/plain": [
       "[0, 1, 2, 3, 4, 5, 6, 7, 8, 9]"
      ]
     },
     "execution_count": 17,
     "metadata": {},
     "output_type": "execute_result"
    }
   ],
   "source": [
    "seq = [7, 5, 0, 6, 3, 4, 1, 9, 8, 2]\n",
    "mergesort(seq)\n",
    "# [0, 1, 2, 3, 4, 5, 6, 7, 8, 9]"
   ]
  },
  {
   "cell_type": "markdown",
   "metadata": {},
   "source": [
    "# 6−5 さらに3つの例"
   ]
  },
  {
   "cell_type": "markdown",
   "metadata": {},
   "source": [
    "## 最大スライス問題\n",
    "\n",
    "最大スライス問題は、実数を含んだシーケンスAがあり、その中に`sum(A[i:j])`が最大になるような\n",
    "スライス（またはセグメント）`A[i:j]`を見つける問題です。\n",
    "`n=len(A)`とすると、自明な解の例は以下になります。"
   ]
  },
  {
   "cell_type": "code",
   "execution_count": 18,
   "metadata": {
    "ExecuteTime": {
     "end_time": "2020-11-01T06:41:20.046344Z",
     "start_time": "2020-11-01T06:41:20.041357Z"
    }
   },
   "outputs": [
    {
     "data": {
      "text/plain": [
       "[2, 1, 0, 4]"
      ]
     },
     "execution_count": 18,
     "metadata": {},
     "output_type": "execute_result"
    }
   ],
   "source": [
    "A = [-1, 2, 1, 0, 4, -3, -6, 1]\n",
    "n = len(A)\n",
    "max((A[i:j] for i in range(n) for j in range(i+1, n+1)), key=sum)\n",
    "# [2, 1, 0, 4]"
   ]
  },
  {
   "cell_type": "markdown",
   "metadata": {},
   "source": [
    "これは、単純なブルートフォースを使った解法で、実行時間は三乗時間です！ つまり、非常に非効率です。\n",
    "\n",
    "以下のように、ある工夫をすることでこの走査を線形にすることができます。"
   ]
  },
  {
   "cell_type": "code",
   "execution_count": 19,
   "metadata": {
    "ExecuteTime": {
     "end_time": "2020-11-01T06:41:20.300823Z",
     "start_time": "2020-11-01T06:41:20.295894Z"
    }
   },
   "outputs": [
    {
     "data": {
      "text/plain": [
       "7"
      ]
     },
     "execution_count": 19,
     "metadata": {},
     "output_type": "execute_result"
    }
   ],
   "source": [
    "best = A[0]  # A valid solution\n",
    "for size in range(1, n+1):\n",
    "    cur = sum(A[:size])\n",
    "    for i in range(n-size):\n",
    "        cur += A[i+size] - A[i]\n",
    "        best = max(best, cur)\n",
    "\n",
    "best\n",
    "# 7"
   ]
  },
  {
   "cell_type": "markdown",
   "metadata": {},
   "source": [
    "# 6−6 木のバランスと...バランスのとり方"
   ]
  },
  {
   "cell_type": "markdown",
   "metadata": {},
   "source": [
    "## リスト6-6 AA木のバランシングを使った二分探索木\n",
    "\n",
    "AA木に対するすキュー、回転、挿入などの実装を以下に示します。"
   ]
  },
  {
   "cell_type": "code",
   "execution_count": 20,
   "metadata": {
    "ExecuteTime": {
     "end_time": "2020-11-01T06:41:20.798226Z",
     "start_time": "2020-11-01T06:41:20.790313Z"
    }
   },
   "outputs": [],
   "source": [
    "class Node:\n",
    "    left = None\n",
    "    right = None\n",
    "    level = 1                                     # ノードクラスにレベル属性を追加\n",
    "\n",
    "    def __init__(self, key, val):\n",
    "        self.key = key\n",
    "        self.val = val\n",
    "\n",
    "\n",
    "def skew(node):                                   # 右回転\n",
    "    if None in [node, node.left]:\n",
    "        return node     # スキューがいらない場合その1\n",
    "    if node.left.level != node.level:\n",
    "        return node  # スキューがいらない場合その2\n",
    "    left = node.left                              # 回転のための3ステップ\n",
    "    node.left = left.right\n",
    "    left.right = node\n",
    "    return left                                   # 親からポインタを切り替え\n",
    "\n",
    "\n",
    "def split(node):                                  # 左回転とレベルを1つ上げる\n",
    "    if None in [node, node.right, node.right.right]:\n",
    "        return node\n",
    "    if node.right.right.level != node.level:\n",
    "        return node\n",
    "    right = node.right\n",
    "    node.right = right.left\n",
    "    right.left = node\n",
    "    right.level += 1                              # このノードのレベルを1つ上げる\n",
    "    return right                                  # このノードがポインタの先に\n",
    "\n",
    "\n",
    "def insert(node, key, val):\n",
    "    if node is None:\n",
    "        return Node(key, val)\n",
    "    if node.key == key:\n",
    "        node.val = val\n",
    "    elif key < node.key:\n",
    "        node.left = insert(node.left, key, val)\n",
    "    else:\n",
    "        node.right = insert(node.right, key, val)\n",
    "    node = skew(node)                             # 後ろ向きだった場合\n",
    "    node = split(node)                            # 満杯だった場合\n",
    "    return node"
   ]
  },
  {
   "cell_type": "markdown",
   "metadata": {},
   "source": [
    "例として、AA木を文字に変換する関数を以下のように実装します。"
   ]
  },
  {
   "cell_type": "code",
   "execution_count": 21,
   "metadata": {
    "ExecuteTime": {
     "end_time": "2020-11-01T06:41:21.046826Z",
     "start_time": "2020-11-01T06:41:21.042184Z"
    }
   },
   "outputs": [],
   "source": [
    "def aa_tree_str(root, chunks=None):\n",
    "    if chunks is None:\n",
    "        chunks = []\n",
    "    if root is None:\n",
    "        chunks.append(\"*\")\n",
    "    else:\n",
    "        chunks.append(repr(root.key))\n",
    "        chunks.append(repr(root.val))\n",
    "        chunks.append(\"@\")\n",
    "        chunks.append(repr(root.level))\n",
    "        chunks.append(\"{\")\n",
    "        aa_tree_str(root.left, chunks)\n",
    "        chunks.append(\",\")\n",
    "        aa_tree_str(root.right, chunks)\n",
    "        chunks.append(\"}\")\n",
    "    return \"\".join(chunks)"
   ]
  },
  {
   "cell_type": "markdown",
   "metadata": {},
   "source": [
    "実際にAA木を作り、それを出力してみましょう。"
   ]
  },
  {
   "cell_type": "code",
   "execution_count": 22,
   "metadata": {
    "ExecuteTime": {
     "end_time": "2020-11-01T06:41:21.289947Z",
     "start_time": "2020-11-01T06:41:21.286545Z"
    }
   },
   "outputs": [
    {
     "name": "stdout",
     "output_type": "stream",
     "text": [
      "3'3'@3{1'1'@2{0'0'@1{*,*},2'2'@1{*,*}},5'5'@2{4'4'@1{*,*},6'6'@1{*,*}}}\n"
     ]
    }
   ],
   "source": [
    "root = None\n",
    "for key in range(7):\n",
    "    root = insert(root, key, str(key))\n",
    "\n",
    "print(aa_tree_str(root))\n",
    "# 3'3'@3{1'1'@2{0'0'@1{*,*},2'2'@1{*,*}},5'5'@2{4'4'@1{*,*},6'6'@1{*,*}}}"
   ]
  },
  {
   "cell_type": "markdown",
   "metadata": {},
   "source": [
    "## 「ブラックボックス」コラム：Binary Heaps, Heapq, Heapsort"
   ]
  },
  {
   "cell_type": "markdown",
   "metadata": {},
   "source": [
    "ヒープを構築する例を以下に示します。"
   ]
  },
  {
   "cell_type": "code",
   "execution_count": 23,
   "metadata": {
    "ExecuteTime": {
     "end_time": "2020-11-01T06:41:21.796055Z",
     "start_time": "2020-11-01T06:41:21.790475Z"
    }
   },
   "outputs": [
    {
     "data": {
      "text/plain": [
       "[15, 50, 39, 63, 84, 83, 72, 99, 84, 90]"
      ]
     },
     "execution_count": 23,
     "metadata": {},
     "output_type": "execute_result"
    }
   ],
   "source": [
    "from heapq import heappush, heappop\n",
    "from random import randrange\n",
    "Q = []\n",
    "for i in range(10):\n",
    "    heappush(Q, randrange(100))\n",
    "\n",
    "Q\n",
    "# [15, 20, 56, 21, 62, 87, 67, 74, 50, 74]"
   ]
  },
  {
   "cell_type": "code",
   "execution_count": 24,
   "metadata": {
    "ExecuteTime": {
     "end_time": "2020-11-01T06:41:21.818388Z",
     "start_time": "2020-11-01T06:41:21.807654Z"
    }
   },
   "outputs": [
    {
     "data": {
      "text/plain": [
       "[15, 39, 50, 63, 72, 83, 84, 84, 90, 99]"
      ]
     },
     "execution_count": 24,
     "metadata": {},
     "output_type": "execute_result"
    }
   ],
   "source": [
    "[heappop(Q) for i in range(10)]\n",
    "# [15, 20, 21, 50, 56, 62, 67, 74, 74, 87]"
   ]
  },
  {
   "cell_type": "markdown",
   "metadata": {},
   "source": [
    "`bisect`と同じように、`heapq`モジュールはC言語で実装されていますが、以前はPythonだけで実装されていました。例えば、以下にオブジェクトを両方の子より小さくなるまで下に移動させ続ける関数のコードを示します。"
   ]
  },
  {
   "cell_type": "code",
   "execution_count": 25,
   "metadata": {
    "ExecuteTime": {
     "end_time": "2020-11-01T06:41:22.130466Z",
     "start_time": "2020-11-01T06:41:22.126397Z"
    }
   },
   "outputs": [],
   "source": [
    "def sift_up(heap, startpos, pos):\n",
    "    newitem = heap[pos]                         # 動かすことになる要素\n",
    "    while pos > startpos:                       # 根を超えない限り\n",
    "        parentpos = (pos - 1) >> 1              # (pos - 1) // 2と同じ意味\n",
    "        parent = heap[parentpos]                # 父親は誰でしょうか?\n",
    "        if parent <= newitem:\n",
    "            break                               # 適合する親が見つかった場合\n",
    "        heap[pos] = parent                      # そうでない場合: 親を下にコピー\n",
    "        pos = parentpos                         # 次に調べる要素の位置\n",
    "    heap[pos] = newitem                         # 要素をその場所に置く"
   ]
  }
 ],
 "metadata": {
  "hide_input": false,
  "kernelspec": {
   "display_name": "Python (py36)",
   "language": "python",
   "name": "py36"
  },
  "language_info": {
   "codemirror_mode": {
    "name": "ipython",
    "version": 3
   },
   "file_extension": ".py",
   "mimetype": "text/x-python",
   "name": "python",
   "nbconvert_exporter": "python",
   "pygments_lexer": "ipython3",
   "version": "3.6.7"
  },
  "toc": {
   "base_numbering": 1,
   "nav_menu": {},
   "number_sections": false,
   "sideBar": true,
   "skip_h1_title": false,
   "title_cell": "Table of Contents",
   "title_sidebar": "Contents",
   "toc_cell": true,
   "toc_position": {},
   "toc_section_display": true,
   "toc_window_display": true
  },
  "varInspector": {
   "cols": {
    "lenName": 16,
    "lenType": 16,
    "lenVar": 40
   },
   "kernels_config": {
    "python": {
     "delete_cmd_postfix": "",
     "delete_cmd_prefix": "del ",
     "library": "var_list.py",
     "varRefreshCmd": "print(var_dic_list())"
    },
    "r": {
     "delete_cmd_postfix": ") ",
     "delete_cmd_prefix": "rm(",
     "library": "var_list.r",
     "varRefreshCmd": "cat(var_dic_list()) "
    }
   },
   "types_to_exclude": [
    "module",
    "function",
    "builtin_function_or_method",
    "instance",
    "_Feature"
   ],
   "window_display": false
  }
 },
 "nbformat": 4,
 "nbformat_minor": 2
}

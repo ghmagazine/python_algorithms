{
 "cells": [
  {
   "cell_type": "markdown",
   "metadata": {
    "toc": true
   },
   "source": [
    "<h1>Table of Contents<span class=\"tocSkip\"></span></h1>\n",
    "<div class=\"toc\"><ul class=\"toc-item\"><li><span><a href=\"#4-1-なるほど、それなら簡単だよ！\" data-toc-modified-id=\"4-1-なるほど、それなら簡単だよ！-1\">4-1 なるほど、それなら簡単だよ！</a></span></li><li><span><a href=\"#4-3-鏡よ、鏡\" data-toc-modified-id=\"4-3-鏡よ、鏡-2\">4-3 鏡よ、鏡</a></span><ul class=\"toc-item\"><li><span><a href=\"#コラム：チェッカーボード問題の実装\" data-toc-modified-id=\"コラム：チェッカーボード問題の実装-2.1\">コラム：チェッカーボード問題の実装</a></span></li><li><span><a href=\"#リスト4-1-再帰を使った挿入ソート\" data-toc-modified-id=\"リスト4-1-再帰を使った挿入ソート-2.2\">リスト4-1 再帰を使った挿入ソート</a></span></li><li><span><a href=\"#リスト4-2--反復を使った挿入ソート\" data-toc-modified-id=\"リスト4-2--反復を使った挿入ソート-2.3\">リスト4-2  反復を使った挿入ソート</a></span></li><li><span><a href=\"#リスト-4-3-再帰を使った選択ソート\" data-toc-modified-id=\"リスト-4-3-再帰を使った選択ソート-2.4\">リスト 4-3 再帰を使った選択ソート</a></span></li><li><span><a href=\"#リスト4-4-反復を使った選択ソート\" data-toc-modified-id=\"リスト4-4-反復を使った選択ソート-2.5\">リスト4-4 反復を使った選択ソート</a></span></li></ul></li><li><span><a href=\"#4−4-帰納法と再帰を使って設計する\" data-toc-modified-id=\"4−4-帰納法と再帰を使って設計する-3\">4−4 帰納法と再帰を使って設計する</a></span><ul class=\"toc-item\"><li><span><a href=\"#最大置換問題\" data-toc-modified-id=\"最大置換問題-3.1\">最大置換問題</a></span></li><li><span><a href=\"#リスト4-5-最大置換を探す再帰アルゴリズムの単純な実装\" data-toc-modified-id=\"リスト4-5-最大置換を探す再帰アルゴリズムの単純な実装-3.2\">リスト4-5 最大置換を探す再帰アルゴリズムの単純な実装</a></span></li><li><span><a href=\"#リスト4-6-最大置換の探索\" data-toc-modified-id=\"リスト4-6-最大置換の探索-3.3\">リスト4-6 最大置換の探索</a></span></li><li><span><a href=\"#コラム：数え上げソートとその仲間たち\" data-toc-modified-id=\"コラム：数え上げソートとその仲間たち-3.4\">コラム：数え上げソートとその仲間たち</a></span></li><li><span><a href=\"#セレブ問題\" data-toc-modified-id=\"セレブ問題-3.5\">セレブ問題</a></span></li><li><span><a href=\"#リスト4-7-セレブ問題に対する単純な解法\" data-toc-modified-id=\"リスト4-7-セレブ問題に対する単純な解法-3.6\">リスト4-7 セレブ問題に対する単純な解法</a></span></li><li><span><a href=\"#リスト4-8-セレブ問題の解法\" data-toc-modified-id=\"リスト4-8-セレブ問題の解法-3.7\">リスト4-8 セレブ問題の解法</a></span></li><li><span><a href=\"#トポロジカルソート\" data-toc-modified-id=\"トポロジカルソート-3.8\">トポロジカルソート</a></span></li><li><span><a href=\"#リスト4-9-トポロジカルソートの単純なアルゴリズム\" data-toc-modified-id=\"リスト4-9-トポロジカルソートの単純なアルゴリズム-3.9\">リスト4-9 トポロジカルソートの単純なアルゴリズム</a></span></li><li><span><a href=\"#リスト4-10-有向非巡回グラフのトポロジカルソート\" data-toc-modified-id=\"リスト4-10-有向非巡回グラフのトポロジカルソート-3.10\">リスト4-10 有向非巡回グラフのトポロジカルソート</a></span></li><li><span><a href=\"#「ブラックボックス」コラム-トポロジカルソートとPython-MRO\" data-toc-modified-id=\"「ブラックボックス」コラム-トポロジカルソートとPython-MRO-3.11\">「ブラックボックス」コラム トポロジカルソートとPython MRO</a></span></li></ul></li><li><span><a href=\"#4-7-緩和とゆっくりとした改善\" data-toc-modified-id=\"4-7-緩和とゆっくりとした改善-4\">4-7 緩和とゆっくりとした改善</a></span></li></ul></div>"
   ]
  },
  {
   "cell_type": "markdown",
   "metadata": {},
   "source": [
    "# 4-1 なるほど、それなら簡単だよ！"
   ]
  },
  {
   "cell_type": "markdown",
   "metadata": {},
   "source": [
    "1つ還元の例を見てみましょう。ここに数字のリストがあり、差の絶対値が最小となる2つの数字\n",
    "を見つけたいとします。ただし、この2つの数字は同じでないとします。"
   ]
  },
  {
   "cell_type": "code",
   "execution_count": 1,
   "metadata": {
    "ExecuteTime": {
     "end_time": "2020-11-04T07:08:37.683479Z",
     "start_time": "2020-11-04T07:08:37.670729Z"
    }
   },
   "outputs": [
    {
     "data": {
      "text/plain": [
       "(46018, 46026)"
      ]
     },
     "execution_count": 1,
     "metadata": {},
     "output_type": "execute_result"
    }
   ],
   "source": [
    "from random import randrange\n",
    "from random import seed\n",
    "seed(2523)\n",
    "seq = [randrange(10**5) for i in range(100)]\n",
    "dd = float(\"inf\")\n",
    "for x in seq:\n",
    "    for y in seq:\n",
    "        if x == y:\n",
    "            continue\n",
    "        d = abs(x-y)\n",
    "        if d < dd:\n",
    "            xx, yy, dd = x, y, d\n",
    "\n",
    "xx, yy"
   ]
  },
  {
   "cell_type": "markdown",
   "metadata": {},
   "source": [
    "以下のコードは同じ解きですが、より速いアルゴリズムです。この実行時間はソートの時\n",
    "間が支配的になり、対数線形時間です。"
   ]
  },
  {
   "cell_type": "code",
   "execution_count": 2,
   "metadata": {
    "ExecuteTime": {
     "end_time": "2020-11-04T07:08:37.994204Z",
     "start_time": "2020-11-04T07:08:37.987948Z"
    }
   },
   "outputs": [
    {
     "data": {
      "text/plain": [
       "(46018, 46026)"
      ]
     },
     "execution_count": 2,
     "metadata": {},
     "output_type": "execute_result"
    }
   ],
   "source": [
    "seq.sort()\n",
    "dd = float(\"inf\")\n",
    "for i in range(len(seq)-1):\n",
    "    x, y = seq[i], seq[i+1]\n",
    "    if x == y:\n",
    "        continue\n",
    "    d = abs(x-y)\n",
    "    if d < dd:\n",
    "        xx, yy, dd = x, y, d\n",
    "\n",
    "xx, yy"
   ]
  },
  {
   "cell_type": "markdown",
   "metadata": {},
   "source": [
    "# 4-3 鏡よ、鏡"
   ]
  },
  {
   "cell_type": "markdown",
   "metadata": {},
   "source": [
    "## コラム：チェッカーボード問題の実装\n",
    "\n",
    "チェッカーボードをL字型のピースでカバーしていく問題は、再帰を使って非常に簡単に解けることが概念的には分かりましたが、実装するにはもう少し考える必要があります。実装の一例は以下のようになります。"
   ]
  },
  {
   "cell_type": "code",
   "execution_count": 3,
   "metadata": {
    "ExecuteTime": {
     "end_time": "2020-11-04T07:08:38.554635Z",
     "start_time": "2020-11-04T07:08:38.549336Z"
    }
   },
   "outputs": [],
   "source": [
    "def cover(board, lab=1, top=0, left=0, side=None):\n",
    "    if side is None: side = len(board)\n",
    "\n",
    "    # 部分ボードの辺の長さ:\n",
    "    s = side // 2\n",
    "\n",
    "    # 部分ボードの外側と内側にある四角のオフセット:\n",
    "    offsets = (0, -1), (side-1, 0)\n",
    "\n",
    "    for dy_outer, dy_inner in offsets:\n",
    "        for dx_outer, dx_inner in offsets:\n",
    "            # 外側の角が置かれていない場合、\n",
    "            if not board[top+dy_outer][left+dx_outer]:\n",
    "                # ... 内側の角にラベルをつけます:\n",
    "                board[top+s+dy_inner][left+s+dx_inner] = lab\n",
    "\n",
    "    # 次のラベル:\n",
    "    lab += 1\n",
    "    if s > 1:\n",
    "        for dy in [0, s]:\n",
    "            for dx in [0, s]:\n",
    "                # sが2以上の場合、再帰呼び出しを行う:\n",
    "                lab = cover(board, lab, top+dy, left+dx, s)\n",
    "\n",
    "    # 次に使うことができるラベルを返す:\n",
    "    return lab\n"
   ]
  },
  {
   "cell_type": "markdown",
   "metadata": {},
   "source": [
    "再帰アルゴリズムはシンプルですが、やるべきことがいくつかあります。それぞれの呼び出しで、扱っている部分ボードとL字型タイルの番号（ここではこれをラベルと呼んでいます）を知る必要があります。コードの実行例を以下に示します。"
   ]
  },
  {
   "cell_type": "code",
   "execution_count": 4,
   "metadata": {
    "ExecuteTime": {
     "end_time": "2020-11-04T07:08:38.836061Z",
     "start_time": "2020-11-04T07:08:38.831650Z"
    }
   },
   "outputs": [
    {
     "data": {
      "text/plain": [
       "22"
      ]
     },
     "execution_count": 4,
     "metadata": {},
     "output_type": "execute_result"
    }
   ],
   "source": [
    "board = [[0]*8 for i in range(8)]  # 8 x 8 のチェッカーボード\n",
    "board[7][7] = -1                   # 欠けている角\n",
    "cover(board)"
   ]
  },
  {
   "cell_type": "code",
   "execution_count": 5,
   "metadata": {
    "ExecuteTime": {
     "end_time": "2020-11-04T07:08:38.850150Z",
     "start_time": "2020-11-04T07:08:38.846286Z"
    },
    "scrolled": true
   },
   "outputs": [
    {
     "name": "stdout",
     "output_type": "stream",
     "text": [
      "  3  3  4  4  8  8  9  9\n",
      "  3  2  2  4  8  7  7  9\n",
      "  5  2  6  6 10 10  7 11\n",
      "  5  5  6  1  1 10 11 11\n",
      " 13 13 14  1 18 18 19 19\n",
      " 13 12 14 14 18 17 17 19\n",
      " 15 12 12 16 20 17 21 21\n",
      " 15 15 16 16 20 20 21 -1\n"
     ]
    }
   ],
   "source": [
    "for row in board:\n",
    "    print((\" %2i\"*8) % tuple(row))"
   ]
  },
  {
   "cell_type": "markdown",
   "metadata": {},
   "source": [
    "ご覧の通り、（最初から欠けていた角を表すを除いて）すべての数値がL字型を作っています。コードを理解するのは少し難しいかもしれませんが、これを帰納法や再帰の概念の知識なく設計することを想像してみてください。"
   ]
  },
  {
   "cell_type": "markdown",
   "metadata": {},
   "source": [
    "次のような単にシーケンスを走査する例を見てみましょう。"
   ]
  },
  {
   "cell_type": "code",
   "execution_count": 6,
   "metadata": {
    "ExecuteTime": {
     "end_time": "2020-11-04T07:08:39.443623Z",
     "start_time": "2020-11-04T07:08:39.441073Z"
    }
   },
   "outputs": [],
   "source": [
    "def trav(seq, i=0):\n",
    "    if i == len(seq):\n",
    "        return\n",
    "    trav(seq, i+1)"
   ]
  },
  {
   "cell_type": "markdown",
   "metadata": {
    "ExecuteTime": {
     "end_time": "2020-11-01T05:26:49.880117Z",
     "start_time": "2020-11-01T05:26:49.876787Z"
    }
   },
   "source": [
    "これは動きますね。では、`range(1000)`で実行してみてください。再帰の最大深度を超えたと言って`RuntimeError`が返されるでしょう。"
   ]
  },
  {
   "cell_type": "code",
   "execution_count": 7,
   "metadata": {
    "ExecuteTime": {
     "end_time": "2020-11-04T07:08:39.722942Z",
     "start_time": "2020-11-04T07:08:39.720210Z"
    }
   },
   "outputs": [],
   "source": [
    "trav(range(100))"
   ]
  },
  {
   "cell_type": "markdown",
   "metadata": {},
   "source": [
    "これは動きますね。では、`range(1000)`で実行してみてください。再帰の最大深度を超えたと言って`RecursionError`が返されるでしょう。"
   ]
  },
  {
   "cell_type": "code",
   "execution_count": 8,
   "metadata": {
    "ExecuteTime": {
     "end_time": "2020-11-04T07:08:40.008755Z",
     "start_time": "2020-11-04T07:08:40.002662Z"
    },
    "scrolled": true
   },
   "outputs": [
    {
     "name": "stdout",
     "output_type": "stream",
     "text": [
      "RecursionErrorが返されました\n"
     ]
    }
   ],
   "source": [
    "try:\n",
    "    trav(range(10000))\n",
    "except RecursionError as e:\n",
    "    print('RecursionErrorが返されました')"
   ]
  },
  {
   "cell_type": "markdown",
   "metadata": {},
   "source": [
    "## リスト4-1 再帰を使った挿入ソート\n",
    "\n",
    "以下の再帰的な挿入ソートのコードを見てみましょう。\n"
   ]
  },
  {
   "cell_type": "code",
   "execution_count": 9,
   "metadata": {
    "ExecuteTime": {
     "end_time": "2020-11-04T07:08:40.291939Z",
     "start_time": "2020-11-04T07:08:40.287852Z"
    }
   },
   "outputs": [],
   "source": [
    "def ins_sort_rec(seq, i):\n",
    "    if i == 0:\n",
    "        return                                  # ベースケース -- 特に何もしない\n",
    "    ins_sort_rec(seq, i-1)                      # 0からi-1までをソート\n",
    "    j = i                                       # 最後から下りる方向に走査\n",
    "    while j > 0 and seq[j-1] > seq[j]:          # 適切な場所を探す\n",
    "        seq[j-1], seq[j] = seq[j], seq[j-1]     # seq[j]を前に動かし続ける\n",
    "        j -= 1                                  # jを1減らす"
   ]
  },
  {
   "cell_type": "code",
   "execution_count": 10,
   "metadata": {
    "ExecuteTime": {
     "end_time": "2020-11-04T07:08:40.299290Z",
     "start_time": "2020-11-04T07:08:40.295725Z"
    }
   },
   "outputs": [],
   "source": [
    "def ins_sort_rec(seq, i):\n",
    "    if i == 0:\n",
    "        return                                  # ベースケース -- 特に何もしない\n",
    "    ins_sort_rec(seq, i-1)                      # 0からi-1までをソート\n",
    "    j = i                                       # 最後から下りる方向に走査\n",
    "    while j > 0 and seq[j-1] > seq[j]:          # 適切な場所を探す\n",
    "        seq[j-1], seq[j] = seq[j], seq[j-1]     # seq[j]を前に動かし続ける\n",
    "        j -= 1                                  # jを1減らす"
   ]
  },
  {
   "cell_type": "markdown",
   "metadata": {},
   "source": [
    "`ins_sort_rec`を使ってランダムなシーケンス`seq`をソートし、元のseqと異なることを確認します。"
   ]
  },
  {
   "cell_type": "code",
   "execution_count": 11,
   "metadata": {
    "ExecuteTime": {
     "end_time": "2020-11-04T07:08:40.571415Z",
     "start_time": "2020-11-04T07:08:40.566106Z"
    }
   },
   "outputs": [
    {
     "data": {
      "text/plain": [
       "False"
      ]
     },
     "execution_count": 11,
     "metadata": {},
     "output_type": "execute_result"
    }
   ],
   "source": [
    "seq = [randrange(1000) for _ in range(100)]\n",
    "seq2 = list(seq)\n",
    "# seq = [1, 5, 6, 4, 9]\n",
    "ins_sort_rec(seq, i=len(seq)-1)\n",
    "seq == seq2"
   ]
  },
  {
   "cell_type": "markdown",
   "metadata": {},
   "source": [
    "`list.sort`の結果と同じことを確認できます。"
   ]
  },
  {
   "cell_type": "code",
   "execution_count": 12,
   "metadata": {
    "ExecuteTime": {
     "end_time": "2020-11-04T07:08:40.879221Z",
     "start_time": "2020-11-04T07:08:40.875472Z"
    }
   },
   "outputs": [
    {
     "data": {
      "text/plain": [
       "True"
      ]
     },
     "execution_count": 12,
     "metadata": {},
     "output_type": "execute_result"
    }
   ],
   "source": [
    "seq2.sort()\n",
    "seq == seq2"
   ]
  },
  {
   "cell_type": "markdown",
   "metadata": {},
   "source": [
    "## リスト4-2  反復を使った挿入ソート\n",
    "以下には反復を使った、より一般的に知られている挿入ソートを示しています。"
   ]
  },
  {
   "cell_type": "code",
   "execution_count": 13,
   "metadata": {
    "ExecuteTime": {
     "end_time": "2020-11-04T07:08:41.188819Z",
     "start_time": "2020-11-04T07:08:41.185269Z"
    }
   },
   "outputs": [],
   "source": [
    "def ins_sort(seq):\n",
    "    for i in range(1, len(seq)):                # 0からi-1 まではソートされている\n",
    "        j = i                                   # 最後から下りる方向に走査\n",
    "        while j > 0 and seq[j-1] > seq[j]:      # 適切な場所を探す\n",
    "            seq[j-1], seq[j] = seq[j], seq[j-1] # seq[j]を前に動かし続ける\n",
    "            j -= 1                              # jを1減らす"
   ]
  },
  {
   "cell_type": "markdown",
   "metadata": {},
   "source": [
    "以下、再帰を使った挿入ソートで行った確認と同様です。"
   ]
  },
  {
   "cell_type": "code",
   "execution_count": 14,
   "metadata": {
    "ExecuteTime": {
     "end_time": "2020-11-04T07:08:41.481668Z",
     "start_time": "2020-11-04T07:08:41.476931Z"
    }
   },
   "outputs": [
    {
     "data": {
      "text/plain": [
       "False"
      ]
     },
     "execution_count": 14,
     "metadata": {},
     "output_type": "execute_result"
    }
   ],
   "source": [
    "seq = [randrange(1000) for _ in range(100)]\n",
    "seq2 = list(seq)\n",
    "ins_sort(seq)\n",
    "seq == seq2"
   ]
  },
  {
   "cell_type": "code",
   "execution_count": 15,
   "metadata": {
    "ExecuteTime": {
     "end_time": "2020-11-04T07:08:41.487119Z",
     "start_time": "2020-11-04T07:08:41.483921Z"
    }
   },
   "outputs": [
    {
     "data": {
      "text/plain": [
       "True"
      ]
     },
     "execution_count": 15,
     "metadata": {},
     "output_type": "execute_result"
    }
   ],
   "source": [
    "seq2.sort()\n",
    "seq == seq2"
   ]
  },
  {
   "cell_type": "markdown",
   "metadata": {},
   "source": [
    "## リスト 4-3 再帰を使った選択ソート\n",
    "\n",
    "リスト4-3とリスト4-4は選択ソートに再帰と反復を使っています。"
   ]
  },
  {
   "cell_type": "code",
   "execution_count": 16,
   "metadata": {
    "ExecuteTime": {
     "end_time": "2020-11-04T07:08:41.775812Z",
     "start_time": "2020-11-04T07:08:41.772192Z"
    }
   },
   "outputs": [],
   "source": [
    "def sel_sort_rec(seq, i):\n",
    "    if i == 0:\n",
    "        return                                  # ベースケース -- 特に何もしない\n",
    "    max_j = i                                   # 現時点での最大値のインデックス\n",
    "    for j in range(i):                          # より大きい値を探す\n",
    "        if seq[j] > seq[max_j]:\n",
    "            max_j = j                           # 見つかった場合、max_jを更新\n",
    "    seq[i], seq[max_j] = seq[max_j], seq[i]     # 最大値を入れ替える\n",
    "    sel_sort_rec(seq, i-1)                      # 0からi-1をソートする"
   ]
  },
  {
   "cell_type": "code",
   "execution_count": 17,
   "metadata": {
    "ExecuteTime": {
     "end_time": "2020-11-04T07:08:41.783381Z",
     "start_time": "2020-11-04T07:08:41.778171Z"
    }
   },
   "outputs": [
    {
     "data": {
      "text/plain": [
       "False"
      ]
     },
     "execution_count": 17,
     "metadata": {},
     "output_type": "execute_result"
    }
   ],
   "source": [
    "# seq = [1, 5, 6, 4, 9]\n",
    "seq = [randrange(1000) for _ in range(100)]\n",
    "seq2 = list(seq)\n",
    "sel_sort_rec(seq, i=len(seq)-1)\n",
    "seq == seq2"
   ]
  },
  {
   "cell_type": "code",
   "execution_count": 18,
   "metadata": {
    "ExecuteTime": {
     "end_time": "2020-11-04T07:08:41.789188Z",
     "start_time": "2020-11-04T07:08:41.785415Z"
    }
   },
   "outputs": [
    {
     "data": {
      "text/plain": [
       "True"
      ]
     },
     "execution_count": 18,
     "metadata": {},
     "output_type": "execute_result"
    }
   ],
   "source": [
    "seq2.sort()\n",
    "seq == seq2"
   ]
  },
  {
   "cell_type": "markdown",
   "metadata": {},
   "source": [
    "## リスト4-4 反復を使った選択ソート"
   ]
  },
  {
   "cell_type": "code",
   "execution_count": 19,
   "metadata": {
    "ExecuteTime": {
     "end_time": "2020-11-04T07:08:42.084917Z",
     "start_time": "2020-11-04T07:08:42.081213Z"
    }
   },
   "outputs": [],
   "source": [
    "def sel_sort(seq):\n",
    "    for i in range(len(seq)-1, 0, -1):          # nからi+1 までがソートされている\n",
    "        max_j = i                               # 現時点での最大値のインデックス\n",
    "        for j in range(i):                      # より大きい値を探す\n",
    "            if seq[j] > seq[max_j]:\n",
    "                max_j = j                       # 見つかった場合、max_jを更新\n",
    "        seq[i], seq[max_j] = seq[max_j], seq[i] # 最大値を入れ替える"
   ]
  },
  {
   "cell_type": "code",
   "execution_count": 20,
   "metadata": {
    "ExecuteTime": {
     "end_time": "2020-11-04T07:08:42.091680Z",
     "start_time": "2020-11-04T07:08:42.087299Z"
    }
   },
   "outputs": [
    {
     "data": {
      "text/plain": [
       "False"
      ]
     },
     "execution_count": 20,
     "metadata": {},
     "output_type": "execute_result"
    }
   ],
   "source": [
    "# seq = [1, 5, 6, 4, 9]\n",
    "seq = [randrange(1000) for _ in range(100)]\n",
    "seq2 = list(seq)\n",
    "sel_sort(seq)\n",
    "seq == seq2"
   ]
  },
  {
   "cell_type": "code",
   "execution_count": 21,
   "metadata": {
    "ExecuteTime": {
     "end_time": "2020-11-04T07:08:42.097417Z",
     "start_time": "2020-11-04T07:08:42.093593Z"
    }
   },
   "outputs": [
    {
     "data": {
      "text/plain": [
       "True"
      ]
     },
     "execution_count": 21,
     "metadata": {},
     "output_type": "execute_result"
    }
   ],
   "source": [
    "seq2.sort()\n",
    "seq == seq2"
   ]
  },
  {
   "cell_type": "markdown",
   "metadata": {},
   "source": [
    "# 4−4 帰納法と再帰を使って設計する"
   ]
  },
  {
   "cell_type": "markdown",
   "metadata": {},
   "source": [
    "## 最大置換問題\n",
    "\n",
    "8人のばらばらな趣向を持つ人が映画のチケットを買ったとします。ある者は座席位置に満足しますが、たいていの人は不満を持っていました。第3章の例で、映画館に入るまで並んだ後だったので、彼らはちょっと不機嫌になってきました。\n",
    "\n",
    "彼らはそれぞれお気に入りの席があるので、できるだけ多くの人が満足するように席を交換してもらうとします（ここでは映画館の他の観客は無視します。この妙な映画ファンたちの行動に嫌気がさしてきそうですが）。しかし、彼らは全員かなり不機嫌なので、それぞれお気に入りの席に移れない限り他の席に移らないと主張しています。（図4-4も参照ください。）"
   ]
  },
  {
   "cell_type": "code",
   "execution_count": 22,
   "metadata": {
    "ExecuteTime": {
     "end_time": "2020-11-04T07:08:42.666695Z",
     "start_time": "2020-11-04T07:08:42.663253Z"
    }
   },
   "outputs": [
    {
     "data": {
      "text/plain": [
       "0"
      ]
     },
     "execution_count": 22,
     "metadata": {},
     "output_type": "execute_result"
    }
   ],
   "source": [
    "M = [2, 2, 0, 5, 3, 5, 7, 4]\n",
    "M[2] # c は aにマッピングされています"
   ]
  },
  {
   "cell_type": "markdown",
   "metadata": {},
   "source": [
    "## リスト4-5 最大置換を探す再帰アルゴリズムの単純な実装\n",
    "以下、比較的直感的なブルートフォースアプローチを使った再帰アルゴリズムの実装をご覧ください。"
   ]
  },
  {
   "cell_type": "code",
   "execution_count": 23,
   "metadata": {
    "ExecuteTime": {
     "end_time": "2020-11-04T07:08:42.973725Z",
     "start_time": "2020-11-04T07:08:42.970239Z"
    }
   },
   "outputs": [],
   "source": [
    "def naive_max_perm(M, A=None):\n",
    "    if A is None:                               # 要素が与えられていなかった場合\n",
    "        A = set(range(len(M)))                  # A = {0, 1, ... , n-1}\n",
    "    if len(A) == 1: \n",
    "        return A                                # ベースケース -- 1つの要素の場合、Aを返す\n",
    "    B = set(M[i] for i in A)                    # \"指定している\" 要素\n",
    "    C = A - B                                   # \"指定されていない\" 要素\n",
    "    if C:                                       # 役に立たない要素が1つ以上ある場合\n",
    "        A.remove(C.pop())                       # そのうちの1つを取り除く\n",
    "        return naive_max_perm(M, A)             # 残りの問題を解く\n",
    "    return A                                    # すべて役に立つ要素 -- すべてを返す"
   ]
  },
  {
   "cell_type": "markdown",
   "metadata": {},
   "source": [
    "今回の例`M`にこの実装を使ってみましょう。"
   ]
  },
  {
   "cell_type": "code",
   "execution_count": 24,
   "metadata": {
    "ExecuteTime": {
     "end_time": "2020-11-04T07:08:43.271812Z",
     "start_time": "2020-11-04T07:08:43.268731Z"
    }
   },
   "outputs": [
    {
     "data": {
      "text/plain": [
       "[0, 2, 5]"
      ]
     },
     "execution_count": 24,
     "metadata": {},
     "output_type": "execute_result"
    }
   ],
   "source": [
    "sorted(naive_max_perm(M))"
   ]
  },
  {
   "cell_type": "markdown",
   "metadata": {},
   "source": [
    "## リスト4-6 最大置換の探索\n",
    "\n",
    "反復を用いた線形時間の実装をリスト4-6に示します。"
   ]
  },
  {
   "cell_type": "code",
   "execution_count": 25,
   "metadata": {
    "ExecuteTime": {
     "end_time": "2020-11-04T07:08:43.573029Z",
     "start_time": "2020-11-04T07:08:43.568096Z"
    },
    "code_folding": []
   },
   "outputs": [],
   "source": [
    "def max_perm(M):\n",
    "    n = len(M)                                  # 要素数を数える\n",
    "    A = set(range(n))                           # A = {0, 1, ... , n-1}\n",
    "    count = [0]*n                               # サイズnのゼロのリスト\n",
    "    for i in M:                                 # \"指し示している\"要素すべてを走査\n",
    "        count[i] += 1                           # \"指し示しカウント\"を増やす\n",
    "    Q = [i for i in A if count[i] == 0]         # 役に立たない要素\n",
    "    while Q:                                    # 役に立たない要素内を走査\n",
    "        i = Q.pop()                             # 1つの要素を取り出す\n",
    "        A.remove(i)                             # Aから除く\n",
    "        j = M[i]                                # 指し示している相手を取り出す\n",
    "        count[j] -= 1                           # カウントを1つ減らす\n",
    "        if count[j] == 0:                       # jが今もまだ役に立たない要素か確認\n",
    "            Q.append(j)                         # そうであれば、次に対処するリストに追加\n",
    "    return A                                    # 役に立つ要素を返す"
   ]
  },
  {
   "cell_type": "code",
   "execution_count": 26,
   "metadata": {
    "ExecuteTime": {
     "end_time": "2020-11-04T07:08:43.578350Z",
     "start_time": "2020-11-04T07:08:43.575087Z"
    }
   },
   "outputs": [
    {
     "data": {
      "text/plain": [
       "[0, 2, 5]"
      ]
     },
     "execution_count": 26,
     "metadata": {},
     "output_type": "execute_result"
    }
   ],
   "source": [
    "sorted(max_perm(M))"
   ]
  },
  {
   "cell_type": "markdown",
   "metadata": {},
   "source": [
    "## コラム：数え上げソートとその仲間たち\n",
    "\n",
    "扱っている要素がハッシュ化可能、もしくは（置換の例のように）直接インデックスとして使える整数値の場合、数え上げは身に付けておくと良いツールです。数え上げが使われる中で、最もよく知られている（かつ、この上なく素晴らしい）例の1つに数え上げソートがあります"
   ]
  },
  {
   "cell_type": "code",
   "execution_count": 27,
   "metadata": {
    "ExecuteTime": {
     "end_time": "2020-11-04T07:08:43.875799Z",
     "start_time": "2020-11-04T07:08:43.871845Z"
    }
   },
   "outputs": [],
   "source": [
    "from collections import defaultdict\n",
    "\n",
    "\n",
    "def counting_sort(A, key=lambda x: x):\n",
    "    B, C = [], defaultdict(list)                # アウトプットと \"カウント\"\n",
    "    for x in A:\n",
    "        C[key(x)].append(x)                     # \"カウント\" の キー x\n",
    "    for k in range(min(C), max(C)+1):           # レンジ上のキーを走査\n",
    "        B.extend(C[k])                          # ソートされている値を追加\n",
    "    return B"
   ]
  },
  {
   "cell_type": "markdown",
   "metadata": {},
   "source": [
    "以下、これまでのソートと同様の確認作業です。"
   ]
  },
  {
   "cell_type": "code",
   "execution_count": 28,
   "metadata": {
    "ExecuteTime": {
     "end_time": "2020-11-04T07:08:44.171832Z",
     "start_time": "2020-11-04T07:08:44.167230Z"
    }
   },
   "outputs": [
    {
     "data": {
      "text/plain": [
       "False"
      ]
     },
     "execution_count": 28,
     "metadata": {},
     "output_type": "execute_result"
    }
   ],
   "source": [
    "k = 100\n",
    "from random import *\n",
    "seq = [randrange(k) for i in range(100)]\n",
    "seq2 = list(seq)\n",
    "seq = counting_sort(seq) # counting_sort(seq, k)\n",
    "seq == seq2"
   ]
  },
  {
   "cell_type": "code",
   "execution_count": 29,
   "metadata": {
    "ExecuteTime": {
     "end_time": "2020-11-04T07:08:44.177713Z",
     "start_time": "2020-11-04T07:08:44.174552Z"
    }
   },
   "outputs": [
    {
     "data": {
      "text/plain": [
       "True"
      ]
     },
     "execution_count": 29,
     "metadata": {},
     "output_type": "execute_result"
    }
   ],
   "source": [
    "seq2.sort()\n",
    "seq == seq2"
   ]
  },
  {
   "cell_type": "markdown",
   "metadata": {},
   "source": [
    "## セレブ問題\n",
    "\n",
    "セレブ問題とは、群衆の中からセレブを見つけることです。"
   ]
  },
  {
   "cell_type": "markdown",
   "metadata": {},
   "source": [
    "## リスト4-7 セレブ問題に対する単純な解法\n",
    "\n",
    "扱う構造を把握したら、ブルートフォース的な解法を実装し、なにか理解の役に立つかを見てみましょう。（以下を参照ください。）"
   ]
  },
  {
   "cell_type": "code",
   "execution_count": 30,
   "metadata": {
    "ExecuteTime": {
     "end_time": "2020-11-04T07:08:44.773798Z",
     "start_time": "2020-11-04T07:08:44.770007Z"
    }
   },
   "outputs": [],
   "source": [
    "def naive_celeb(G):\n",
    "    n = len(G)\n",
    "    for u in range(n):                          # 各候補者に対し走査\n",
    "        for v in range(n):                      # ある候補者以外の人全員を走査するためのforループ\n",
    "            if u == v:\n",
    "                continue                        # 同じ候補者であれば飛ばす\n",
    "            if G[u][v]: \n",
    "                break                           # 候補者がその人を知っていた場合\n",
    "            if not G[v][u]:\n",
    "                break                           # もう1人の方が候補者を知らなかった場合\n",
    "        else:\n",
    "            return u                            # breakがなかった場合、セレブを返す\n",
    "    return None                                 # 誰も見付けることができなかった場合"
   ]
  },
  {
   "cell_type": "markdown",
   "metadata": {},
   "source": [
    "この`naive_celeb`関数をランダムグラフに対して試してみましょう。ランダムグラフの各エッジを等確率でONとOFFに切り替えます。"
   ]
  },
  {
   "cell_type": "code",
   "execution_count": 31,
   "metadata": {
    "ExecuteTime": {
     "end_time": "2020-11-04T07:08:45.077445Z",
     "start_time": "2020-11-04T07:08:45.065170Z"
    }
   },
   "outputs": [],
   "source": [
    "n = 100\n",
    "G = [[randrange(2) for _ in range(n)] for _ in range(n)]\n",
    "c = randrange(n)\n",
    "c = 57  # For testing\n",
    "for i in range(n):\n",
    "    G[i][c] = True\n",
    "    G[c][i] = False"
   ]
  },
  {
   "cell_type": "code",
   "execution_count": 32,
   "metadata": {
    "ExecuteTime": {
     "end_time": "2020-11-04T07:08:45.082948Z",
     "start_time": "2020-11-04T07:08:45.079637Z"
    }
   },
   "outputs": [
    {
     "data": {
      "text/plain": [
       "57"
      ]
     },
     "execution_count": 32,
     "metadata": {},
     "output_type": "execute_result"
    }
   ],
   "source": [
    "naive_celeb(G)"
   ]
  },
  {
   "cell_type": "markdown",
   "metadata": {},
   "source": [
    "## リスト4-8 セレブ問題の解法"
   ]
  },
  {
   "cell_type": "markdown",
   "metadata": {
    "ExecuteTime": {
     "end_time": "2020-11-01T05:18:39.208631Z",
     "start_time": "2020-11-01T05:18:39.204642Z"
    }
   },
   "source": [
    "還元に基づいたアルゴリズムの実装は以下を参照してください。"
   ]
  },
  {
   "cell_type": "code",
   "execution_count": 33,
   "metadata": {
    "ExecuteTime": {
     "end_time": "2020-11-04T07:08:45.668332Z",
     "start_time": "2020-11-04T07:08:45.663334Z"
    }
   },
   "outputs": [],
   "source": [
    "def celeb(G):\n",
    "    n = len(G)\n",
    "    u, v = 0, 1                         # 最初の2つ\n",
    "    for c in range(2, n+1):             # 確認すべき他の人々\n",
    "        if G[u][v]:\n",
    "            u = c                       # uがvを知っている場合、 uを置換[^yaku12]\n",
    "        else:\n",
    "            v = c                       # そうでなければ, vを置換\n",
    "    if u == n:\n",
    "        c = v                           # u は最後にvを使って置換\n",
    "    else:\n",
    "        c = u                           # そうでなければ, u は候補者\n",
    "    for v in range(n):                  # 他全員に対して\n",
    "        if c == v:\n",
    "            continue                    # 同じ人の場合、スキップ\n",
    "        if G[c][v]:\n",
    "            break                       # 候補者が他の人を知っている場合\n",
    "        if not G[v][c]:\n",
    "            break                       # 他の人が候補を知らない場合\n",
    "    else:\n",
    "        return c                        # breakがない場合、 セレブです！\n",
    "    return None                         # 誰も見つかりませんでした"
   ]
  },
  {
   "cell_type": "markdown",
   "metadata": {
    "ExecuteTime": {
     "end_time": "2020-11-01T05:19:37.726014Z",
     "start_time": "2020-11-01T05:19:37.722418Z"
    }
   },
   "source": [
    "この`celeb`関数もランダムグラフに対して試してみましょう。"
   ]
  },
  {
   "cell_type": "code",
   "execution_count": 34,
   "metadata": {
    "ExecuteTime": {
     "end_time": "2020-11-04T07:08:45.979573Z",
     "start_time": "2020-11-04T07:08:45.966353Z"
    }
   },
   "outputs": [
    {
     "data": {
      "text/plain": [
       "57"
      ]
     },
     "execution_count": 34,
     "metadata": {},
     "output_type": "execute_result"
    }
   ],
   "source": [
    "n = 100\n",
    "G = [[randrange(2) for _ in range(n)] for _ in range(n)]\n",
    "c = randrange(n)\n",
    "c = 57 # For testing\n",
    "for i in range(n):\n",
    "    G[i][c] = True\n",
    "    G[c][i] = False\n",
    "celeb(G)"
   ]
  },
  {
   "cell_type": "markdown",
   "metadata": {},
   "source": [
    "## トポロジカルソート"
   ]
  },
  {
   "cell_type": "markdown",
   "metadata": {},
   "source": [
    "## リスト4-9 トポロジカルソートの単純なアルゴリズム\n",
    "\n",
    "以下のように、トポロジカルソートは、挿入ソートと同じような方法で実装できます。"
   ]
  },
  {
   "cell_type": "code",
   "execution_count": 35,
   "metadata": {
    "ExecuteTime": {
     "end_time": "2020-11-04T07:08:46.546809Z",
     "start_time": "2020-11-04T07:08:46.543252Z"
    }
   },
   "outputs": [],
   "source": [
    "def naive_topsort(G, S=None):\n",
    "    if S is None:\n",
    "        S = set(G)                    # デフォルト: すべてのノード\n",
    "    if len(S) == 1:\n",
    "        return list(S)             \t  # ベースケース, 1つのノード\n",
    "    v = S.pop()                       # 還元: 1つのノードを除く\n",
    "    seq = naive_topsort(G, S)         # 再帰 （仮定）, n-1の場合\n",
    "    min_i = 0\n",
    "    for i, u in enumerate(seq):\n",
    "        if v in G[u]:\n",
    "            min_i = i+1               # すべての依存関係のあと\n",
    "    seq.insert(min_i, v)\n",
    "    return seq"
   ]
  },
  {
   "cell_type": "markdown",
   "metadata": {
    "ExecuteTime": {
     "end_time": "2020-11-01T05:23:16.969067Z",
     "start_time": "2020-11-01T05:23:16.964868Z"
    }
   },
   "source": [
    "以下、図4-5のグラフを再現し、トポロジカルソートを実行してみましょう。"
   ]
  },
  {
   "cell_type": "code",
   "execution_count": 36,
   "metadata": {
    "ExecuteTime": {
     "end_time": "2020-11-04T07:08:46.870437Z",
     "start_time": "2020-11-04T07:08:46.863591Z"
    }
   },
   "outputs": [],
   "source": [
    "from random import seed\n",
    "from random import sample, randrange, shuffle\n",
    "n = 6\n",
    "seed(2365)\n",
    "G = dict()\n",
    "seq = list(range(n))  # Py 3 range objects aren't sequences\n",
    "shuffle(seq)\n",
    "rest = set(seq)\n",
    "for x in seq[:-1]:\n",
    "    rest.remove(x)\n",
    "    m = randrange(1, len(rest)+1)\n",
    "    G[x] = set(sample(rest, m))\n",
    "\n",
    "G[seq[-1]] = set()\n",
    "sorted = naive_topsort(G)\n",
    "rest = set(sorted)\n",
    "for u in sorted:\n",
    "    rest.remove(u)\n",
    "    assert G[u] <= rest\n",
    "\n",
    "G = {'a': set('bf'), 'b': set('cdf'),\n",
    "     'c': set('d'), 'd': set('ef'), 'e': set('f'), 'f': set()}"
   ]
  },
  {
   "cell_type": "code",
   "execution_count": 37,
   "metadata": {
    "ExecuteTime": {
     "end_time": "2020-11-04T07:08:46.876428Z",
     "start_time": "2020-11-04T07:08:46.872756Z"
    }
   },
   "outputs": [
    {
     "data": {
      "text/plain": [
       "['e', 'a', 'b', 'c', 'd', 'f']"
      ]
     },
     "execution_count": 37,
     "metadata": {},
     "output_type": "execute_result"
    }
   ],
   "source": [
    "naive_topsort(G)  "
   ]
  },
  {
   "cell_type": "markdown",
   "metadata": {},
   "source": [
    "## リスト4-10 有向非巡回グラフのトポロジカルソート"
   ]
  },
  {
   "cell_type": "markdown",
   "metadata": {},
   "source": [
    "以下の実装は、この数え上げベースのトポロジカルソートは反復を使って実装しています。"
   ]
  },
  {
   "cell_type": "code",
   "execution_count": 38,
   "metadata": {
    "ExecuteTime": {
     "end_time": "2020-11-04T07:08:47.492802Z",
     "start_time": "2020-11-04T07:08:47.488372Z"
    }
   },
   "outputs": [],
   "source": [
    "def topsort(G):\n",
    "    count = dict((u, 0) for u in G)             # 各ノードに対する入力次数\n",
    "    for u in G:\n",
    "        for v in G[u]:\n",
    "            count[v] += 1                       # すべての入力エッジを数える\n",
    "    Q = [u for u in G if count[u] == 0]         # 最初の有向なノード\n",
    "    S = []                                      # 結果\n",
    "    while Q:                                    # スタートノードがある限りwhileを継続\n",
    "        u = Q.pop()                             # 1つを抽出\n",
    "        S.append(u)                             # 抽出したものを残りの最初として使う\n",
    "        for v in G[u]:\n",
    "            count[v] -= 1                       # 出力エッジ分\"数え上げ\"を取り消す\n",
    "            if count[v] == 0:                   # 新しい有向なスタートノードがある場合\n",
    "                Q.append(v)                     # 次に扱う候補に追加\n",
    "    return S"
   ]
  },
  {
   "cell_type": "markdown",
   "metadata": {},
   "source": [
    "`naive_topsort`と同様に図4-5のグラフを再現し、トポロジカルソートを実行してみましょう。"
   ]
  },
  {
   "cell_type": "code",
   "execution_count": 39,
   "metadata": {
    "ExecuteTime": {
     "end_time": "2020-11-04T07:08:47.817123Z",
     "start_time": "2020-11-04T07:08:47.809119Z"
    }
   },
   "outputs": [
    {
     "data": {
      "text/plain": [
       "['a', 'b', 'c', 'd', 'e', 'f']"
      ]
     },
     "execution_count": 39,
     "metadata": {},
     "output_type": "execute_result"
    }
   ],
   "source": [
    "n = 6\n",
    "from random import sample, randrange, shuffle\n",
    "from random import seed; seed(2365)\n",
    "G = dict()\n",
    "seq = list(range(n)) # Py 3 range objects aren't sequences\n",
    "shuffle(seq)\n",
    "rest = set(seq)\n",
    "for x in seq[:-1]:\n",
    "    rest.remove(x)\n",
    "    m = randrange(1,len(rest)+1)\n",
    "    G[x] = set(sample(rest, m))\n",
    "\n",
    "G[seq[-1]] = set()\n",
    "sorted = topsort(G)\n",
    "rest = set(sorted)\n",
    "for u in sorted:\n",
    "    rest.remove(u)\n",
    "    assert G[u] <= rest\n",
    "\n",
    "G = {'a': set('bf'), 'b': set('cdf'),\n",
    "'c': set('d'), 'd': set('ef'), 'e': set('f'), 'f': set()}\n",
    "topsort(G)\n",
    "# ['a', 'b', 'c', 'd', 'e', 'f']"
   ]
  },
  {
   "cell_type": "markdown",
   "metadata": {},
   "source": [
    "## 「ブラックボックス」コラム トポロジカルソートとPython MRO\n",
    "\n",
    "複数のスーパークラスがあった場合、構造の順序付けは少し難しくなります。次のような例を考えてみてください。"
   ]
  },
  {
   "cell_type": "code",
   "execution_count": 40,
   "metadata": {
    "ExecuteTime": {
     "end_time": "2020-11-04T07:08:48.142897Z",
     "start_time": "2020-11-04T07:08:48.140032Z"
    }
   },
   "outputs": [],
   "source": [
    "class X: pass\n",
    "class Y: pass\n",
    "class A(X,Y): pass\n",
    "class B(Y,X): pass"
   ]
  },
  {
   "cell_type": "markdown",
   "metadata": {},
   "source": [
    "新しいクラスC をA とB から派生させたとすると、問題が発生します。X とY のどちらでメソッドを探せばいいのか分かりません。"
   ]
  },
  {
   "cell_type": "markdown",
   "metadata": {},
   "source": [
    "# 4-7 緩和とゆっくりとした改善\n",
    "\n",
    "いまみなさんは空港にいて、他のいくつかの空港に飛行機で移動できるとします。それらの\n",
    "各空港から、電車に乗って町や都市にいくことができます。飛行時間に関する辞書またはリス\n",
    "トAがあるとし、`A[u]`は空港`u`に到達するまでの時間を表します。同様に、`B[u][v]`は空港`u`から町`v`まで電車で行くのにかかる時間を表します（Bはリストのリストまたは辞書の辞書でもいいです。第2章を参照ください）。以下のようなランダムに各町に到達するまでの時間を推定する方法`C[v]`を考えてみてください。"
   ]
  },
  {
   "cell_type": "code",
   "execution_count": 41,
   "metadata": {
    "ExecuteTime": {
     "end_time": "2020-11-04T07:08:48.773944Z",
     "start_time": "2020-11-04T07:08:48.766073Z"
    },
    "scrolled": true
   },
   "outputs": [
    {
     "data": {
      "text/plain": [
       "{0: 444,\n",
       " 1: 368,\n",
       " 2: 174,\n",
       " 3: 218,\n",
       " 4: 220,\n",
       " 5: 239,\n",
       " 6: 399,\n",
       " 7: 312,\n",
       " 8: 311,\n",
       " 9: 524}"
      ]
     },
     "execution_count": 41,
     "metadata": {},
     "output_type": "execute_result"
    }
   ],
   "source": [
    "from random import *\n",
    "n = 10\n",
    "B = dict((i, dict((j, randrange(1000)) for j in range(n)))\n",
    "         for i in range(n))\n",
    "for i in range(n):\n",
    "    B[i][i] = 0\n",
    "A = dict((i, randrange(1000)) for i in range(n))\n",
    "C = {}\n",
    "N = 100\n",
    "for v in range(n):\n",
    "    C[v] = float('inf')\n",
    "for i in range(N):\n",
    "    u, v = randrange(n), randrange(n)\n",
    "    C[v] = min(C[v], A[u] + B[u][v])  # 緩和\n",
    "\n",
    "C"
   ]
  }
 ],
 "metadata": {
  "hide_input": false,
  "kernelspec": {
   "display_name": "Python (py36)",
   "language": "python",
   "name": "py36"
  },
  "language_info": {
   "codemirror_mode": {
    "name": "ipython",
    "version": 3
   },
   "file_extension": ".py",
   "mimetype": "text/x-python",
   "name": "python",
   "nbconvert_exporter": "python",
   "pygments_lexer": "ipython3",
   "version": "3.6.7"
  },
  "toc": {
   "base_numbering": 1,
   "nav_menu": {},
   "number_sections": false,
   "sideBar": true,
   "skip_h1_title": false,
   "title_cell": "Table of Contents",
   "title_sidebar": "Contents",
   "toc_cell": true,
   "toc_position": {},
   "toc_section_display": true,
   "toc_window_display": true
  },
  "varInspector": {
   "cols": {
    "lenName": 16,
    "lenType": 16,
    "lenVar": 40
   },
   "kernels_config": {
    "python": {
     "delete_cmd_postfix": "",
     "delete_cmd_prefix": "del ",
     "library": "var_list.py",
     "varRefreshCmd": "print(var_dic_list())"
    },
    "r": {
     "delete_cmd_postfix": ") ",
     "delete_cmd_prefix": "rm(",
     "library": "var_list.r",
     "varRefreshCmd": "cat(var_dic_list()) "
    }
   },
   "types_to_exclude": [
    "module",
    "function",
    "builtin_function_or_method",
    "instance",
    "_Feature"
   ],
   "window_display": false
  }
 },
 "nbformat": 4,
 "nbformat_minor": 2
}

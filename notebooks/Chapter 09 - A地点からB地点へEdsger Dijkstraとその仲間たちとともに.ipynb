{
 "cells": [
  {
   "cell_type": "markdown",
   "metadata": {
    "toc": true
   },
   "source": [
    "<h1>Table of Contents<span class=\"tocSkip\"></span></h1>\n",
    "<div class=\"toc\"><ul class=\"toc-item\"><li><span><a href=\"#9-1-知識の伝播\" data-toc-modified-id=\"9-1-知識の伝播-1\">9-1 知識の伝播</a></span><ul class=\"toc-item\"><li><span><a href=\"#リスト9-1\" data-toc-modified-id=\"リスト9-1-1.1\">リスト9-1</a></span></li></ul></li><li><span><a href=\"#9-2-狂ったように緩和する\" data-toc-modified-id=\"9-2-狂ったように緩和する-2\">9-2 狂ったように緩和する</a></span><ul class=\"toc-item\"><li><span><a href=\"#リスト9-2-Bellman-Fordのアルゴリズム\" data-toc-modified-id=\"リスト9-2-Bellman-Fordのアルゴリズム-2.1\">リスト9-2 Bellman-Fordのアルゴリズム</a></span></li></ul></li><li><span><a href=\"#9-3-隠れたDAGを見つける\" data-toc-modified-id=\"9-3-隠れたDAGを見つける-3\">9-3 隠れたDAGを見つける</a></span><ul class=\"toc-item\"><li><span><a href=\"#リスト9-3-Dijkstraのアルゴリズム\" data-toc-modified-id=\"リスト9-3-Dijkstraのアルゴリズム-3.1\">リスト9-3 Dijkstraのアルゴリズム</a></span></li></ul></li><li><span><a href=\"#9-4-万人対万人\" data-toc-modified-id=\"9-4-万人対万人-4\">9-4 万人対万人</a></span><ul class=\"toc-item\"><li><span><a href=\"#リスト9-4-Johnsonのアルゴリズム\" data-toc-modified-id=\"リスト9-4-Johnsonのアルゴリズム-4.1\">リスト9-4 Johnsonのアルゴリズム</a></span></li></ul></li><li><span><a href=\"#9-5-突拍子もない部分問題\" data-toc-modified-id=\"9-5-突拍子もない部分問題-5\">9-5 突拍子もない部分問題</a></span><ul class=\"toc-item\"><li><span><a href=\"#リスト9-5-メモ化を使ったFloyd-Warshallのアルゴリズムの再帰的実装\" data-toc-modified-id=\"リスト9-5-メモ化を使ったFloyd-Warshallのアルゴリズムの再帰的実装-5.1\">リスト9-5 メモ化を使ったFloyd-Warshallのアルゴリズムの再帰的実装</a></span></li><li><span><a href=\"#リスト9-6-距離マップを使ったFloyd-Warshall-のアルゴリズム\" data-toc-modified-id=\"リスト9-6-距離マップを使ったFloyd-Warshall-のアルゴリズム-5.2\">リスト9-6 距離マップを使ったFloyd-Warshall のアルゴリズム</a></span></li><li><span><a href=\"#リスト9-7-Floyd-Warshallのアルゴリズム\" data-toc-modified-id=\"リスト9-7-Floyd-Warshallのアルゴリズム-5.3\">リスト9-7 Floyd-Warshallのアルゴリズム</a></span></li></ul></li><li><span><a href=\"#9-6-中間で会う\" data-toc-modified-id=\"9-6-中間で会う-6\">9-6 中間で会う</a></span><ul class=\"toc-item\"><li><span><a href=\"#リスト9-8-ジェネレーターとして実装されたDijkstraのアルゴリズム\" data-toc-modified-id=\"リスト9-8-ジェネレーターとして実装されたDijkstraのアルゴリズム-6.1\">リスト9-8 ジェネレーターとして実装されたDijkstraのアルゴリズム</a></span></li><li><span><a href=\"#リスト9-9-Dijkstraのアルゴリズムの双方向バージョン\" data-toc-modified-id=\"リスト9-9-Dijkstraのアルゴリズムの双方向バージョン-6.2\">リスト9-9 Dijkstraのアルゴリズムの双方向バージョン</a></span></li></ul></li><li><span><a href=\"#9-7-どこに向かっているのかを知る\" data-toc-modified-id=\"9-7-どこに向かっているのかを知る-7\">9-7 どこに向かっているのかを知る</a></span><ul class=\"toc-item\"><li><span><a href=\"#リスト9-10-A*アルゴリズム\" data-toc-modified-id=\"リスト9-10-A*アルゴリズム-7.1\">リスト9-10 A*アルゴリズム</a></span></li><li><span><a href=\"#リスト9-11-言葉の梯子における暗黙的なグラフ\" data-toc-modified-id=\"リスト9-11-言葉の梯子における暗黙的なグラフ-7.2\">リスト9-11 言葉の梯子における暗黙的なグラフ</a></span></li></ul></li></ul></div>"
   ]
  },
  {
   "cell_type": "markdown",
   "metadata": {},
   "source": [
    "# 9-1 知識の伝播"
   ]
  },
  {
   "cell_type": "markdown",
   "metadata": {},
   "source": [
    "## リスト9-1 \n",
    "\n",
    "緩和は以下のような`relax`関数として表すことができます。"
   ]
  },
  {
   "cell_type": "code",
   "execution_count": 1,
   "metadata": {
    "ExecuteTime": {
     "end_time": "2020-11-02T05:55:58.906443Z",
     "start_time": "2020-11-02T05:55:58.902788Z"
    }
   },
   "outputs": [],
   "source": [
    "inf = float('inf')\n",
    "\n",
    "\n",
    "def relax(W, u, v, D, P):\n",
    "    d = D.get(u, inf) + W[u][v]                  # 推定最短経路\n",
    "    if d < D.get(v, inf):                        # 実際に最短経路の場合、\n",
    "        D[v], P[v] = d, u                        # 推定値と親ノードを更新\n",
    "        return True                              # 変更があったことを返す"
   ]
  },
  {
   "cell_type": "markdown",
   "metadata": {},
   "source": [
    "以下がこの挙動の例になります。"
   ]
  },
  {
   "cell_type": "code",
   "execution_count": 2,
   "metadata": {
    "ExecuteTime": {
     "end_time": "2020-11-02T05:55:59.268558Z",
     "start_time": "2020-11-02T05:55:59.259818Z"
    }
   },
   "outputs": [
    {
     "data": {
      "text/plain": [
       "7"
      ]
     },
     "execution_count": 2,
     "metadata": {},
     "output_type": "execute_result"
    }
   ],
   "source": [
    "u = 0\n",
    "v = 1\n",
    "D, W, P = {}, {u: {v: 3}}, {}\n",
    "D[u] = 7\n",
    "D[v] = 13\n",
    "D[u]\n",
    "# 7"
   ]
  },
  {
   "cell_type": "code",
   "execution_count": 3,
   "metadata": {
    "ExecuteTime": {
     "end_time": "2020-11-02T05:55:59.273919Z",
     "start_time": "2020-11-02T05:55:59.270802Z"
    }
   },
   "outputs": [
    {
     "data": {
      "text/plain": [
       "13"
      ]
     },
     "execution_count": 3,
     "metadata": {},
     "output_type": "execute_result"
    }
   ],
   "source": [
    "D[v]\n",
    "# 13"
   ]
  },
  {
   "cell_type": "code",
   "execution_count": 4,
   "metadata": {
    "ExecuteTime": {
     "end_time": "2020-11-02T05:55:59.278674Z",
     "start_time": "2020-11-02T05:55:59.275511Z"
    }
   },
   "outputs": [
    {
     "data": {
      "text/plain": [
       "3"
      ]
     },
     "execution_count": 4,
     "metadata": {},
     "output_type": "execute_result"
    }
   ],
   "source": [
    "W[u][v]\n",
    "3"
   ]
  },
  {
   "cell_type": "code",
   "execution_count": 5,
   "metadata": {
    "ExecuteTime": {
     "end_time": "2020-11-02T05:55:59.283226Z",
     "start_time": "2020-11-02T05:55:59.280279Z"
    }
   },
   "outputs": [
    {
     "data": {
      "text/plain": [
       "True"
      ]
     },
     "execution_count": 5,
     "metadata": {},
     "output_type": "execute_result"
    }
   ],
   "source": [
    "relax(W, u, v, D, P)\n",
    "# True"
   ]
  },
  {
   "cell_type": "code",
   "execution_count": 6,
   "metadata": {
    "ExecuteTime": {
     "end_time": "2020-11-02T05:55:59.288044Z",
     "start_time": "2020-11-02T05:55:59.285316Z"
    }
   },
   "outputs": [
    {
     "data": {
      "text/plain": [
       "10"
      ]
     },
     "execution_count": 6,
     "metadata": {},
     "output_type": "execute_result"
    }
   ],
   "source": [
    "D[v]\n",
    "# 10"
   ]
  },
  {
   "cell_type": "markdown",
   "metadata": {},
   "source": [
    "ご覧のように、`u`を通る近道を見つけたので、`relax`を最初に呼び出した後、`D[v]`が$13$から$10$に改善しています。これは、（推定上）距離$7$を使って`u`に到達し、そこは`V`から距離$3$のところにあったということです。次に、どういうわけか、`v`に距離$8$を使って到達できることが分かったとします。もう一度`relax`を実行しても、何も変化は起きません。|"
   ]
  },
  {
   "cell_type": "code",
   "execution_count": 7,
   "metadata": {
    "ExecuteTime": {
     "end_time": "2020-11-02T05:55:59.619072Z",
     "start_time": "2020-11-02T05:55:59.615182Z"
    }
   },
   "outputs": [
    {
     "data": {
      "text/plain": [
       "8"
      ]
     },
     "execution_count": 7,
     "metadata": {},
     "output_type": "execute_result"
    }
   ],
   "source": [
    "D[v] = 8\n",
    "relax(W, u, v, D, P)\n",
    "D[v]\n",
    "# 8"
   ]
  },
  {
   "cell_type": "markdown",
   "metadata": {},
   "source": [
    "# 9-2 狂ったように緩和する"
   ]
  },
  {
   "cell_type": "markdown",
   "metadata": {},
   "source": [
    "## リスト9-2 Bellman-Fordのアルゴリズム\n",
    "\n",
    "本章にふさわしい最初のアルゴリズム、Bellman-Fordのアルゴリズムの実装は、以下を参照してください。"
   ]
  },
  {
   "cell_type": "code",
   "execution_count": 8,
   "metadata": {
    "ExecuteTime": {
     "end_time": "2020-11-02T05:56:00.418810Z",
     "start_time": "2020-11-02T05:56:00.413906Z"
    }
   },
   "outputs": [],
   "source": [
    "def bellman_ford(G, s):\n",
    "    D, P = {s: 0}, {}                           # sに対して初期値ゼロの辞書; 親なし\n",
    "    for rnd in G:                               # n = len(G) ラウンド\n",
    "        changed = False                         # 変化がない\n",
    "        for u in G:                             # あるノードから...\n",
    "            for v in G[u]:                      # ... あるノードへ...\n",
    "                if relax(G, u, v, D, P):        # uからvへ近道になっているか?\n",
    "                    changed = True              # はい、ならば近道になっている\n",
    "        if not changed:\n",
    "            break                               # 変化がなかった場合: 終了\n",
    "    else:                                       # nラウンドで終了しなかった場合?\n",
    "        raise ValueError('negative cycle')      # 負のサイクルを検知\n",
    "    return D, P                                 # そうでない場合、DとPは正しい"
   ]
  },
  {
   "cell_type": "code",
   "execution_count": 9,
   "metadata": {
    "ExecuteTime": {
     "end_time": "2020-11-02T05:56:00.427304Z",
     "start_time": "2020-11-02T05:56:00.421335Z"
    }
   },
   "outputs": [
    {
     "data": {
      "text/plain": [
       "[0, 2, 4, 7, -2]"
      ]
     },
     "execution_count": 9,
     "metadata": {},
     "output_type": "execute_result"
    }
   ],
   "source": [
    "s, t, x, y, z = range(5)\n",
    "W = {\n",
    "    s: {t: 6, y: 7},\n",
    "    t: {x: 5, y: 8, z: -4},\n",
    "    x: {t: -2},\n",
    "    y: {x: -3, z: 9},\n",
    "    z: {s: 2, x: 7}\n",
    "}\n",
    "D, P = bellman_ford(W, s)\n",
    "[D[v] for v in [s, t, x, y, z]]\n",
    "# [0, 2, 4, 7, -2]"
   ]
  },
  {
   "cell_type": "code",
   "execution_count": 10,
   "metadata": {
    "ExecuteTime": {
     "end_time": "2020-11-02T05:56:00.432956Z",
     "start_time": "2020-11-02T05:56:00.429798Z"
    }
   },
   "outputs": [
    {
     "data": {
      "text/plain": [
       "True"
      ]
     },
     "execution_count": 10,
     "metadata": {},
     "output_type": "execute_result"
    }
   ],
   "source": [
    "s not in P\n",
    "# True"
   ]
  },
  {
   "cell_type": "code",
   "execution_count": 11,
   "metadata": {
    "ExecuteTime": {
     "end_time": "2020-11-02T05:56:00.438696Z",
     "start_time": "2020-11-02T05:56:00.435184Z"
    }
   },
   "outputs": [
    {
     "data": {
      "text/plain": [
       "True"
      ]
     },
     "execution_count": 11,
     "metadata": {},
     "output_type": "execute_result"
    }
   ],
   "source": [
    "[P[v] for v in [t, x, y, z]] == [x, y, s, t]\n",
    "# True"
   ]
  },
  {
   "cell_type": "code",
   "execution_count": 12,
   "metadata": {
    "ExecuteTime": {
     "end_time": "2020-11-02T05:56:00.443918Z",
     "start_time": "2020-11-02T05:56:00.440528Z"
    }
   },
   "outputs": [
    {
     "name": "stdout",
     "output_type": "stream",
     "text": [
      "負のサイクルを検知\n"
     ]
    }
   ],
   "source": [
    "W[s][t] = -100\n",
    "try:\n",
    "    bellman_ford(W, s)\n",
    "except ValueError as e:\n",
    "    # Traceback (most recent call last):\n",
    "    # ValueError: negative cycle\n",
    "    print('負のサイクルを検知')"
   ]
  },
  {
   "cell_type": "markdown",
   "metadata": {},
   "source": [
    "# 9-3 隠れたDAGを見つける"
   ]
  },
  {
   "cell_type": "markdown",
   "metadata": {},
   "source": [
    "## リスト9-3 Dijkstraのアルゴリズム\n",
    "\n",
    "\n",
    "リスト7-5のように（ヒープ内の優先度を修正しようとする代わりに）正確性や実行時間は損なわずに、単に同じノードをヒープに複数回追加できます。結果は以下のDijkstraのアルゴリズムの実装をご覧ください。"
   ]
  },
  {
   "cell_type": "code",
   "execution_count": 13,
   "metadata": {
    "ExecuteTime": {
     "end_time": "2020-11-02T05:56:01.138300Z",
     "start_time": "2020-11-02T05:56:01.133911Z"
    }
   },
   "outputs": [],
   "source": [
    "from heapq import heappush, heappop\n",
    "\n",
    "\n",
    "def dijkstra(G, s):\n",
    "    D, P, Q, S = {s: 0}, {}, [(0, s)], set()    # 推定距離、木、キュー、訪問済みノード\n",
    "    while Q:                                    # まだ処理されていないノードがある場合\n",
    "        _, u = heappop(Q)                       # 最小推定距離を持つノード\n",
    "        if u in S:\n",
    "            continue                            # すでに訪問済み？ 飛ばす\n",
    "        S.add(u)                                # 訪問済みに追加\n",
    "        for v in G[u]:                          # すべての近傍を訪問\n",
    "            relax(G, u, v, D, P)                # 出力エッジを緩和する\n",
    "            heappush(Q, (D[v], v))              # キューに加え、優先度として距離・重みを追加\n",
    "    return D, P                                 # 最終的なDとPを返す"
   ]
  },
  {
   "cell_type": "code",
   "execution_count": 14,
   "metadata": {
    "ExecuteTime": {
     "end_time": "2020-11-02T05:56:01.146121Z",
     "start_time": "2020-11-02T05:56:01.140570Z"
    }
   },
   "outputs": [
    {
     "data": {
      "text/plain": [
       "[0, 8, 9, 5, 7]"
      ]
     },
     "execution_count": 14,
     "metadata": {},
     "output_type": "execute_result"
    }
   ],
   "source": [
    "s, t, x, y, z = range(5)\n",
    "W = {\n",
    "    s: {t: 10, y: 5},\n",
    "    t: {x: 1, y: 2},\n",
    "    x: {z: 4},\n",
    "    y: {t: 3, x: 9, z: 2},\n",
    "    z: {x: 6, s: 7}\n",
    "}\n",
    "D, P = dijkstra(W, s)\n",
    "[D[v] for v in [s, t, x, y, z]]\n",
    "# [0, 8, 9, 5, 7]"
   ]
  },
  {
   "cell_type": "code",
   "execution_count": 15,
   "metadata": {
    "ExecuteTime": {
     "end_time": "2020-11-02T05:56:01.151561Z",
     "start_time": "2020-11-02T05:56:01.148262Z"
    }
   },
   "outputs": [
    {
     "data": {
      "text/plain": [
       "True"
      ]
     },
     "execution_count": 15,
     "metadata": {},
     "output_type": "execute_result"
    }
   ],
   "source": [
    "s not in P\n",
    "# True"
   ]
  },
  {
   "cell_type": "code",
   "execution_count": 16,
   "metadata": {
    "ExecuteTime": {
     "end_time": "2020-11-02T05:56:01.156495Z",
     "start_time": "2020-11-02T05:56:01.153168Z"
    }
   },
   "outputs": [
    {
     "data": {
      "text/plain": [
       "True"
      ]
     },
     "execution_count": 16,
     "metadata": {},
     "output_type": "execute_result"
    }
   ],
   "source": [
    "[P[v] for v in [t, x, y, z]] == [y, t, s, y]\n",
    "# True"
   ]
  },
  {
   "cell_type": "markdown",
   "metadata": {},
   "source": [
    "# 9-4 万人対万人"
   ]
  },
  {
   "cell_type": "markdown",
   "metadata": {},
   "source": [
    "## リスト9-4 Johnsonのアルゴリズム\n",
    "\n",
    "Dijkstraのアルゴリズムで最短経路を発見したら、逆にすべての経路の長さを変換できます。似たような畳み込みの概念を使って、変換された重みに基づいてを$h(v)$を足し、$h(u)$を引くことで、からまでの最短経路の実際の長さを得ることができると分かります。これを実装したのが以下です。"
   ]
  },
  {
   "cell_type": "code",
   "execution_count": 17,
   "metadata": {
    "ExecuteTime": {
     "end_time": "2020-11-02T05:56:01.850082Z",
     "start_time": "2020-11-02T05:56:01.844983Z"
    }
   },
   "outputs": [],
   "source": [
    "from copy import deepcopy\n",
    "\n",
    "\n",
    "def johnson(G):                                 # 全点対に対する最短経路\n",
    "    G = deepcopy(G)                             # 元のグラフを壊さないようにコピー\n",
    "    s = object()                                # 使わないと保証されたノード\n",
    "    G[s] = {v: 0 for v in G}                     # sから出たエッジは重みゼロ\n",
    "    h, _ = bellman_ford(G, s)                   # h[v]: sからの最小距離\n",
    "    del G[s]                                    # sに対して必要がないので削除\n",
    "    for u in G:                                 # uから\n",
    "        for v in G[u]:                          # ... vへのエッジの ...\n",
    "            G[u][v] += h[u] - h[v]              # ... 重みを調節(非負)\n",
    "    D, P = {}, {}                               # D[u][v] と P[u][v]\n",
    "    for u in G:                                 # すべてのuから ...\n",
    "        D[u], P[u] = dijkstra(G, u)             # ... 最短経路を探す\n",
    "        for v in G:                             # すべての目的地に対して ...\n",
    "            D[u][v] += h[v] - h[u]              # ... 距離を再調整\n",
    "    return D, P                                 # 返される2次元のオブジェクト"
   ]
  },
  {
   "cell_type": "code",
   "execution_count": 18,
   "metadata": {
    "ExecuteTime": {
     "end_time": "2020-11-02T05:56:01.858114Z",
     "start_time": "2020-11-02T05:56:01.852379Z"
    }
   },
   "outputs": [
    {
     "data": {
      "text/plain": [
       "[0, -4, 1, -1, 3]"
      ]
     },
     "execution_count": 18,
     "metadata": {},
     "output_type": "execute_result"
    }
   ],
   "source": [
    "a, b, c, d, e = range(5)\n",
    "W = {\n",
    "    a: {c:1, d:7},\n",
    "    b: {a:4},\n",
    "    c: {b:-5, e:2},\n",
    "    d: {c:6},\n",
    "    e: {a:3, b:8, d:-4}\n",
    "}\n",
    "D, P = johnson(W)\n",
    "[D[a][v] for v in [a, b, c, d, e]]\n",
    "# [0, -4, 1, -1, 3]"
   ]
  },
  {
   "cell_type": "code",
   "execution_count": 19,
   "metadata": {
    "ExecuteTime": {
     "end_time": "2020-11-02T05:56:01.863203Z",
     "start_time": "2020-11-02T05:56:01.859676Z"
    }
   },
   "outputs": [
    {
     "data": {
      "text/plain": [
       "[4, 0, 5, 3, 7]"
      ]
     },
     "execution_count": 19,
     "metadata": {},
     "output_type": "execute_result"
    }
   ],
   "source": [
    "[D[b][v] for v in [a, b, c, d, e]]\n",
    "# [4, 0, 5, 3, 7]"
   ]
  },
  {
   "cell_type": "code",
   "execution_count": 20,
   "metadata": {
    "ExecuteTime": {
     "end_time": "2020-11-02T05:56:01.868899Z",
     "start_time": "2020-11-02T05:56:01.865379Z"
    }
   },
   "outputs": [
    {
     "data": {
      "text/plain": [
       "[-1, -5, 0, -2, 2]"
      ]
     },
     "execution_count": 20,
     "metadata": {},
     "output_type": "execute_result"
    }
   ],
   "source": [
    "[D[c][v] for v in [a, b, c, d, e]]\n",
    "# [-1, -5, 0, -2, 2]"
   ]
  },
  {
   "cell_type": "code",
   "execution_count": 21,
   "metadata": {
    "ExecuteTime": {
     "end_time": "2020-11-02T05:56:01.873828Z",
     "start_time": "2020-11-02T05:56:01.870489Z"
    }
   },
   "outputs": [
    {
     "data": {
      "text/plain": [
       "[5, 1, 6, 0, 8]"
      ]
     },
     "execution_count": 21,
     "metadata": {},
     "output_type": "execute_result"
    }
   ],
   "source": [
    "[D[d][v] for v in [a, b, c, d, e]]\n",
    "# [5, 1, 6, 0, 8]"
   ]
  },
  {
   "cell_type": "code",
   "execution_count": 22,
   "metadata": {
    "ExecuteTime": {
     "end_time": "2020-11-02T05:56:01.878674Z",
     "start_time": "2020-11-02T05:56:01.875288Z"
    }
   },
   "outputs": [
    {
     "data": {
      "text/plain": [
       "[1, -3, 2, -4, 0]"
      ]
     },
     "execution_count": 22,
     "metadata": {},
     "output_type": "execute_result"
    }
   ],
   "source": [
    "[D[e][v] for v in [a, b, c, d, e]]\n",
    "# [1, -3, 2, -4, 0]"
   ]
  },
  {
   "cell_type": "markdown",
   "metadata": {},
   "source": [
    "# 9-5 突拍子もない部分問題"
   ]
  },
  {
   "cell_type": "markdown",
   "metadata": {},
   "source": [
    "## リスト9-5 メモ化を使ったFloyd-Warshallのアルゴリズムの再帰的実装\n",
    "\n",
    "Floyd-Warshallのアルゴリズムの実装は以下をご覧ください（実装は第8章で扱ったmemoデコレータを使っています）。"
   ]
  },
  {
   "cell_type": "code",
   "execution_count": 23,
   "metadata": {
    "ExecuteTime": {
     "end_time": "2020-11-02T05:56:02.583731Z",
     "start_time": "2020-11-02T05:56:02.580301Z"
    }
   },
   "outputs": [],
   "source": [
    "from functools import wraps\n",
    "\n",
    "def memo(func):\n",
    "    cache = {}                                  # 部分問題の解をキャッシュする\n",
    "    @wraps(func)                                # wrapをfuncのように見せる\n",
    "    def wrap(*args):                            # メモ化するラッパ関数\n",
    "        if args not in cache:                   # すでに計算されているか?\n",
    "            cache[args] = func(*args)           # されていない場合、計算し、その解をキャッシュ\n",
    "        return cache[args]                      # キャッシュされている解を返す\n",
    "    return wrap                                 # ラッパ関数を返す"
   ]
  },
  {
   "cell_type": "code",
   "execution_count": 24,
   "metadata": {
    "ExecuteTime": {
     "end_time": "2020-11-02T05:56:02.589921Z",
     "start_time": "2020-11-02T05:56:02.585791Z"
    }
   },
   "outputs": [],
   "source": [
    "def rec_floyd_warshall(G):                                      # すべての最短経路\n",
    "    @memo                                                       # 部分解を保存\n",
    "    def d(u, v, k):                                             # 1..kを通してuからvへ\n",
    "        if k == 0:\n",
    "            return G[u][v]                                      # v が G[u]にあると仮定\n",
    "        return min(d(u, v, k-1), d(u, k, k-1) + d(k, v, k-1))   # kを使う・使わない場合\n",
    "    # D[u,v] = d(u,v,n)\n",
    "    return {(u, v): d(u, v, len(G)) for u in G for v in G}"
   ]
  },
  {
   "cell_type": "code",
   "execution_count": 25,
   "metadata": {
    "ExecuteTime": {
     "end_time": "2020-11-02T05:56:02.598896Z",
     "start_time": "2020-11-02T05:56:02.592001Z"
    }
   },
   "outputs": [
    {
     "data": {
      "text/plain": [
       "[0, -4, 1, -1, 3]"
      ]
     },
     "execution_count": 25,
     "metadata": {},
     "output_type": "execute_result"
    }
   ],
   "source": [
    "a, b, c, d, e = range(1, 6)  # One-based\n",
    "W = {\n",
    "    a: {c: 1, d: 7},\n",
    "    b: {a: 4},\n",
    "    c: {b: -5, e: 2},\n",
    "    d: {c: 6},\n",
    "    e: {a: 3, b: 8, d: -4}\n",
    "}\n",
    "for u in W:\n",
    "    for v in W:\n",
    "        if u == v:\n",
    "            W[u][v] = 0\n",
    "        if v not in W[u]:\n",
    "            W[u][v] = inf\n",
    "D = rec_floyd_warshall(W)\n",
    "[D[a, v] for v in [a, b, c, d, e]]\n",
    "# [0, -4, 1, -1, 3]"
   ]
  },
  {
   "cell_type": "code",
   "execution_count": 26,
   "metadata": {
    "ExecuteTime": {
     "end_time": "2020-11-02T05:56:02.604599Z",
     "start_time": "2020-11-02T05:56:02.601080Z"
    }
   },
   "outputs": [
    {
     "data": {
      "text/plain": [
       "[4, 0, 5, 3, 7]"
      ]
     },
     "execution_count": 26,
     "metadata": {},
     "output_type": "execute_result"
    }
   ],
   "source": [
    "[D[b, v] for v in [a, b, c, d, e]]\n",
    "# [4, 0, 5, 3, 7]"
   ]
  },
  {
   "cell_type": "code",
   "execution_count": 27,
   "metadata": {
    "ExecuteTime": {
     "end_time": "2020-11-02T05:56:02.609723Z",
     "start_time": "2020-11-02T05:56:02.606139Z"
    }
   },
   "outputs": [
    {
     "data": {
      "text/plain": [
       "[-1, -5, 0, -2, 2]"
      ]
     },
     "execution_count": 27,
     "metadata": {},
     "output_type": "execute_result"
    }
   ],
   "source": [
    "[D[c, v] for v in [a, b, c, d, e]]\n",
    "# [-1, -5, 0, -2, 2]"
   ]
  },
  {
   "cell_type": "code",
   "execution_count": 28,
   "metadata": {
    "ExecuteTime": {
     "end_time": "2020-11-02T05:56:02.614622Z",
     "start_time": "2020-11-02T05:56:02.611306Z"
    }
   },
   "outputs": [
    {
     "data": {
      "text/plain": [
       "[5, 1, 6, 0, 8]"
      ]
     },
     "execution_count": 28,
     "metadata": {},
     "output_type": "execute_result"
    }
   ],
   "source": [
    "[D[d, v] for v in [a, b, c, d, e]]\n",
    "# [5, 1, 6, 0, 8]"
   ]
  },
  {
   "cell_type": "code",
   "execution_count": 29,
   "metadata": {
    "ExecuteTime": {
     "end_time": "2020-11-02T05:56:02.619755Z",
     "start_time": "2020-11-02T05:56:02.616100Z"
    }
   },
   "outputs": [
    {
     "data": {
      "text/plain": [
       "[1, -3, 2, -4, 0]"
      ]
     },
     "execution_count": 29,
     "metadata": {},
     "output_type": "execute_result"
    }
   ],
   "source": [
    "[D[e, v] for v in [a, b, c, d, e]]\n",
    "# [1, -3, 2, -4, 0]"
   ]
  },
  {
   "cell_type": "markdown",
   "metadata": {},
   "source": [
    "## リスト9-6 距離マップを使ったFloyd-Warshall のアルゴリズム"
   ]
  },
  {
   "cell_type": "code",
   "execution_count": 30,
   "metadata": {
    "ExecuteTime": {
     "end_time": "2020-11-02T05:56:02.965433Z",
     "start_time": "2020-11-02T05:56:02.962034Z"
    }
   },
   "outputs": [],
   "source": [
    "def floyd_warshall(G):\n",
    "    D = deepcopy(G)                             # 中間ノードなし\n",
    "    for k in G:                                 # kを使った近道を探す\n",
    "        for u in G:\n",
    "            for v in G:\n",
    "                D[u][v] = min(D[u][v], D[u][k] + D[k][v])\n",
    "    return D"
   ]
  },
  {
   "cell_type": "code",
   "execution_count": 31,
   "metadata": {
    "ExecuteTime": {
     "end_time": "2020-11-02T05:56:02.974451Z",
     "start_time": "2020-11-02T05:56:02.967475Z"
    }
   },
   "outputs": [
    {
     "data": {
      "text/plain": [
       "[0, -4, 1, -1, 3]"
      ]
     },
     "execution_count": 31,
     "metadata": {},
     "output_type": "execute_result"
    }
   ],
   "source": [
    "a, b, c, d, e = range(1,6) # One-based\n",
    "W = {\n",
    "    a: {c:1, d:7},\n",
    "    b: {a:4},\n",
    "    c: {b:-5, e:2},\n",
    "    d: {c:6},\n",
    "    e: {a:3, b:8, d:-4}\n",
    "}\n",
    "for u in W:\n",
    "    for v in W:\n",
    "        if u == v: W[u][v] = 0\n",
    "        if v not in W[u]: W[u][v] = inf\n",
    "D = floyd_warshall(W)\n",
    "[D[a][v] for v in [a, b, c, d, e]]\n",
    "# [0, -4, 1, -1, 3]"
   ]
  },
  {
   "cell_type": "code",
   "execution_count": 32,
   "metadata": {
    "ExecuteTime": {
     "end_time": "2020-11-02T05:56:02.980383Z",
     "start_time": "2020-11-02T05:56:02.976628Z"
    }
   },
   "outputs": [
    {
     "data": {
      "text/plain": [
       "[4, 0, 5, 3, 7]"
      ]
     },
     "execution_count": 32,
     "metadata": {},
     "output_type": "execute_result"
    }
   ],
   "source": [
    "[D[b][v] for v in [a, b, c, d, e]]\n",
    "# [4, 0, 5, 3, 7]"
   ]
  },
  {
   "cell_type": "code",
   "execution_count": 33,
   "metadata": {
    "ExecuteTime": {
     "end_time": "2020-11-02T05:56:02.986024Z",
     "start_time": "2020-11-02T05:56:02.982365Z"
    }
   },
   "outputs": [
    {
     "data": {
      "text/plain": [
       "[-1, -5, 0, -2, 2]"
      ]
     },
     "execution_count": 33,
     "metadata": {},
     "output_type": "execute_result"
    }
   ],
   "source": [
    "[D[c][v] for v in [a, b, c, d, e]]\n",
    "# [-1, -5, 0, -2, 2]"
   ]
  },
  {
   "cell_type": "code",
   "execution_count": 34,
   "metadata": {
    "ExecuteTime": {
     "end_time": "2020-11-02T05:56:02.991098Z",
     "start_time": "2020-11-02T05:56:02.987550Z"
    }
   },
   "outputs": [
    {
     "data": {
      "text/plain": [
       "[5, 1, 6, 0, 8]"
      ]
     },
     "execution_count": 34,
     "metadata": {},
     "output_type": "execute_result"
    }
   ],
   "source": [
    "[D[d][v] for v in [a, b, c, d, e]]\n",
    "# [5, 1, 6, 0, 8]"
   ]
  },
  {
   "cell_type": "code",
   "execution_count": 35,
   "metadata": {
    "ExecuteTime": {
     "end_time": "2020-11-02T05:56:02.996640Z",
     "start_time": "2020-11-02T05:56:02.992628Z"
    }
   },
   "outputs": [
    {
     "data": {
      "text/plain": [
       "[1, -3, 2, -4, 0]"
      ]
     },
     "execution_count": 35,
     "metadata": {},
     "output_type": "execute_result"
    }
   ],
   "source": [
    "[D[e][v] for v in [a, b, c, d, e]]\n",
    "# [1, -3, 2, -4, 0]"
   ]
  },
  {
   "cell_type": "markdown",
   "metadata": {},
   "source": [
    "## リスト9-7 Floyd-Warshallのアルゴリズム\n",
    "\n",
    "最終的なFloyd-Warshallのアルゴリズムを以下に示します。"
   ]
  },
  {
   "cell_type": "code",
   "execution_count": 36,
   "metadata": {
    "ExecuteTime": {
     "end_time": "2020-11-02T05:56:03.343921Z",
     "start_time": "2020-11-02T05:56:03.339113Z"
    }
   },
   "outputs": [],
   "source": [
    "def floyd_warshall(G):\n",
    "    D, P = deepcopy(G), {}\n",
    "    for u in G:\n",
    "        for v in G:\n",
    "            if u == v or G[u][v] == inf:\n",
    "                P[u, v] = None\n",
    "            else:\n",
    "                P[u, v] = u\n",
    "    for k in G:\n",
    "        for u in G:\n",
    "            for v in G:\n",
    "                shortcut = D[u][k] + D[k][v]\n",
    "                if shortcut < D[u][v]:\n",
    "                    D[u][v] = shortcut\n",
    "                    P[u, v] = P[k, v]\n",
    "    return D, P"
   ]
  },
  {
   "cell_type": "code",
   "execution_count": 37,
   "metadata": {
    "ExecuteTime": {
     "end_time": "2020-11-02T05:56:03.352325Z",
     "start_time": "2020-11-02T05:56:03.345969Z"
    }
   },
   "outputs": [
    {
     "data": {
      "text/plain": [
       "[0, -4, 1, -1, 3]"
      ]
     },
     "execution_count": 37,
     "metadata": {},
     "output_type": "execute_result"
    }
   ],
   "source": [
    "a, b, c, d, e = range(5)\n",
    "W = {\n",
    "    a: {c: 1, d: 7},\n",
    "    b: {a: 4},\n",
    "    c: {b: -5, e: 2},\n",
    "    d: {c: 6},\n",
    "    e: {a: 3, b: 8, d: -4}\n",
    "}\n",
    "for u in W:\n",
    "    for v in W:\n",
    "        if u == v:\n",
    "            W[u][v] = 0\n",
    "        if v not in W[u]:\n",
    "            W[u][v] = inf\n",
    "D, P = floyd_warshall(W)\n",
    "[D[a][v] for v in [a, b, c, d, e]]\n",
    "# [0, -4, 1, -1, 3]"
   ]
  },
  {
   "cell_type": "code",
   "execution_count": 38,
   "metadata": {
    "ExecuteTime": {
     "end_time": "2020-11-02T05:56:03.357918Z",
     "start_time": "2020-11-02T05:56:03.354508Z"
    }
   },
   "outputs": [
    {
     "data": {
      "text/plain": [
       "[4, 0, 5, 3, 7]"
      ]
     },
     "execution_count": 38,
     "metadata": {},
     "output_type": "execute_result"
    }
   ],
   "source": [
    "[D[b][v] for v in [a, b, c, d, e]]\n",
    "# [4, 0, 5, 3, 7]"
   ]
  },
  {
   "cell_type": "code",
   "execution_count": 39,
   "metadata": {
    "ExecuteTime": {
     "end_time": "2020-11-02T05:56:03.363531Z",
     "start_time": "2020-11-02T05:56:03.360001Z"
    }
   },
   "outputs": [
    {
     "data": {
      "text/plain": [
       "[-1, -5, 0, -2, 2]"
      ]
     },
     "execution_count": 39,
     "metadata": {},
     "output_type": "execute_result"
    }
   ],
   "source": [
    "[D[c][v] for v in [a, b, c, d, e]]\n",
    "# [-1, -5, 0, -2, 2]"
   ]
  },
  {
   "cell_type": "code",
   "execution_count": 40,
   "metadata": {
    "ExecuteTime": {
     "end_time": "2020-11-02T05:56:03.368404Z",
     "start_time": "2020-11-02T05:56:03.365122Z"
    }
   },
   "outputs": [
    {
     "data": {
      "text/plain": [
       "[5, 1, 6, 0, 8]"
      ]
     },
     "execution_count": 40,
     "metadata": {},
     "output_type": "execute_result"
    }
   ],
   "source": [
    "[D[d][v] for v in [a, b, c, d, e]]\n",
    "# [5, 1, 6, 0, 8]"
   ]
  },
  {
   "cell_type": "code",
   "execution_count": 41,
   "metadata": {
    "ExecuteTime": {
     "end_time": "2020-11-02T05:56:03.374029Z",
     "start_time": "2020-11-02T05:56:03.369959Z"
    }
   },
   "outputs": [
    {
     "data": {
      "text/plain": [
       "[1, -3, 2, -4, 0]"
      ]
     },
     "execution_count": 41,
     "metadata": {},
     "output_type": "execute_result"
    }
   ],
   "source": [
    "[D[e][v] for v in [a, b, c, d, e]]\n",
    "# [1, -3, 2, -4, 0]"
   ]
  },
  {
   "cell_type": "code",
   "execution_count": 42,
   "metadata": {
    "ExecuteTime": {
     "end_time": "2020-11-02T05:56:03.379165Z",
     "start_time": "2020-11-02T05:56:03.375592Z"
    }
   },
   "outputs": [
    {
     "data": {
      "text/plain": [
       "[None, 2, 0, 4, 2]"
      ]
     },
     "execution_count": 42,
     "metadata": {},
     "output_type": "execute_result"
    }
   ],
   "source": [
    "[P[a, v] for v in [a, b, c, d, e]]\n",
    "# [None, 2, 0, 4, 2]"
   ]
  },
  {
   "cell_type": "code",
   "execution_count": 43,
   "metadata": {
    "ExecuteTime": {
     "end_time": "2020-11-02T05:56:03.384218Z",
     "start_time": "2020-11-02T05:56:03.380694Z"
    }
   },
   "outputs": [
    {
     "data": {
      "text/plain": [
       "[1, None, 0, 4, 2]"
      ]
     },
     "execution_count": 43,
     "metadata": {},
     "output_type": "execute_result"
    }
   ],
   "source": [
    "[P[b, v] for v in [a, b, c, d, e]]\n",
    "# [1, None, 0, 4, 2]"
   ]
  },
  {
   "cell_type": "code",
   "execution_count": 44,
   "metadata": {
    "ExecuteTime": {
     "end_time": "2020-11-02T05:56:03.389984Z",
     "start_time": "2020-11-02T05:56:03.386572Z"
    }
   },
   "outputs": [
    {
     "data": {
      "text/plain": [
       "[1, 2, None, 4, 2]"
      ]
     },
     "execution_count": 44,
     "metadata": {},
     "output_type": "execute_result"
    }
   ],
   "source": [
    "[P[c, v] for v in [a, b, c, d, e]]\n",
    "# [1, 2, None, 4, 2]"
   ]
  },
  {
   "cell_type": "code",
   "execution_count": 45,
   "metadata": {
    "ExecuteTime": {
     "end_time": "2020-11-02T05:56:03.395012Z",
     "start_time": "2020-11-02T05:56:03.391637Z"
    }
   },
   "outputs": [
    {
     "data": {
      "text/plain": [
       "[1, 2, 3, None, 2]"
      ]
     },
     "execution_count": 45,
     "metadata": {},
     "output_type": "execute_result"
    }
   ],
   "source": [
    "[P[d, v] for v in [a, b, c, d, e]]\n",
    "# [1, 2, 3, None, 2]"
   ]
  },
  {
   "cell_type": "code",
   "execution_count": 46,
   "metadata": {
    "ExecuteTime": {
     "end_time": "2020-11-02T05:56:03.400425Z",
     "start_time": "2020-11-02T05:56:03.396664Z"
    }
   },
   "outputs": [
    {
     "data": {
      "text/plain": [
       "[1, 2, 3, 4, None]"
      ]
     },
     "execution_count": 46,
     "metadata": {},
     "output_type": "execute_result"
    }
   ],
   "source": [
    "[P[e, v] for v in [a, b, c, d, e]]\n",
    "# [1, 2, 3, 4, None]"
   ]
  },
  {
   "cell_type": "markdown",
   "metadata": {},
   "source": [
    "# 9-6 中間で会う"
   ]
  },
  {
   "cell_type": "markdown",
   "metadata": {},
   "source": [
    "## リスト9-8 ジェネレーターとして実装されたDijkstraのアルゴリズム\n",
    "\n",
    "Dijkstraのアルゴリズムの双方向バージョンの実装をするには、まず元のコードを少し変え\n",
    "てジェネレータにします。"
   ]
  },
  {
   "cell_type": "code",
   "execution_count": 47,
   "metadata": {
    "ExecuteTime": {
     "end_time": "2020-11-02T05:56:04.159545Z",
     "start_time": "2020-11-02T05:56:04.155124Z"
    }
   },
   "outputs": [],
   "source": [
    "from heapq import heappush, heappop\n",
    "\n",
    "\n",
    "def idijkstra(G, s):\n",
    "    Q, S = [(0, s)], set()                      # 距離と近傍のキュー、訪問済みの集合\n",
    "    while Q:                                    # 未処理のノードがある場合\n",
    "        d, u = heappop(Q)                       # 最小の推定値を持つノード\n",
    "        if u in S:\n",
    "            continue                            # 訪問済みの場合、スキップ\n",
    "        S.add(u)                                # 訪問済みに追加\n",
    "        yield u, d                              # 部分解とノードを生成\n",
    "        for v in G[u]:                          # すべての近傍を走査\n",
    "            heappush(Q, (d+G[u][v], v))         # キューに推定値を優先度として追加"
   ]
  },
  {
   "cell_type": "code",
   "execution_count": 48,
   "metadata": {
    "ExecuteTime": {
     "end_time": "2020-11-02T05:56:04.168088Z",
     "start_time": "2020-11-02T05:56:04.161878Z"
    }
   },
   "outputs": [
    {
     "data": {
      "text/plain": [
       "[0, 8, 9, 5, 7]"
      ]
     },
     "execution_count": 48,
     "metadata": {},
     "output_type": "execute_result"
    }
   ],
   "source": [
    "s, t, x, y, z = range(5)\n",
    "W = {\n",
    "    s: {t: 10, y: 5},\n",
    "    t: {x: 1, y: 2},\n",
    "    x: {z: 4},\n",
    "    y: {t: 3, x: 9, z: 2},\n",
    "    z: {x: 6, s: 7}\n",
    "}\n",
    "D = dict(idijkstra(W, s))\n",
    "[D[v] for v in [s, t, x, y, z]]\n",
    "# [0, 8, 9, 5, 7]"
   ]
  },
  {
   "cell_type": "markdown",
   "metadata": {},
   "source": [
    "## リスト9-9 Dijkstraのアルゴリズムの双方向バージョン\n",
    "\n",
    "以下、Dijkstraのアルゴリズムの双方向バージョンの完成済みのコードをご覧ください。`itertools`の`cycle`を使って`idijkstr`のイテレータを交互に取り出し、それぞれ始点から終点まで計算を繰り返します。この場合、これは順方向と逆方向の間でサイクルがあることを意味しています。"
   ]
  },
  {
   "cell_type": "code",
   "execution_count": 49,
   "metadata": {
    "ExecuteTime": {
     "end_time": "2020-11-02T05:56:04.623515Z",
     "start_time": "2020-11-02T05:56:04.617749Z"
    }
   },
   "outputs": [],
   "source": [
    "from itertools import cycle\n",
    "\n",
    "\n",
    "def bidir_dijkstra(G, s, t):\n",
    "    Ds, Dt = {}, {}                              # それぞれs, tからのD\n",
    "    forw, back = idijkstra(G, s), idijkstra(G, t)# 「2つのDijkstraのアルゴリズム」\n",
    "    dirs = (Ds, Dt, forw), (Dt, Ds, back)        # 2つの方向に対して変数を用意\n",
    "    try:                                         # 順・逆方向の1つが停止するまで\n",
    "        for D, other, step in cycle(dirs):       # 方向をもう一方に切り替える\n",
    "            v, d = next(step)                    # 次のノードと距離\n",
    "            D[v] = d                             # 距離を保存する\n",
    "            if v in other:\n",
    "                break                            # すでに他の経路によって訪問済みの場合\n",
    "    except StopIteration:\n",
    "        return inf                               # 両者が出会う前に使い尽くした場合\n",
    "    m = inf                                      # 出会った場合、経路を見つける\n",
    "    for u in Ds:                                 # 順方向で訪問済みの各ノードに対して\n",
    "        for v in G[u]:                           # ... それぞれの近傍に対して\n",
    "            if not v in Dt:\n",
    "                continue                         # 逆方向でも訪問済みか？\n",
    "            m = min(m, Ds[u] + G[u][v] + Dt[v])  # この経路はより短い経路か？\n",
    "    return m                                     # ベストな経路の距離を返す"
   ]
  },
  {
   "cell_type": "code",
   "execution_count": 50,
   "metadata": {
    "ExecuteTime": {
     "end_time": "2020-11-02T05:56:04.629663Z",
     "start_time": "2020-11-02T05:56:04.625739Z"
    }
   },
   "outputs": [
    {
     "data": {
      "text/plain": [
       "inf"
      ]
     },
     "execution_count": 50,
     "metadata": {},
     "output_type": "execute_result"
    }
   ],
   "source": [
    "G = {0: {0: 0}, 1: {1: 0}}\n",
    "bidir_dijkstra(G, 0, 1)\n",
    "# inf"
   ]
  },
  {
   "cell_type": "code",
   "execution_count": 51,
   "metadata": {
    "ExecuteTime": {
     "end_time": "2020-11-02T05:56:04.635240Z",
     "start_time": "2020-11-02T05:56:04.631287Z"
    }
   },
   "outputs": [
    {
     "data": {
      "text/plain": [
       "0"
      ]
     },
     "execution_count": 51,
     "metadata": {},
     "output_type": "execute_result"
    }
   ],
   "source": [
    "bidir_dijkstra(G, 0, 0)\n",
    "# 0"
   ]
  },
  {
   "cell_type": "code",
   "execution_count": 52,
   "metadata": {
    "ExecuteTime": {
     "end_time": "2020-11-02T05:56:04.641439Z",
     "start_time": "2020-11-02T05:56:04.637607Z"
    }
   },
   "outputs": [
    {
     "data": {
      "text/plain": [
       "7"
      ]
     },
     "execution_count": 52,
     "metadata": {},
     "output_type": "execute_result"
    }
   ],
   "source": [
    "G = {0: {1: 7}, 1: {0: 7}}\n",
    "bidir_dijkstra(G, 0, 1)\n",
    "# 7"
   ]
  },
  {
   "cell_type": "code",
   "execution_count": 53,
   "metadata": {
    "ExecuteTime": {
     "end_time": "2020-11-02T05:56:04.647306Z",
     "start_time": "2020-11-02T05:56:04.643083Z"
    }
   },
   "outputs": [
    {
     "data": {
      "text/plain": [
       "7"
      ]
     },
     "execution_count": 53,
     "metadata": {},
     "output_type": "execute_result"
    }
   ],
   "source": [
    "bidir_dijkstra(G, 0, 1)\n",
    "# 7"
   ]
  },
  {
   "cell_type": "markdown",
   "metadata": {
    "ExecuteTime": {
     "end_time": "2020-11-02T05:55:28.447115Z",
     "start_time": "2020-11-02T05:55:28.444074Z"
    }
   },
   "source": [
    "以下は、各ノードがLAXなどで表される空港のネットワークに対してDijkstraのアルゴリズムの双方向バージョンを実行してみましょう。"
   ]
  },
  {
   "cell_type": "code",
   "execution_count": 54,
   "metadata": {
    "ExecuteTime": {
     "end_time": "2020-11-02T05:56:05.021040Z",
     "start_time": "2020-11-02T05:56:05.008402Z"
    }
   },
   "outputs": [
    {
     "data": {
      "text/plain": [
       "{'hnl': {'lax': 2555, 'hnl': 0},\n",
       " 'lax': {'sfo': 337, 'ord': 1743, 'dfw': 1233, 'hnl': 2555, 'lax': 0},\n",
       " 'sfo': {'ord': 1843, 'lax': 337, 'sfo': 0},\n",
       " 'dfw': {'ord': 802, 'lga': 1387, 'mia': 1120, 'lax': 1233, 'dfw': 0},\n",
       " 'ord': {'pvd': 849, 'lax': 1743, 'sfo': 1843, 'dfw': 802, 'ord': 0},\n",
       " 'lga': {'pvd': 142, 'dfw': 1387, 'mia': 1099, 'lga': 0},\n",
       " 'mia': {'lga': 1099, 'pvd': 1205, 'dfw': 1120, 'mia': 0},\n",
       " 'pvd': {'ord': 849, 'lga': 142, 'mia': 1205, 'pvd': 0}}"
      ]
     },
     "execution_count": 54,
     "metadata": {},
     "output_type": "execute_result"
    }
   ],
   "source": [
    "W = {\n",
    "    'hnl': {'lax': 2555},\n",
    "    'lax': {'sfo': 337, 'ord': 1743, 'dfw': 1233},\n",
    "    'sfo': {'ord': 1843},\n",
    "    'dfw': {'ord': 802, 'lga': 1387, 'mia': 1120},\n",
    "    'ord': {'pvd': 849},\n",
    "    'lga': {'pvd': 142},\n",
    "    'mia': {'lga': 1099, 'pvd': 1205}\n",
    "}\n",
    "nodes = list(W)\n",
    "for u in nodes:\n",
    "    for v in W[u]:\n",
    "        if not v in W:\n",
    "            W[v] = {}\n",
    "        W[v][u] = W[u][v]\n",
    "\n",
    "for u in W:\n",
    "    W[u][u] = 0\n",
    "\n",
    "for u in W:\n",
    "    for v in W[u]:\n",
    "        assert W[u][v] == W[v][u]\n",
    "W"
   ]
  },
  {
   "cell_type": "code",
   "execution_count": 55,
   "metadata": {
    "ExecuteTime": {
     "end_time": "2020-11-02T05:56:05.028272Z",
     "start_time": "2020-11-02T05:56:05.023879Z"
    }
   },
   "outputs": [
    {
     "data": {
      "text/plain": [
       "('ord', 'lax', 'hnl')"
      ]
     },
     "execution_count": 55,
     "metadata": {},
     "output_type": "execute_result"
    }
   ],
   "source": [
    "D, P = dijkstra(W, 'hnl')\n",
    "P['pvd'], P['ord'], P['lax']\n",
    "# ('ord', 'lax', 'hnl')"
   ]
  },
  {
   "cell_type": "code",
   "execution_count": 56,
   "metadata": {
    "ExecuteTime": {
     "end_time": "2020-11-02T05:56:05.034138Z",
     "start_time": "2020-11-02T05:56:05.030140Z"
    }
   },
   "outputs": [
    {
     "data": {
      "text/plain": [
       "True"
      ]
     },
     "execution_count": 56,
     "metadata": {},
     "output_type": "execute_result"
    }
   ],
   "source": [
    "D['pvd'] == W['hnl']['lax'] + W['lax']['ord'] + W['ord']['pvd']\n",
    "# True"
   ]
  },
  {
   "cell_type": "code",
   "execution_count": 57,
   "metadata": {
    "ExecuteTime": {
     "end_time": "2020-11-02T05:56:05.039494Z",
     "start_time": "2020-11-02T05:56:05.036363Z"
    }
   },
   "outputs": [
    {
     "data": {
      "text/plain": [
       "5147"
      ]
     },
     "execution_count": 57,
     "metadata": {},
     "output_type": "execute_result"
    }
   ],
   "source": [
    "D['pvd']\n",
    "# 5147"
   ]
  },
  {
   "cell_type": "code",
   "execution_count": 58,
   "metadata": {
    "ExecuteTime": {
     "end_time": "2020-11-02T05:56:05.044321Z",
     "start_time": "2020-11-02T05:56:05.041329Z"
    }
   },
   "outputs": [
    {
     "data": {
      "text/plain": [
       "5147"
      ]
     },
     "execution_count": 58,
     "metadata": {},
     "output_type": "execute_result"
    }
   ],
   "source": [
    "bidir_dijkstra(W, 'hnl', 'pvd')\n",
    "# 5147"
   ]
  },
  {
   "cell_type": "code",
   "execution_count": 59,
   "metadata": {
    "ExecuteTime": {
     "end_time": "2020-11-02T05:56:05.049147Z",
     "start_time": "2020-11-02T05:56:05.045998Z"
    }
   },
   "outputs": [
    {
     "data": {
      "text/plain": [
       "2692"
      ]
     },
     "execution_count": 59,
     "metadata": {},
     "output_type": "execute_result"
    }
   ],
   "source": [
    "bidir_dijkstra(W, 'pvd', 'sfo')\n",
    "# 2692"
   ]
  },
  {
   "cell_type": "markdown",
   "metadata": {},
   "source": [
    "# 9-7 どこに向かっているのかを知る"
   ]
  },
  {
   "cell_type": "markdown",
   "metadata": {},
   "source": [
    "## リスト9-10 A*アルゴリズム"
   ]
  },
  {
   "cell_type": "code",
   "execution_count": 60,
   "metadata": {
    "ExecuteTime": {
     "end_time": "2020-11-02T05:56:05.786937Z",
     "start_time": "2020-11-02T05:56:05.782216Z"
    }
   },
   "outputs": [],
   "source": [
    "from heapq import heappush, heappop\n",
    "inf = float('inf')\n",
    "\n",
    "\n",
    "def a_star(G, s, t, h):\n",
    "    P, Q = {}, [(h(s), None, s)]                # 先行ノード、ヒューリスティックとキュー\n",
    "    while Q:                                    # まだ未処理のノードがある場合\n",
    "        d, p, u = heappop(Q)                    # 最も低いヒューリスティックのノード\n",
    "        if u in P:\n",
    "            continue                            # すでに訪問済みの場合、スキップ\n",
    "        P[u] = p                                # 先行経路を設定\n",
    "        if u == t:\n",
    "            return d - h(t), P                  # 到着。距離と先行ノードを返す\n",
    "        for v in G[u]:                          # すべての近傍を走査\n",
    "            w = G[u][v] - h(u) + h(v)           # ヒューリスティックに基づいて重みを修正\n",
    "            heappush(Q, (d + w, u, v))          # キューにヒューリスティックを優先度として追加\n",
    "    return inf, None                            # tにたどり着かなかった場合"
   ]
  },
  {
   "cell_type": "code",
   "execution_count": 61,
   "metadata": {
    "ExecuteTime": {
     "end_time": "2020-11-02T05:56:05.791269Z",
     "start_time": "2020-11-02T05:56:05.788788Z"
    }
   },
   "outputs": [],
   "source": [
    "def a_star_wrap(G, s, t, h):\n",
    "    return a_star(G, s, t, h)[0]"
   ]
  },
  {
   "cell_type": "code",
   "execution_count": 62,
   "metadata": {
    "ExecuteTime": {
     "end_time": "2020-11-02T05:56:05.798835Z",
     "start_time": "2020-11-02T05:56:05.793176Z"
    }
   },
   "outputs": [],
   "source": [
    "for u in W:\n",
    "    Dd, _ = dijkstra(W, u)\n",
    "    Db, _ = bellman_ford(W, u)\n",
    "    for v in W:\n",
    "        d = bidir_dijkstra(W, u, v)\n",
    "        assert d == Dd[v], (d, Dd[v])\n",
    "        assert d == Db[v], (d, Db[v])\n",
    "        a = a_star_wrap(W, u, v, lambda v: 0)\n",
    "        assert a == d"
   ]
  },
  {
   "cell_type": "markdown",
   "metadata": {},
   "source": [
    "## リスト9-11 言葉の梯子における暗黙的なグラフ\n",
    "\n",
    "ことばの梯子パズルは、鉛（lead）のような単語からスタートし、金（gold）など別の単語で終えるようにするゲームです。各ステップで、実際の単語を使って少しずつ梯子をつないでいきます。ある単語から別の単語に移るには、1文字だけ置き換えることができます（他のバージョンとして、複数文字を追加・削除させたり、文字列を入れ替えたりできる場合もあります）。例えば、loadとgoadを経由すればleadからgoldにたどり着くことができます。ある辞書のすべての単語をグラフ上のノードと捉えれば、すべての単語は1文字だけ異なるすべての単語間にエッジを追加できます。このようなグラフは明示的に構築はしたくありませんが、以下に示すようにそれを構築しているフリはできます。"
   ]
  },
  {
   "cell_type": "code",
   "execution_count": 63,
   "metadata": {
    "ExecuteTime": {
     "end_time": "2020-11-02T05:56:06.198010Z",
     "start_time": "2020-11-02T05:56:06.187318Z"
    }
   },
   "outputs": [],
   "source": [
    "from string import ascii_lowercase as chars\n",
    "\n",
    "\n",
    "class WordSpace:                                    # 暗黙的なグラフと補助関数の作成\n",
    "    def variants(self, wd, words):                  # すべての単語の変化系を作成\n",
    "        wasl = list(wd)                             # 単語をリスト化\n",
    "        for i, c in enumerate(wasl):                # 各位置、文字列ごと\n",
    "            for oc in chars:                        # すべての文字列に対して\n",
    "                if c == oc:\n",
    "                    continue                        # 同じ文字列では置換しない\n",
    "                wasl[i] = oc                        # 文字列を置換\n",
    "                ow = ''.join(wasl)                  # 単語のstringを作成\n",
    "                if ow in words:                     # 有効な単語な場合\n",
    "                    yield ow                        # その単語を生成する\n",
    "            wasl[i] = c                             # 文字列をリセット\n",
    "\n",
    "    def __init__(self, words):                      # 単語の集合を元にグラフを作成\n",
    "        self.words = words\n",
    "        self.M = dict()                             # アクセス可能な単語集\n",
    "\n",
    "    def __getitem__(self, wd):                      # 隣接行列マップのインターフェイス\n",
    "        if wd not in self.M:                        # 近傍をキャッシュ化\n",
    "            self.M[wd] = dict.fromkeys(self.variants(wd, self.words), 1)\n",
    "        return self.M[wd]\n",
    "\n",
    "    def heuristic(self, u, v):                      # デフォルトのヒューリスティック\n",
    "        return sum(a != b for a, b in zip(u, v))    # 異なる文字列の数を算出\n",
    "\n",
    "    def ladder(self, s, t, h=None):                 # a_starに対する補助関数\n",
    "        if h is None:                               # 他のヒューリスティックも使用可能にする\n",
    "            def h(v):\n",
    "                return self.heuristic(v, t)\n",
    "        _, P = a_star(self, s, t, h)                # 先行ノードのマップを取得\n",
    "        if P is None:\n",
    "            return [s, None, t]                     # 経路がない場合\n",
    "        u, p = t, []\n",
    "        while u is not None:                        # tから逆順に移動\n",
    "            p.append(u)                             # すべての先行ノードを追加\n",
    "            u = P[u]                                # 1歩先に進む\n",
    "        p.reverse()                                 # 経路を逆順にする\n",
    "        return p"
   ]
  },
  {
   "cell_type": "code",
   "execution_count": 64,
   "metadata": {
    "ExecuteTime": {
     "end_time": "2020-11-02T05:56:06.308285Z",
     "start_time": "2020-11-02T05:56:06.200136Z"
    }
   },
   "outputs": [
    {
     "data": {
      "text/plain": [
       "['lead', 'load', 'goad', 'gold']"
      ]
     },
     "execution_count": 64,
     "metadata": {},
     "output_type": "execute_result"
    }
   ],
   "source": [
    "words = set(line.strip().lower() for line in open(\"/usr/share/dict/words\"))\n",
    "G = WordSpace(words)\n",
    "G.ladder('lead', 'gold')"
   ]
  },
  {
   "cell_type": "code",
   "execution_count": 65,
   "metadata": {
    "ExecuteTime": {
     "end_time": "2020-11-02T05:56:06.339740Z",
     "start_time": "2020-11-02T05:56:06.310168Z"
    }
   },
   "outputs": [
    {
     "data": {
      "text/plain": [
       "['lead', 'load', 'goad', 'gold']"
      ]
     },
     "execution_count": 65,
     "metadata": {},
     "output_type": "execute_result"
    }
   ],
   "source": [
    "G.ladder('lead', 'gold', h=lambda v: 0)"
   ]
  }
 ],
 "metadata": {
  "hide_input": false,
  "kernelspec": {
   "display_name": "Python (py36)",
   "language": "python",
   "name": "py36"
  },
  "language_info": {
   "codemirror_mode": {
    "name": "ipython",
    "version": 3
   },
   "file_extension": ".py",
   "mimetype": "text/x-python",
   "name": "python",
   "nbconvert_exporter": "python",
   "pygments_lexer": "ipython3",
   "version": "3.6.7"
  },
  "toc": {
   "base_numbering": 1,
   "nav_menu": {},
   "number_sections": false,
   "sideBar": true,
   "skip_h1_title": false,
   "title_cell": "Table of Contents",
   "title_sidebar": "Contents",
   "toc_cell": true,
   "toc_position": {
    "height": "calc(100% - 180px)",
    "left": "10px",
    "top": "150px",
    "width": "179.188px"
   },
   "toc_section_display": true,
   "toc_window_display": true
  },
  "varInspector": {
   "cols": {
    "lenName": 16,
    "lenType": 16,
    "lenVar": 40
   },
   "kernels_config": {
    "python": {
     "delete_cmd_postfix": "",
     "delete_cmd_prefix": "del ",
     "library": "var_list.py",
     "varRefreshCmd": "print(var_dic_list())"
    },
    "r": {
     "delete_cmd_postfix": ") ",
     "delete_cmd_prefix": "rm(",
     "library": "var_list.r",
     "varRefreshCmd": "cat(var_dic_list()) "
    }
   },
   "types_to_exclude": [
    "module",
    "function",
    "builtin_function_or_method",
    "instance",
    "_Feature"
   ],
   "window_display": false
  }
 },
 "nbformat": 4,
 "nbformat_minor": 2
}

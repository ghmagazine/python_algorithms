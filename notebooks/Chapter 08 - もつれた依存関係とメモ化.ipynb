{
 "cells": [
  {
   "cell_type": "markdown",
   "metadata": {
    "toc": true
   },
   "source": [
    "<h1>Table of Contents<span class=\"tocSkip\"></span></h1>\n",
    "<div class=\"toc\"><ul class=\"toc-item\"><li><ul class=\"toc-item\"><li><span><a href=\"#リスト8-1-最長増加部分列問題に対する単純な解\" data-toc-modified-id=\"リスト8-1-最長増加部分列問題に対する単純な解-0.1\">リスト8-1 最長増加部分列問題に対する単純な解</a></span></li></ul></li><li><span><a href=\"#8-1-DRY(Don't-Repeat-Yourself)の原則\" data-toc-modified-id=\"8-1-DRY(Don't-Repeat-Yourself)の原則-1\">8-1 DRY(Don't Repeat Yourself)の原則</a></span><ul class=\"toc-item\"><li><span><a href=\"#リスト8-2-メモ化デコレータ\" data-toc-modified-id=\"リスト8-2-メモ化デコレータ-1.1\">リスト8-2 メモ化デコレータ</a></span></li><li><span><a href=\"#8-2-有向非巡回グラフにおける最短経路\" data-toc-modified-id=\"8-2-有向非巡回グラフにおける最短経路-1.2\">8-2 有向非巡回グラフにおける最短経路</a></span></li><li><span><a href=\"#リスト8-3-メモ化を使った再帰的DAG最短経路\" data-toc-modified-id=\"リスト8-3-メモ化を使った再帰的DAG最短経路-1.3\">リスト8-3 メモ化を使った再帰的DAG最短経路</a></span></li><li><span><a href=\"#リスト8-4-DAG最短経路\" data-toc-modified-id=\"リスト8-4-DAG最短経路-1.4\">リスト8-4 DAG最短経路</a></span></li></ul></li><li><span><a href=\"#8−3-最長増加部分列-(LIS)\" data-toc-modified-id=\"8−3-最長増加部分列-(LIS)-2\">8−3 最長増加部分列 (LIS)</a></span><ul class=\"toc-item\"><li><span><a href=\"#リスト8-5-最長増加部分列問題-(LIS)-に対するメモ化と再帰を使った解法\" data-toc-modified-id=\"リスト8-5-最長増加部分列問題-(LIS)-に対するメモ化と再帰を使った解法-2.1\">リスト8-5 最長増加部分列問題 (LIS) に対するメモ化と再帰を使った解法</a></span></li><li><span><a href=\"#リスト8-6-最長増加部分列問題-(LIS)-に対する反復を使った基本的な解法\" data-toc-modified-id=\"リスト8-6-最長増加部分列問題-(LIS)-に対する反復を使った基本的な解法-2.2\">リスト8-6 最長増加部分列問題 (LIS) に対する反復を使った基本的な解法</a></span></li><li><span><a href=\"#リスト8-7-最長増加部分列問題-(LIS)-に対する反復を使った解法\" data-toc-modified-id=\"リスト8-7-最長増加部分列問題-(LIS)-に対する反復を使った解法-2.3\">リスト8-7 最長増加部分列問題 (LIS) に対する反復を使った解法</a></span></li></ul></li><li><span><a href=\"#8-4-列の比較\" data-toc-modified-id=\"8-4-列の比較-3\">8-4 列の比較</a></span><ul class=\"toc-item\"><li><span><a href=\"#リスト8-8-最長共通部分列問題-(LCS)-に対するメモ化と再帰を使った解法\" data-toc-modified-id=\"リスト8-8-最長共通部分列問題-(LCS)-に対するメモ化と再帰を使った解法-3.1\">リスト8-8 最長共通部分列問題 (LCS) に対するメモ化と再帰を使った解法</a></span></li><li><span><a href=\"#リスト8-9-最長共通部分列問題-(LCS)-に対する反復を使った解法\" data-toc-modified-id=\"リスト8-9-最長共通部分列問題-(LCS)-に対する反復を使った解法-3.2\">リスト8-9 最長共通部分列問題 (LCS) に対する反復を使った解法</a></span></li></ul></li><li><span><a href=\"#8-5-ナップサック問題の反撃\" data-toc-modified-id=\"8-5-ナップサック問題の反撃-4\">8-5 ナップサック問題の反撃</a></span><ul class=\"toc-item\"><li><span><a href=\"#リスト8-10-制限なし整数ナップサック問題に対するメモ化と再帰を使った解法\" data-toc-modified-id=\"リスト8-10-制限なし整数ナップサック問題に対するメモ化と再帰を使った解法-4.1\">リスト8-10 制限なし整数ナップサック問題に対するメモ化と再帰を使った解法</a></span></li><li><span><a href=\"#リスト8-11-制限なし整数ナップサック問題に対する反復を使った解法\" data-toc-modified-id=\"リスト8-11-制限なし整数ナップサック問題に対する反復を使った解法-4.2\">リスト8-11 制限なし整数ナップサック問題に対する反復を使った解法</a></span></li><li><span><a href=\"#リスト8-12-0-1​ナップサック問題に対するメモ化と再帰を使った解法\" data-toc-modified-id=\"リスト8-12-0-1​ナップサック問題に対するメモ化と再帰を使った解法-4.3\">リスト8-12 0-1​ナップサック問題に対するメモ化と再帰を使った解法</a></span></li><li><span><a href=\"#リスト8-13-0-1ナップサック問題に対する反復を使った解法\" data-toc-modified-id=\"リスト8-13-0-1ナップサック問題に対する反復を使った解法-4.4\">リスト8-13 0-1ナップサック問題に対する反復を使った解法</a></span></li></ul></li><li><span><a href=\"#8-6-二値列分割\" data-toc-modified-id=\"8-6-二値列分割-5\">8-6 二値列分割</a></span><ul class=\"toc-item\"><li><span><a href=\"#リスト8-14-最適探索コストの期待値を求めるメモ化と再帰を使った解法\" data-toc-modified-id=\"リスト8-14-最適探索コストの期待値を求めるメモ化と再帰を使った解法-5.1\">リスト8-14 最適探索コストの期待値を求めるメモ化と再帰を使った解法</a></span></li><li><span><a href=\"#リスト8-15-最適探索コストの期待値を求める反復を使った解法\" data-toc-modified-id=\"リスト8-15-最適探索コストの期待値を求める反復を使った解法-5.2\">リスト8-15 最適探索コストの期待値を求める反復を使った解法</a></span></li></ul></li></ul></div>"
   ]
  },
  {
   "cell_type": "markdown",
   "metadata": {},
   "source": [
    "## リスト8-1 最長増加部分列問題に対する単純な解\n",
    "\n",
    "本章に入る前に、ちょっとしたパズルを考えてみましょう。ここに数字の列があり、最も長い単調増加する（もしくは、減少しない）部分列を見つけたいとします。\n",
    "\n",
    "以下に、この問題の単純な解法を示しています。`itertools`の`combinations`や`sorted`など効率的な組み込み関数を使って処理しているので、オーバーヘッドはかなり少ないはずです。しかし、このアルゴリズムは単純なブルートフォース解です。\n"
   ]
  },
  {
   "cell_type": "code",
   "execution_count": 1,
   "metadata": {
    "ExecuteTime": {
     "end_time": "2020-11-04T07:10:05.147494Z",
     "start_time": "2020-11-04T07:10:05.143601Z"
    }
   },
   "outputs": [],
   "source": [
    "from itertools import combinations\n",
    "\n",
    "\n",
    "def naive_lis(seq):\n",
    "    for length in range(len(seq), 0, -1):       # n, n-1, ... , 1\n",
    "        for sub in combinations(seq, length):   # 与えられた列の部分列\n",
    "            if list(sub) == sorted(sub):        # 増加している列かどうかを確認\n",
    "                return sub                      # そうであれば、それを返す"
   ]
  },
  {
   "cell_type": "markdown",
   "metadata": {
    "ExecuteTime": {
     "end_time": "2020-11-02T04:26:40.850451Z",
     "start_time": "2020-11-02T04:26:40.846598Z"
    }
   },
   "source": [
    "以下は実行例です。"
   ]
  },
  {
   "cell_type": "code",
   "execution_count": 2,
   "metadata": {
    "ExecuteTime": {
     "end_time": "2020-11-04T07:10:05.515669Z",
     "start_time": "2020-11-04T07:10:05.508179Z"
    }
   },
   "outputs": [
    {
     "data": {
      "text/plain": [
       "(1, 2, 4)"
      ]
     },
     "execution_count": 2,
     "metadata": {},
     "output_type": "execute_result"
    }
   ],
   "source": [
    "naive_lis([3, 1, 0, 2, 4])\n",
    "# (1, 2, 4)"
   ]
  },
  {
   "cell_type": "code",
   "execution_count": 3,
   "metadata": {
    "ExecuteTime": {
     "end_time": "2020-11-04T07:10:05.521414Z",
     "start_time": "2020-11-04T07:10:05.517743Z"
    }
   },
   "outputs": [
    {
     "data": {
      "text/plain": [
       "(1, 2, 3, 4, 5, 6)"
      ]
     },
     "execution_count": 3,
     "metadata": {},
     "output_type": "execute_result"
    }
   ],
   "source": [
    "naive_lis([1, 0, 7, 2, 8, 3, 4, 9, 5, 6])\n",
    "# (1, 2, 3, 4, 5, 6)"
   ]
  },
  {
   "cell_type": "markdown",
   "metadata": {},
   "source": [
    "# 8-1 DRY(Don't Repeat Yourself)の原則"
   ]
  },
  {
   "cell_type": "markdown",
   "metadata": {},
   "source": [
    "## リスト8-2 メモ化デコレータ\n",
    "\n",
    "Fibonacci数列は、2つの数字から始まるものとして再帰的に定義され、その後の数字はすべて2つ前の数字の合計になります。これはPythonの関数として以下のように簡単に実装できます。"
   ]
  },
  {
   "cell_type": "code",
   "execution_count": 4,
   "metadata": {
    "ExecuteTime": {
     "end_time": "2020-11-04T07:10:06.186994Z",
     "start_time": "2020-11-04T07:10:06.184470Z"
    }
   },
   "outputs": [],
   "source": [
    "def fib(i):\n",
    "    if i < 2:\n",
    "        return 1\n",
    "    return fib(i-1) + fib(i-2)"
   ]
  },
  {
   "cell_type": "markdown",
   "metadata": {},
   "source": [
    "それでは、試してみましょう。"
   ]
  },
  {
   "cell_type": "code",
   "execution_count": 5,
   "metadata": {
    "ExecuteTime": {
     "end_time": "2020-11-04T07:10:06.512381Z",
     "start_time": "2020-11-04T07:10:06.509238Z"
    }
   },
   "outputs": [
    {
     "data": {
      "text/plain": [
       "89"
      ]
     },
     "execution_count": 5,
     "metadata": {},
     "output_type": "execute_result"
    }
   ],
   "source": [
    "fib(10)\n",
    "# 89"
   ]
  },
  {
   "cell_type": "markdown",
   "metadata": {},
   "source": [
    "これは正しそうですね。では、もっと大胆にいきましょう。"
   ]
  },
  {
   "cell_type": "code",
   "execution_count": 6,
   "metadata": {
    "ExecuteTime": {
     "end_time": "2020-11-04T07:10:06.840115Z",
     "start_time": "2020-11-04T07:10:06.837938Z"
    }
   },
   "outputs": [],
   "source": [
    "# fib(100) # これを実行すると固まってしまいます。"
   ]
  },
  {
   "cell_type": "markdown",
   "metadata": {
    "ExecuteTime": {
     "end_time": "2020-11-02T04:29:58.351015Z",
     "start_time": "2020-11-02T04:29:58.346991Z"
    }
   },
   "source": [
    "どうやら、固まってしまったようです。何かが明らかにおかしいですね。"
   ]
  },
  {
   "cell_type": "markdown",
   "metadata": {
    "ExecuteTime": {
     "end_time": "2020-11-02T04:33:54.443891Z",
     "start_time": "2020-11-02T04:33:54.440193Z"
    }
   },
   "source": [
    "これを回避するために、以下の実装では、`memo`関数を使っています。"
   ]
  },
  {
   "cell_type": "code",
   "execution_count": 7,
   "metadata": {
    "ExecuteTime": {
     "end_time": "2020-11-04T07:10:07.569811Z",
     "start_time": "2020-11-04T07:10:07.566067Z"
    }
   },
   "outputs": [],
   "source": [
    "from functools import wraps\n",
    "\n",
    "\n",
    "def memo(func):\n",
    "    cache = {}                                  # 部分問題の解をキャッシュする\n",
    "    @wraps(func)                                # wrapをfuncのように見せる\n",
    "    def wrap(*args):                            # メモ化するラッパ関数\n",
    "        if args not in cache:                   # すでに計算されているか?\n",
    "            cache[args] = func(*args)           # されていない場合、計算し、その解をキャッシュ\n",
    "        return cache[args]                      # キャッシュされている解を返す\n",
    "    return wrap                                 # ラッパー関数を返す\n"
   ]
  },
  {
   "cell_type": "markdown",
   "metadata": {},
   "source": [
    "`memo`が実際に何をやっているか話す前に、ひとまず使ってみましょう。"
   ]
  },
  {
   "cell_type": "code",
   "execution_count": 8,
   "metadata": {
    "ExecuteTime": {
     "end_time": "2020-11-04T07:10:07.956583Z",
     "start_time": "2020-11-04T07:10:07.942412Z"
    }
   },
   "outputs": [
    {
     "name": "stdout",
     "output_type": "stream",
     "text": [
      "573147844013817084101\n"
     ]
    }
   ],
   "source": [
    "fib = memo(fib)\n",
    "print(fib(100))\n",
    "# 573147844013817084101"
   ]
  },
  {
   "cell_type": "markdown",
   "metadata": {},
   "source": [
    "`memo`関数はさらに再利用しやすいデコレータとして使えるよう設計されています。"
   ]
  },
  {
   "cell_type": "code",
   "execution_count": 9,
   "metadata": {
    "ExecuteTime": {
     "end_time": "2020-11-04T07:10:08.383687Z",
     "start_time": "2020-11-04T07:10:08.378283Z"
    }
   },
   "outputs": [
    {
     "data": {
      "text/plain": [
       "573147844013817084101"
      ]
     },
     "execution_count": 9,
     "metadata": {},
     "output_type": "execute_result"
    }
   ],
   "source": [
    "@memo\n",
    "def fib(i):\n",
    "    if i < 2:\n",
    "        return 1\n",
    "    return fib(i-1) + fib(i-2)\n",
    "\n",
    "\n",
    "fib(100)\n",
    "# 573147844013817084101"
   ]
  },
  {
   "cell_type": "markdown",
   "metadata": {},
   "source": [
    "次のような2のべき乗の漸化式を考えてみましょう。"
   ]
  },
  {
   "cell_type": "code",
   "execution_count": 10,
   "metadata": {
    "ExecuteTime": {
     "end_time": "2020-11-04T07:10:08.778546Z",
     "start_time": "2020-11-04T07:10:08.773944Z"
    }
   },
   "outputs": [
    {
     "data": {
      "text/plain": [
       "1024"
      ]
     },
     "execution_count": 10,
     "metadata": {},
     "output_type": "execute_result"
    }
   ],
   "source": [
    "def two_pow(i):\n",
    "    if i == 0: \n",
    "        return 1\n",
    "    return two_pow(i-1) + two_pow(i-1)\n",
    "\n",
    "two_pow(10)\n",
    "# 1024"
   ]
  },
  {
   "cell_type": "code",
   "execution_count": 11,
   "metadata": {
    "ExecuteTime": {
     "end_time": "2020-11-04T07:10:08.783040Z",
     "start_time": "2020-11-04T07:10:08.780732Z"
    }
   },
   "outputs": [],
   "source": [
    "# two_pow(100)"
   ]
  },
  {
   "cell_type": "markdown",
   "metadata": {},
   "source": [
    "最後の行は固まってしまうようです。これも`@memo`を足すことで簡単に解が得られるでしょう。"
   ]
  },
  {
   "cell_type": "code",
   "execution_count": 12,
   "metadata": {
    "ExecuteTime": {
     "end_time": "2020-11-04T07:10:09.150284Z",
     "start_time": "2020-11-04T07:10:09.146986Z"
    }
   },
   "outputs": [],
   "source": [
    "@memo\n",
    "def two_pow(i):\n",
    "    if i == 0:\n",
    "        return 1\n",
    "    return two_pow(i-1) + two_pow(i-1)"
   ]
  },
  {
   "cell_type": "code",
   "execution_count": 13,
   "metadata": {
    "ExecuteTime": {
     "end_time": "2020-11-04T07:10:09.158126Z",
     "start_time": "2020-11-04T07:10:09.154439Z"
    }
   },
   "outputs": [
    {
     "data": {
      "text/plain": [
       "1024"
      ]
     },
     "execution_count": 13,
     "metadata": {},
     "output_type": "execute_result"
    }
   ],
   "source": [
    "two_pow(10)\n",
    "# 1024"
   ]
  },
  {
   "cell_type": "code",
   "execution_count": 14,
   "metadata": {
    "ExecuteTime": {
     "end_time": "2020-11-04T07:10:09.163694Z",
     "start_time": "2020-11-04T07:10:09.160842Z"
    }
   },
   "outputs": [
    {
     "name": "stdout",
     "output_type": "stream",
     "text": [
      "1267650600228229401496703205376\n"
     ]
    }
   ],
   "source": [
    "print(two_pow(100))\n",
    "# 1267650600228229401496703205376"
   ]
  },
  {
   "cell_type": "markdown",
   "metadata": {},
   "source": [
    "または、次のように変更を加えることでも、同じ結果が得られます。"
   ]
  },
  {
   "cell_type": "code",
   "execution_count": 15,
   "metadata": {
    "ExecuteTime": {
     "end_time": "2020-11-04T07:10:09.508239Z",
     "start_time": "2020-11-04T07:10:09.503956Z"
    }
   },
   "outputs": [
    {
     "data": {
      "text/plain": [
       "1024"
      ]
     },
     "execution_count": 15,
     "metadata": {},
     "output_type": "execute_result"
    }
   ],
   "source": [
    "def two_pow(i):\n",
    "    if i == 0:\n",
    "        return 1\n",
    "    return 2*two_pow(i-1)\n",
    "\n",
    "\n",
    "two_pow(10)\n",
    "# 1024"
   ]
  },
  {
   "cell_type": "code",
   "execution_count": 16,
   "metadata": {
    "ExecuteTime": {
     "end_time": "2020-11-04T07:10:09.513669Z",
     "start_time": "2020-11-04T07:10:09.510835Z"
    }
   },
   "outputs": [
    {
     "name": "stdout",
     "output_type": "stream",
     "text": [
      "1267650600228229401496703205376\n"
     ]
    }
   ],
   "source": [
    "print(two_pow(100))\n",
    "# 1267650600228229401496703205376"
   ]
  },
  {
   "cell_type": "markdown",
   "metadata": {},
   "source": [
    "$C (n, k)$のコードは、以下です。"
   ]
  },
  {
   "cell_type": "code",
   "execution_count": 17,
   "metadata": {
    "ExecuteTime": {
     "end_time": "2020-11-04T07:10:09.873085Z",
     "start_time": "2020-11-04T07:10:09.868705Z"
    }
   },
   "outputs": [
    {
     "data": {
      "text/plain": [
       "6"
      ]
     },
     "execution_count": 17,
     "metadata": {},
     "output_type": "execute_result"
    }
   ],
   "source": [
    "@memo\n",
    "def C(n, k):\n",
    "    if k == 0:\n",
    "        return 1\n",
    "    if n == 0:\n",
    "        return 0\n",
    "    return C(n-1, k-1) + C(n-1, k)\n",
    "\n",
    "\n",
    "C(4, 2)\n",
    "# 6"
   ]
  },
  {
   "cell_type": "code",
   "execution_count": 18,
   "metadata": {
    "ExecuteTime": {
     "end_time": "2020-11-04T07:10:09.881489Z",
     "start_time": "2020-11-04T07:10:09.875161Z"
    }
   },
   "outputs": [
    {
     "name": "stdout",
     "output_type": "stream",
     "text": [
      "100891344545564193334812497256\n"
     ]
    }
   ],
   "source": [
    "print(C(100, 50))\n",
    "# 100891344545564193334812497256"
   ]
  },
  {
   "cell_type": "code",
   "execution_count": 19,
   "metadata": {
    "ExecuteTime": {
     "end_time": "2020-11-04T07:10:09.888112Z",
     "start_time": "2020-11-04T07:10:09.884556Z"
    }
   },
   "outputs": [
    {
     "data": {
      "text/plain": [
       "120"
      ]
     },
     "execution_count": 19,
     "metadata": {},
     "output_type": "execute_result"
    }
   ],
   "source": [
    "C(10,7)\n",
    "# 120"
   ]
  },
  {
   "cell_type": "code",
   "execution_count": 20,
   "metadata": {
    "ExecuteTime": {
     "end_time": "2020-11-04T07:10:09.893230Z",
     "start_time": "2020-11-04T07:10:09.890176Z"
    }
   },
   "outputs": [
    {
     "data": {
      "text/plain": [
       "1"
      ]
     },
     "execution_count": 20,
     "metadata": {},
     "output_type": "execute_result"
    }
   ],
   "source": [
    "C(4, 4)\n",
    "# 1"
   ]
  },
  {
   "cell_type": "code",
   "execution_count": 21,
   "metadata": {
    "ExecuteTime": {
     "end_time": "2020-11-04T07:10:09.898437Z",
     "start_time": "2020-11-04T07:10:09.894806Z"
    }
   },
   "outputs": [
    {
     "data": {
      "text/plain": [
       "0"
      ]
     },
     "execution_count": 21,
     "metadata": {},
     "output_type": "execute_result"
    }
   ],
   "source": [
    "C(4, 5)\n",
    "# 0"
   ]
  },
  {
   "cell_type": "markdown",
   "metadata": {},
   "source": [
    "Pascalの三角形を直接埋めていき、反復を使ってアルゴリズムを実装してみましょう。話を簡単にするため、`defaultdict`をキャッシュとして使っていますが、入れ子構造のリストなど自由に他のものも使ってください。"
   ]
  },
  {
   "cell_type": "code",
   "execution_count": 22,
   "metadata": {
    "ExecuteTime": {
     "end_time": "2020-11-04T07:10:10.244789Z",
     "start_time": "2020-11-04T07:10:10.239634Z"
    }
   },
   "outputs": [
    {
     "data": {
      "text/plain": [
       "120"
      ]
     },
     "execution_count": 22,
     "metadata": {},
     "output_type": "execute_result"
    }
   ],
   "source": [
    "from collections import defaultdict\n",
    "n, k = 10, 7\n",
    "C = defaultdict(int)\n",
    "for row in range(n+1):\n",
    "    C[row,0] = 1\n",
    "    for col in range(1,k+1):\n",
    "        C[row,col] = C[row-1,col-1] + C[row-1,col]\n",
    "\n",
    "C[n,k]\n",
    "# 120"
   ]
  },
  {
   "cell_type": "markdown",
   "metadata": {},
   "source": [
    "## 8-2 有向非巡回グラフにおける最短経路"
   ]
  },
  {
   "cell_type": "markdown",
   "metadata": {},
   "source": [
    "## リスト8-3 メモ化を使った再帰的DAG最短経路\n",
    "\n",
    "以下にDAGにおける最短経路を見つけるアルゴリズムの直接的な実装を示します（エッジの重み関数は辞書の辞書で表されています）。"
   ]
  },
  {
   "cell_type": "code",
   "execution_count": 23,
   "metadata": {
    "ExecuteTime": {
     "end_time": "2020-11-04T07:10:11.034375Z",
     "start_time": "2020-11-04T07:10:11.029645Z"
    }
   },
   "outputs": [],
   "source": [
    "def rec_dag_sp(W, s, t):                        # sからtへの最短経路\n",
    "    @memo                                       # dをメモ化\n",
    "    def d(u):                                   # uからtまでの距離\n",
    "        if u == t:\n",
    "            return 0                            # 到着している場合\n",
    "        return min(W[u][v]+d(v) for v in W[u])  # 今のステップから選べる最短経路の距離\n",
    "    return d(s)                                 # dを実際の開始ノードsに適用"
   ]
  },
  {
   "cell_type": "code",
   "execution_count": 24,
   "metadata": {
    "ExecuteTime": {
     "end_time": "2020-11-04T07:10:11.041793Z",
     "start_time": "2020-11-04T07:10:11.037756Z"
    }
   },
   "outputs": [],
   "source": [
    "DAG = {\n",
    "    'a': {'b': 0},\n",
    "    'b': {'c': 4, 'd': 6},\n",
    "    'c': {'g': 2, 'h': -6},\n",
    "    'd': {'f': 3, 'e': 5},\n",
    "    'e': {'g': 0, 'h': -6},\n",
    "    'f': {'i': -1},\n",
    "    'g': {'h': 4},\n",
    "    'h': {'i': 7},\n",
    "    'i': {}\n",
    "}"
   ]
  },
  {
   "cell_type": "code",
   "execution_count": 25,
   "metadata": {
    "ExecuteTime": {
     "end_time": "2020-11-04T07:10:11.047871Z",
     "start_time": "2020-11-04T07:10:11.044224Z"
    }
   },
   "outputs": [
    {
     "data": {
      "text/plain": [
       "5"
      ]
     },
     "execution_count": 25,
     "metadata": {},
     "output_type": "execute_result"
    }
   ],
   "source": [
    "rec_dag_sp(DAG, 'a', 'i')\n",
    "# 5"
   ]
  },
  {
   "cell_type": "markdown",
   "metadata": {},
   "source": [
    "## リスト8-4 DAG最短経路\n",
    "\n",
    "以下の`dag_sp`関数は、より一般的な反復を使った解法を示しています。再帰をまったく使いたくない場合は、リスト4-10の`topsort`を使うことができます。"
   ]
  },
  {
   "cell_type": "code",
   "execution_count": 26,
   "metadata": {
    "ExecuteTime": {
     "end_time": "2020-11-04T07:10:11.443037Z",
     "start_time": "2020-11-04T07:10:11.437129Z"
    }
   },
   "outputs": [],
   "source": [
    "# 第4章より抜粋\n",
    "def topsort(G):\n",
    "    count = dict((u, 0) for u in G)             # 各ノードに対する入力次数\n",
    "    for u in G:\n",
    "        for v in G[u]:\n",
    "            count[v] += 1                       # すべての入力エッジを数える\n",
    "    Q = [u for u in G if count[u] == 0]         # 最初の有向なノード\n",
    "    S = []                                      # 結果\n",
    "    while Q:                                    # スタートノードがある限りwhileを継続\n",
    "        u = Q.pop()                             # 1つを抽出\n",
    "        S.append(u)                             # 抽出したものを残りの最初として使う\n",
    "        for v in G[u]:\n",
    "            count[v] -= 1                       # 出力エッジ分\"数え上げ\"を取り消す\n",
    "            if count[v] == 0:                   # 新しい有向なスタートノードがある場合\n",
    "                Q.append(v)                     # 次に扱う候補に追加\n",
    "    return S"
   ]
  },
  {
   "cell_type": "code",
   "execution_count": 27,
   "metadata": {
    "ExecuteTime": {
     "end_time": "2020-11-04T07:10:11.450960Z",
     "start_time": "2020-11-04T07:10:11.446163Z"
    }
   },
   "outputs": [],
   "source": [
    "def dag_sp(W, s, t):                            # sからtまでの最短経路\n",
    "    d = {u: float('inf') for u in W}            # 距離の推定\n",
    "    d[s] = 0                                    # 開始ノード: 距離は0\n",
    "    for u in topsort(W):                        # トポロジカルソートの順序で\n",
    "        if u == t:\n",
    "            break                               # 終点に到達した場合\n",
    "        for v in W[u]:                          # 各出力エッジに対して\n",
    "            d[v] = min(d[v], d[u] + W[u][v])    # エッジを緩和\n",
    "    return d[t]                                 # （sから）tへの距離"
   ]
  },
  {
   "cell_type": "code",
   "execution_count": 28,
   "metadata": {
    "ExecuteTime": {
     "end_time": "2020-11-04T07:10:11.459108Z",
     "start_time": "2020-11-04T07:10:11.454162Z"
    }
   },
   "outputs": [
    {
     "data": {
      "text/plain": [
       "5"
      ]
     },
     "execution_count": 28,
     "metadata": {},
     "output_type": "execute_result"
    }
   ],
   "source": [
    "dag_sp(DAG, 'a', 'i')\n",
    "# 5"
   ]
  },
  {
   "cell_type": "markdown",
   "metadata": {},
   "source": [
    "# 8−3 最長増加部分列 (LIS)"
   ]
  },
  {
   "cell_type": "markdown",
   "metadata": {},
   "source": [
    "## リスト8-5 最長増加部分列問題 (LIS) に対するメモ化と再帰を使った解法\n",
    "\n",
    "\n",
    "LISの解法を単純に再帰的に実装すると、指数関数的な実行時間にになりますが、以下に示すように、メモ化を使うことで指数関数的に増える冗長な計算を取り除くことができます。"
   ]
  },
  {
   "cell_type": "code",
   "execution_count": 29,
   "metadata": {
    "ExecuteTime": {
     "end_time": "2020-11-04T07:10:12.195437Z",
     "start_time": "2020-11-04T07:10:12.191467Z"
    }
   },
   "outputs": [],
   "source": [
    "def rec_lis(seq):                               # 最長増加部分列の長さを計算\n",
    "    @memo\n",
    "    def L(cur):                                 # seq[cur]で終わる最長部分列\n",
    "        res = 1                                 # 長さは少なくとも1\n",
    "        for pre in range(cur):                  # 先行ノードの候補を走査していく\n",
    "            if seq[pre] <= seq[cur]:            # 有効な（小さい）先行ノードの場合\n",
    "                res = max(res, 1 + L(pre))      # 解を改善するでしょうか？\n",
    "        return res\n",
    "    return max(L(i) for i in range(len(seq)))   # 最長増加部分列の長さを返す"
   ]
  },
  {
   "cell_type": "code",
   "execution_count": 30,
   "metadata": {
    "ExecuteTime": {
     "end_time": "2020-11-04T07:10:12.201929Z",
     "start_time": "2020-11-04T07:10:12.197784Z"
    }
   },
   "outputs": [
    {
     "data": {
      "text/plain": [
       "3"
      ]
     },
     "execution_count": 30,
     "metadata": {},
     "output_type": "execute_result"
    }
   ],
   "source": [
    "seq = [3, 1, 0, 2, 4]\n",
    "rec_lis(seq)\n",
    "# 3"
   ]
  },
  {
   "cell_type": "markdown",
   "metadata": {},
   "source": [
    "## リスト8-6 最長増加部分列問題 (LIS) に対する反復を使った基本的な解法\n",
    "\n",
    "反復を使った実装で必要なことは、再帰呼び出しをルックアップに変え、ループの中に入れることだけです。実装は以下をご覧ください。"
   ]
  },
  {
   "cell_type": "code",
   "execution_count": 31,
   "metadata": {
    "ExecuteTime": {
     "end_time": "2020-11-04T07:10:12.555129Z",
     "start_time": "2020-11-04T07:10:12.551756Z"
    }
   },
   "outputs": [],
   "source": [
    "def basic_lis(seq):\n",
    "    L = [1] * len(seq)\n",
    "    for cur, val in enumerate(seq):\n",
    "        for pre in range(cur):\n",
    "            if seq[pre] <= val:\n",
    "                L[cur] = max(L[cur], 1 + L[pre])\n",
    "    return max(L)"
   ]
  },
  {
   "cell_type": "code",
   "execution_count": 32,
   "metadata": {
    "ExecuteTime": {
     "end_time": "2020-11-04T07:10:12.560734Z",
     "start_time": "2020-11-04T07:10:12.557152Z"
    }
   },
   "outputs": [
    {
     "data": {
      "text/plain": [
       "3"
      ]
     },
     "execution_count": 32,
     "metadata": {},
     "output_type": "execute_result"
    }
   ],
   "source": [
    "basic_lis(seq)\n",
    "# 3"
   ]
  },
  {
   "cell_type": "markdown",
   "metadata": {},
   "source": [
    "## リスト8-7 最長増加部分列問題 (LIS) に対する反復を使った解法\n",
    "\n",
    "以下は、LISに対する解法の最終的な実装例です。"
   ]
  },
  {
   "cell_type": "code",
   "execution_count": 33,
   "metadata": {
    "ExecuteTime": {
     "end_time": "2020-11-04T07:10:12.912415Z",
     "start_time": "2020-11-04T07:10:12.908794Z"
    }
   },
   "outputs": [],
   "source": [
    "from bisect import bisect\n",
    "\n",
    "\n",
    "def lis(seq):                                   # 最長増加部分列\n",
    "    end = []                                    # 各位置での最長増加部分列の長さを保存\n",
    "    for val in seq:                             # すべての値を順に試す\n",
    "        idx = bisect(end, val)                  # 最後尾上に構築できるか\n",
    "        if idx == len(end):\n",
    "            end.append(val)                     # 最長部分列を拡張\n",
    "        else:\n",
    "            end[idx] = val                      # 最長増加部分列を現在の値で置き換える\n",
    "    return len(end)                             # 最長部分列を発見"
   ]
  },
  {
   "cell_type": "code",
   "execution_count": 34,
   "metadata": {
    "ExecuteTime": {
     "end_time": "2020-11-04T07:10:12.917590Z",
     "start_time": "2020-11-04T07:10:12.914593Z"
    }
   },
   "outputs": [
    {
     "data": {
      "text/plain": [
       "3"
      ]
     },
     "execution_count": 34,
     "metadata": {},
     "output_type": "execute_result"
    }
   ],
   "source": [
    "lis(seq)\n",
    "# 3"
   ]
  },
  {
   "cell_type": "markdown",
   "metadata": {},
   "source": [
    "以下のコードは、`basic_lis`, `rec_lis`, `lis`によってそれぞれソートした`seqs`がどれも同じ長さであることを確認してます。\n",
    "\n",
    "\n"
   ]
  },
  {
   "cell_type": "code",
   "execution_count": 35,
   "metadata": {
    "ExecuteTime": {
     "end_time": "2020-11-04T07:10:13.294603Z",
     "start_time": "2020-11-04T07:10:13.272259Z"
    }
   },
   "outputs": [],
   "source": [
    "from random import *\n",
    "seqs = [[randrange(100) for i in range(5+i)] for i in range(10)]\n",
    "seqs.append([1, 1, 1, 1, 2, 2, 2, 2, 0, 0, 0, 4, 3, 3, 3, 4, 4, 4])\n",
    "for seq in seqs:\n",
    "    res = naive_lis(seq)\n",
    "    for f in [basic_lis, rec_lis, lis]:\n",
    "        res2 = f(seq)\n",
    "        assert res2 == len(res), (res, seq, res2, f)"
   ]
  },
  {
   "cell_type": "markdown",
   "metadata": {},
   "source": [
    "# 8-4 列の比較"
   ]
  },
  {
   "cell_type": "markdown",
   "metadata": {},
   "source": [
    "## リスト8-8 最長共通部分列問題 (LCS) に対するメモ化と再帰を使った解法\n",
    "\n",
    "以下、メモ化を使ったこの再帰的な解の簡単な実装を示します。"
   ]
  },
  {
   "cell_type": "code",
   "execution_count": 36,
   "metadata": {
    "ExecuteTime": {
     "end_time": "2020-11-04T07:10:13.981062Z",
     "start_time": "2020-11-04T07:10:13.976624Z"
    }
   },
   "outputs": [],
   "source": [
    "def rec_lcs(a, b):                               # 最長共通部分列\n",
    "    @memo                                        # Lをメモ化\n",
    "    def L(i, j):                                 # プレフィックスはa[:i] と b[:j]\n",
    "        if min(i, j) < 0:\n",
    "            return 0                             # どちらかのプレフィックスが空の場合\n",
    "        if a[i] == b[j]:\n",
    "            return 1 + L(i-1, j-1)               # 等しい場合、対角線上に移動\n",
    "        return max(L(i-1, j), L(i, j-1))         # a[i]かb[j]を取り除く\n",
    "    return L(len(a)-1, len(b)-1)                 # 全体の列に対してLを実行"
   ]
  },
  {
   "cell_type": "code",
   "execution_count": 37,
   "metadata": {
    "ExecuteTime": {
     "end_time": "2020-11-04T07:10:13.986679Z",
     "start_time": "2020-11-04T07:10:13.983275Z"
    }
   },
   "outputs": [
    {
     "data": {
      "text/plain": [
       "3"
      ]
     },
     "execution_count": 37,
     "metadata": {},
     "output_type": "execute_result"
    }
   ],
   "source": [
    "rec_lcs(\"spock\", \"asoka\")\n",
    "# 3"
   ]
  },
  {
   "cell_type": "code",
   "execution_count": 38,
   "metadata": {
    "ExecuteTime": {
     "end_time": "2020-11-04T07:10:13.992301Z",
     "start_time": "2020-11-04T07:10:13.988775Z"
    }
   },
   "outputs": [
    {
     "data": {
      "text/plain": [
       "4"
      ]
     },
     "execution_count": 38,
     "metadata": {},
     "output_type": "execute_result"
    }
   ],
   "source": [
    "rec_lcs(\"AGCGA\", \"CAGATAGAG\")\n",
    "# 4"
   ]
  },
  {
   "cell_type": "code",
   "execution_count": 39,
   "metadata": {
    "ExecuteTime": {
     "end_time": "2020-11-04T07:10:13.997335Z",
     "start_time": "2020-11-04T07:10:13.994274Z"
    }
   },
   "outputs": [
    {
     "data": {
      "text/plain": [
       "5"
      ]
     },
     "execution_count": 39,
     "metadata": {},
     "output_type": "execute_result"
    }
   ],
   "source": [
    "rec_lcs(\"Starbuck\", \"Starwalker\")\n",
    "# 5"
   ]
  },
  {
   "cell_type": "markdown",
   "metadata": {},
   "source": [
    "## リスト8-9 最長共通部分列問題 (LCS) に対する反復を使った解法\n",
    "\n",
    "リスト8-8の解法を反転させ、反復を使ったものにすることもできます。以下の実装はDP行列の現在と1つ前の行のみを保存することでメモリを節約しています"
   ]
  },
  {
   "cell_type": "code",
   "execution_count": 40,
   "metadata": {
    "ExecuteTime": {
     "end_time": "2020-11-04T07:10:14.347949Z",
     "start_time": "2020-11-04T07:10:14.343477Z"
    }
   },
   "outputs": [],
   "source": [
    "def lcs(a, b):\n",
    "    n, m = len(a), len(b)\n",
    "    pre, cur = [0]*(n+1), [0]*(n+1)             # 前と現在の行\n",
    "    for j in range(1, m+1):                     # b上を走査\n",
    "        pre, cur = cur, pre                     # 前の行を保存, 現在の値を上書き\n",
    "        for i in range(1, n+1):                 # a上を走査\n",
    "            if a[i-1] == b[j-1]:                # プレフィックスの最後の要素が等しい場合\n",
    "                cur[i] = pre[i-1] + 1           # L(i,j) = L(i-1,j-1) + 1\n",
    "            else:                               # そうでない場合、\n",
    "                cur[i] = max(pre[i], cur[i-1])  # max(L(i,j-1),L(i-1,j))\n",
    "    return cur[n]                               # L(n,m)と等しい"
   ]
  },
  {
   "cell_type": "code",
   "execution_count": 41,
   "metadata": {
    "ExecuteTime": {
     "end_time": "2020-11-04T07:10:14.353724Z",
     "start_time": "2020-11-04T07:10:14.350354Z"
    }
   },
   "outputs": [
    {
     "data": {
      "text/plain": [
       "3"
      ]
     },
     "execution_count": 41,
     "metadata": {},
     "output_type": "execute_result"
    }
   ],
   "source": [
    "lcs(\"spock\", \"asoka\")\n",
    "# 3"
   ]
  },
  {
   "cell_type": "code",
   "execution_count": 42,
   "metadata": {
    "ExecuteTime": {
     "end_time": "2020-11-04T07:10:14.358240Z",
     "start_time": "2020-11-04T07:10:14.355295Z"
    }
   },
   "outputs": [
    {
     "data": {
      "text/plain": [
       "4"
      ]
     },
     "execution_count": 42,
     "metadata": {},
     "output_type": "execute_result"
    }
   ],
   "source": [
    "lcs(\"AGCGA\", \"CAGATAGAG\")\n",
    "# 4"
   ]
  },
  {
   "cell_type": "code",
   "execution_count": 43,
   "metadata": {
    "ExecuteTime": {
     "end_time": "2020-11-04T07:10:14.363296Z",
     "start_time": "2020-11-04T07:10:14.360389Z"
    }
   },
   "outputs": [
    {
     "data": {
      "text/plain": [
       "5"
      ]
     },
     "execution_count": 43,
     "metadata": {},
     "output_type": "execute_result"
    }
   ],
   "source": [
    "lcs(\"Starbuck\", \"Starwalker\")\n",
    "# 5"
   ]
  },
  {
   "cell_type": "markdown",
   "metadata": {
    "ExecuteTime": {
     "end_time": "2020-07-05T06:03:07.414029Z",
     "start_time": "2020-07-05T06:03:07.411517Z"
    }
   },
   "source": [
    "# 8-5 ナップサック問題の反撃"
   ]
  },
  {
   "cell_type": "markdown",
   "metadata": {},
   "source": [
    "## リスト8-10 制限なし整数ナップサック問題に対するメモ化と再帰を使った解法\n",
    "\n",
    "以下の実装は、メモ化によって指数関数的な冗長さをうまく処理しています。"
   ]
  },
  {
   "cell_type": "code",
   "execution_count": 44,
   "metadata": {
    "ExecuteTime": {
     "end_time": "2020-11-04T07:10:15.086111Z",
     "start_time": "2020-11-04T07:10:15.081955Z"
    }
   },
   "outputs": [],
   "source": [
    "def rec_unbounded_knapsack(w, v, c):            # 重みw、価値v、容量c\n",
    "    @memo                                       # mはメモ化されている\n",
    "    def m(r):                                   # 残りの容量に対して最大の値を返す\n",
    "        if r == 0:\n",
    "            return 0                            # 容量がない場合、価値は0\n",
    "        val = m(r-1)                            # 最後の単位容量を無視\n",
    "        for i, wi in enumerate(w):              # すべてのオブジェクトを試す\n",
    "            if wi > r:\n",
    "                continue                        # 重すぎる場合は無視\n",
    "            val = max(val, v[i] + m(r-wi))      # 価値を足し、重みを引く\n",
    "        return val                              # 最後のオブジェクトの中で最大値を返す\n",
    "    return m(c)                                 # 全容量が可能な場合で計算"
   ]
  },
  {
   "cell_type": "markdown",
   "metadata": {},
   "source": [
    "## リスト8-11 制限なし整数ナップサック問題に対する反復を使った解法\n",
    "\n",
    "以下の実装は、反復を使ってこのアルゴリズムの実装したものです。ご覧の通り、2つの実装\n",
    "は、再帰を`for`ループで置き換え、キャッシュをリストで置き換えたこと以外はほぼ同じです。"
   ]
  },
  {
   "cell_type": "code",
   "execution_count": 45,
   "metadata": {
    "ExecuteTime": {
     "end_time": "2020-11-04T07:10:15.607487Z",
     "start_time": "2020-11-04T07:10:15.599898Z"
    }
   },
   "outputs": [],
   "source": [
    "def unbounded_knapsack(w, v, c):\n",
    "    m = [0]\n",
    "    for r in range(1, c+1):\n",
    "        val = m[r-1]\n",
    "        for i, wi in enumerate(w):\n",
    "            if wi > r:\n",
    "                continue\n",
    "            val = max(val, v[i] + m[r-wi])\n",
    "        m.append(val)\n",
    "    return m[c]"
   ]
  },
  {
   "cell_type": "markdown",
   "metadata": {},
   "source": [
    "以下、2つの実装による答えが同じことを確認できます。\n"
   ]
  },
  {
   "cell_type": "code",
   "execution_count": 46,
   "metadata": {
    "ExecuteTime": {
     "end_time": "2020-11-04T07:10:16.005458Z",
     "start_time": "2020-11-04T07:10:16.000867Z"
    }
   },
   "outputs": [
    {
     "data": {
      "text/plain": [
       "[12, 12]"
      ]
     },
     "execution_count": 46,
     "metadata": {},
     "output_type": "execute_result"
    }
   ],
   "source": [
    "funcs = [rec_unbounded_knapsack, unbounded_knapsack]\n",
    "w, v = [1, 2], [2, 5]\n",
    "[f(w, v, 5) for f in funcs]\n",
    "# [12, 12]"
   ]
  },
  {
   "cell_type": "code",
   "execution_count": 47,
   "metadata": {
    "ExecuteTime": {
     "end_time": "2020-11-04T07:10:16.011490Z",
     "start_time": "2020-11-04T07:10:16.007561Z"
    }
   },
   "outputs": [
    {
     "data": {
      "text/plain": [
       "[13, 13]"
      ]
     },
     "execution_count": 47,
     "metadata": {},
     "output_type": "execute_result"
    }
   ],
   "source": [
    "w, v = [3, 2, 4], [5, 4, 2]\n",
    "[f(w, v, 7) for f in funcs]\n",
    "# [13, 13]"
   ]
  },
  {
   "cell_type": "markdown",
   "metadata": {},
   "source": [
    "## リスト8-12 0-1​ナップサック問題に対するメモ化と再帰を使った解法\n",
    "\n",
    "0-1ナップサック問題に対する解法の実装は以下をご覧ください。"
   ]
  },
  {
   "cell_type": "code",
   "execution_count": 48,
   "metadata": {
    "ExecuteTime": {
     "end_time": "2020-11-04T07:10:16.401317Z",
     "start_time": "2020-11-04T07:10:16.397132Z"
    }
   },
   "outputs": [],
   "source": [
    "def rec_knapsack(w, v, c):                      # 重みw, 価値v, 容量c\n",
    "    @memo                                       # メモ化されている関数m\n",
    "    def m(k, r):                                # k個のオブジェクトと容量rに対する最大値v\n",
    "        if k == 0 or r == 0:\n",
    "            return 0                            # オブジェクト0, 容量0\n",
    "        i = k-1                                 # 検討中のオブジェクト\n",
    "        drop = m(k-1, r)                        # オブジェクトを入れない時の価値\n",
    "        if w[i] > r: \n",
    "            return drop                         # 重すぎる場合、オブジェクトは入れない\n",
    "        return max(drop, v[i] + m(k-1, r-w[i])) # 入れた場合と入れなかった場合で大きい方\n",
    "    return m(len(w), c)                         # すべてのオブジェクト、すべての容量に対して"
   ]
  },
  {
   "cell_type": "markdown",
   "metadata": {},
   "source": [
    "## リスト8-13 0-1ナップサック問題に対する反復を使った解法\n",
    "\n",
    "以下に示す反復を使ったナップサック問題に対する解の実装は、`P`と呼ばれる追加のテーブルを作っています。"
   ]
  },
  {
   "cell_type": "code",
   "execution_count": 49,
   "metadata": {
    "ExecuteTime": {
     "end_time": "2020-11-04T07:10:16.795334Z",
     "start_time": "2020-11-04T07:10:16.789787Z"
    }
   },
   "outputs": [],
   "source": [
    "def knapsack(w, v, c):                          # 解を表す行列を返す\n",
    "    n = len(w)                                  # 使用可能なアイテムの数\n",
    "    m = [[0]*(c+1) for i in range(n+1)]         # 最大値を格納する空の行列\n",
    "    P = [[False]*(c+1) for i in range(n+1)]     # 取捨選択を格納する行列\n",
    "    for k in range(1, n+1):                     # k番目のオブジェクトを考慮\n",
    "        i = k-1                                 # 検討中のオブジェクト\n",
    "        for r in range(1, c+1):                 # すべて正の容量\n",
    "            m[k][r] = drop = m[k-1][r]          # デフォルトは除去する\n",
    "            if w[i] > r:\n",
    "                continue                        # 重すぎる場合、無視\n",
    "            keep = v[i] + m[k-1][r-w[i]]        # ナップサックに入れたときの価値\n",
    "            m[k][r] = max(drop, keep)           # 入れた時と入れない時で結果が良い方\n",
    "            P[k][r] = keep > drop               # 入れたかどうか\n",
    "    return m, P                                 # 結果すべてを返す"
   ]
  },
  {
   "cell_type": "code",
   "execution_count": 50,
   "metadata": {
    "ExecuteTime": {
     "end_time": "2020-11-04T07:10:16.803585Z",
     "start_time": "2020-11-04T07:10:16.797482Z"
    }
   },
   "outputs": [
    {
     "data": {
      "text/plain": [
       "[0, 1]"
      ]
     },
     "execution_count": 50,
     "metadata": {},
     "output_type": "execute_result"
    }
   ],
   "source": [
    "w, v, c = [2, 3, 4, 5], [3, 4, 5, 6], 5\n",
    "m, P = knapsack(w, v, c)\n",
    "k, r, items = len(w), c, set()\n",
    "while k > 0 and r > 0:\n",
    "    i = k-1\n",
    "    if P[k][r]:\n",
    "        items.add(i)\n",
    "        r -= w[i]\n",
    "    k -= 1\n",
    "\n",
    "sorted(items)\n",
    "# [0, 1]"
   ]
  },
  {
   "cell_type": "markdown",
   "metadata": {},
   "source": [
    "# 8-6 二値列分割"
   ]
  },
  {
   "cell_type": "markdown",
   "metadata": {},
   "source": [
    "## リスト8-14 最適探索コストの期待値を求めるメモ化と再帰を使った解法\n",
    "\n",
    "\n",
    "以下の実装は、総和を表す関数`s(i, j)`をメモ化して使っています。"
   ]
  },
  {
   "cell_type": "code",
   "execution_count": 51,
   "metadata": {
    "ExecuteTime": {
     "end_time": "2020-11-04T07:10:17.557737Z",
     "start_time": "2020-11-04T07:10:17.553655Z"
    }
   },
   "outputs": [],
   "source": [
    "def rec_opt_tree(p):\n",
    "    @memo\n",
    "    def s(i, j):\n",
    "        if i == j:\n",
    "            return 0\n",
    "        return s(i, j-1) + p[j-1]\n",
    "\n",
    "    @memo\n",
    "    def e(i, j):\n",
    "        if i == j:\n",
    "            return 0\n",
    "        sub = min(e(i, r) + e(r+1, j) for r in range(i, j))\n",
    "        return sub + s(i, j)\n",
    "    return e(0, len(p))"
   ]
  },
  {
   "cell_type": "code",
   "execution_count": 52,
   "metadata": {
    "ExecuteTime": {
     "end_time": "2020-11-04T07:10:17.563650Z",
     "start_time": "2020-11-04T07:10:17.559930Z"
    }
   },
   "outputs": [
    {
     "data": {
      "text/plain": [
       "2.1"
      ]
     },
     "execution_count": 52,
     "metadata": {},
     "output_type": "execute_result"
    }
   ],
   "source": [
    "w = [0.25, 0.2, 0.05, 0.2, 0.3]\n",
    "rec_opt_tree(w)\n",
    "# 2.1"
   ]
  },
  {
   "cell_type": "markdown",
   "metadata": {},
   "source": [
    "## リスト8-15 最適探索コストの期待値を求める反復を使った解法\n",
    "\n",
    "以下の反復を使った実装はメモ化を使った実装と多くの点で似ています。"
   ]
  },
  {
   "cell_type": "code",
   "execution_count": 53,
   "metadata": {
    "ExecuteTime": {
     "end_time": "2020-11-04T07:10:18.000281Z",
     "start_time": "2020-11-04T07:10:17.995339Z"
    }
   },
   "outputs": [],
   "source": [
    "from collections import defaultdict\n",
    "\n",
    "\n",
    "def opt_tree(p):\n",
    "    n = len(p)\n",
    "    s, e = defaultdict(int), defaultdict(int)\n",
    "    for k in range(1, n+1):\n",
    "        for i in range(n-k+1):\n",
    "            j = i + k\n",
    "            s[i, j] = s[i, j-1] + p[j-1]\n",
    "            e[i, j] = min(e[i, r] + e[r+1, j] for r in range(i, j))\n",
    "            e[i, j] += s[i, j]\n",
    "    return e[0, n]"
   ]
  },
  {
   "cell_type": "code",
   "execution_count": 54,
   "metadata": {
    "ExecuteTime": {
     "end_time": "2020-11-04T07:10:18.006496Z",
     "start_time": "2020-11-04T07:10:18.003240Z"
    }
   },
   "outputs": [
    {
     "data": {
      "text/plain": [
       "2.1"
      ]
     },
     "execution_count": 54,
     "metadata": {},
     "output_type": "execute_result"
    }
   ],
   "source": [
    "opt_tree(w)\n",
    "# 2.1"
   ]
  },
  {
   "cell_type": "code",
   "execution_count": 55,
   "metadata": {
    "ExecuteTime": {
     "end_time": "2020-11-04T07:10:18.015099Z",
     "start_time": "2020-11-04T07:10:18.008587Z"
    }
   },
   "outputs": [],
   "source": [
    "from random import *\n",
    "ws = [[random() for i in range(randrange(4,9))] for j in range(20)]\n",
    "for w in ws:\n",
    "    assert rec_opt_tree(w) == opt_tree(w)"
   ]
  }
 ],
 "metadata": {
  "hide_input": false,
  "kernelspec": {
   "display_name": "Python (py36)",
   "language": "python",
   "name": "py36"
  },
  "language_info": {
   "codemirror_mode": {
    "name": "ipython",
    "version": 3
   },
   "file_extension": ".py",
   "mimetype": "text/x-python",
   "name": "python",
   "nbconvert_exporter": "python",
   "pygments_lexer": "ipython3",
   "version": "3.6.7"
  },
  "toc": {
   "base_numbering": 1,
   "nav_menu": {},
   "number_sections": false,
   "sideBar": true,
   "skip_h1_title": false,
   "title_cell": "Table of Contents",
   "title_sidebar": "Contents",
   "toc_cell": true,
   "toc_position": {},
   "toc_section_display": true,
   "toc_window_display": true
  },
  "varInspector": {
   "cols": {
    "lenName": 16,
    "lenType": 16,
    "lenVar": 40
   },
   "kernels_config": {
    "python": {
     "delete_cmd_postfix": "",
     "delete_cmd_prefix": "del ",
     "library": "var_list.py",
     "varRefreshCmd": "print(var_dic_list())"
    },
    "r": {
     "delete_cmd_postfix": ") ",
     "delete_cmd_prefix": "rm(",
     "library": "var_list.r",
     "varRefreshCmd": "cat(var_dic_list()) "
    }
   },
   "types_to_exclude": [
    "module",
    "function",
    "builtin_function_or_method",
    "instance",
    "_Feature"
   ],
   "window_display": false
  }
 },
 "nbformat": 4,
 "nbformat_minor": 2
}
